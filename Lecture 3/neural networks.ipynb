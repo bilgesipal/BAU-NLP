{
 "cells": [
  {
   "metadata": {},
   "cell_type": "markdown",
   "source": [
    "# Massive Text Embedding Benchmark\n",
    "\n",
    "\n",
    "https://huggingface.co/datasets/mteb/tweet_sentiment_extraction"
   ],
   "id": "53bbae43f0926ec5"
  },
  {
   "metadata": {
    "ExecuteTime": {
     "end_time": "2025-10-24T17:56:25.648622Z",
     "start_time": "2025-10-24T17:56:22.866140Z"
    }
   },
   "cell_type": "code",
   "source": [
    "from datasets import load_dataset\n",
    "# Login using e.g. `huggingface-cli login` to access this dataset\n",
    "ds = load_dataset(\"mteb/tweet_sentiment_extraction\")"
   ],
   "id": "bf67e687383ea3cc",
   "outputs": [],
   "execution_count": 135
  },
  {
   "metadata": {
    "ExecuteTime": {
     "end_time": "2025-10-24T17:56:27.052692Z",
     "start_time": "2025-10-24T17:56:27.045292Z"
    }
   },
   "cell_type": "code",
   "source": "ds",
   "id": "411f085b67b04690",
   "outputs": [
    {
     "data": {
      "text/plain": [
       "DatasetDict({\n",
       "    train: Dataset({\n",
       "        features: ['id', 'text', 'label', 'label_text'],\n",
       "        num_rows: 26732\n",
       "    })\n",
       "    test: Dataset({\n",
       "        features: ['id', 'text', 'label', 'label_text'],\n",
       "        num_rows: 3432\n",
       "    })\n",
       "})"
      ]
     },
     "execution_count": 136,
     "metadata": {},
     "output_type": "execute_result"
    }
   ],
   "execution_count": 136
  },
  {
   "metadata": {
    "ExecuteTime": {
     "end_time": "2025-10-24T17:56:42.722426Z",
     "start_time": "2025-10-24T17:56:42.716111Z"
    }
   },
   "cell_type": "code",
   "source": [
    "#Explore the dataset\n",
    "ds['train'][0]"
   ],
   "id": "202b546ba97fa3a8",
   "outputs": [
    {
     "data": {
      "text/plain": [
       "{'id': 'cb774db0d1',\n",
       " 'text': ' I`d have responded, if I were going',\n",
       " 'label': 1,\n",
       " 'label_text': 'neutral'}"
      ]
     },
     "execution_count": 137,
     "metadata": {},
     "output_type": "execute_result"
    }
   ],
   "execution_count": 137
  },
  {
   "metadata": {
    "ExecuteTime": {
     "end_time": "2025-10-24T17:57:20.503327Z",
     "start_time": "2025-10-24T17:57:19.543292Z"
    }
   },
   "cell_type": "code",
   "source": [
    "label_map = {str(lbl): lbl_txt for lbl, lbl_txt in zip(ds['train']['label'], ds['train']['label_text'])}\n",
    "label_map"
   ],
   "id": "edcfba55e1709dad",
   "outputs": [
    {
     "data": {
      "text/plain": [
       "{'1': 'neutral', '0': 'negative', '2': 'positive'}"
      ]
     },
     "execution_count": 138,
     "metadata": {},
     "output_type": "execute_result"
    }
   ],
   "execution_count": 138
  },
  {
   "metadata": {},
   "cell_type": "markdown",
   "source": "# Training a SentencePiece Tokenizer",
   "id": "6e07bcc0292407da"
  },
  {
   "metadata": {
    "ExecuteTime": {
     "end_time": "2025-10-24T17:57:43.706139Z",
     "start_time": "2025-10-24T17:57:42.644457Z"
    }
   },
   "cell_type": "code",
   "source": [
    "import json\n",
    "with open(\"corpus.txt\", \"w\", encoding=\"utf-8\") as f:\n",
    "    for line in ds[\"train\"]:\n",
    "        words = line['text']\n",
    "        f.write(words + \"\\n\")"
   ],
   "id": "952312c5d264143b",
   "outputs": [],
   "execution_count": 139
  },
  {
   "metadata": {
    "ExecuteTime": {
     "end_time": "2025-10-24T17:57:47.479029Z",
     "start_time": "2025-10-24T17:57:46.298592Z"
    }
   },
   "cell_type": "code",
   "source": [
    "import sentencepiece as spm\n",
    "import json\n",
    "import os\n",
    "\n",
    "\n",
    "options = dict(\n",
    "  input=\"corpus.txt\",\n",
    "  input_format=\"text\",\n",
    "  model_prefix=\"simple_nn_tok\",\n",
    "  model_type=\"bpe\",\n",
    "  vocab_size=2048,\n",
    "  byte_fallback=True,\n",
    "  num_threads=os.cpu_count()\n",
    ")\n",
    "\n",
    "spm.SentencePieceTrainer.train(**options);\n",
    "\n"
   ],
   "id": "e5e1081d3505affa",
   "outputs": [
    {
     "name": "stderr",
     "output_type": "stream",
     "text": [
      "sentencepiece_trainer.cc(78) LOG(INFO) Starts training with : \n",
      "trainer_spec {\n",
      "  input: corpus.txt\n",
      "  input_format: text\n",
      "  model_prefix: simple_nn_tok\n",
      "  model_type: BPE\n",
      "  vocab_size: 2048\n",
      "  self_test_sample_size: 0\n",
      "  character_coverage: 0.9995\n",
      "  input_sentence_size: 0\n",
      "  shuffle_input_sentence: 1\n",
      "  seed_sentencepiece_size: 1000000\n",
      "  shrinking_factor: 0.75\n",
      "  max_sentence_length: 4192\n",
      "  num_threads: 12\n",
      "  num_sub_iterations: 2\n",
      "  max_sentencepiece_length: 16\n",
      "  split_by_unicode_script: 1\n",
      "  split_by_number: 1\n",
      "  split_by_whitespace: 1\n",
      "  split_digits: 0\n",
      "  pretokenization_delimiter: \n",
      "  treat_whitespace_as_suffix: 0\n",
      "  allow_whitespace_only_pieces: 0\n",
      "  required_chars: \n",
      "  byte_fallback: 1\n",
      "  vocabulary_output_piece_score: 1\n",
      "  train_extremely_large_corpus: 0\n",
      "  seed_sentencepieces_file: \n",
      "  hard_vocab_limit: 1\n",
      "  use_all_vocab: 0\n",
      "  unk_id: 0\n",
      "  bos_id: 1\n",
      "  eos_id: 2\n",
      "  pad_id: -1\n",
      "  unk_piece: <unk>\n",
      "  bos_piece: <s>\n",
      "  eos_piece: </s>\n",
      "  pad_piece: <pad>\n",
      "  unk_surface:  ⁇ \n",
      "  enable_differential_privacy: 0\n",
      "  differential_privacy_noise_level: 0\n",
      "  differential_privacy_clipping_threshold: 0\n",
      "}\n",
      "normalizer_spec {\n",
      "  name: nmt_nfkc\n",
      "  add_dummy_prefix: 1\n",
      "  remove_extra_whitespaces: 1\n",
      "  escape_whitespaces: 1\n",
      "  normalization_rule_tsv: \n",
      "}\n",
      "denormalizer_spec {}\n",
      "trainer_interface.cc(355) LOG(INFO) SentenceIterator is not specified. Using MultiFileSentenceIterator.\n",
      "trainer_interface.cc(186) LOG(INFO) Loading corpus: corpus.txt\n",
      "trainer_interface.cc(411) LOG(INFO) Loaded all 26732 sentences\n",
      "trainer_interface.cc(427) LOG(INFO) Adding meta_piece: <unk>\n",
      "trainer_interface.cc(427) LOG(INFO) Adding meta_piece: <s>\n",
      "trainer_interface.cc(427) LOG(INFO) Adding meta_piece: </s>\n",
      "trainer_interface.cc(427) LOG(INFO) Adding meta_piece: <0x00>\n",
      "trainer_interface.cc(427) LOG(INFO) Adding meta_piece: <0x01>\n",
      "trainer_interface.cc(427) LOG(INFO) Adding meta_piece: <0x02>\n",
      "trainer_interface.cc(427) LOG(INFO) Adding meta_piece: <0x03>\n",
      "trainer_interface.cc(427) LOG(INFO) Adding meta_piece: <0x04>\n",
      "trainer_interface.cc(427) LOG(INFO) Adding meta_piece: <0x05>\n",
      "trainer_interface.cc(427) LOG(INFO) Adding meta_piece: <0x06>\n",
      "trainer_interface.cc(427) LOG(INFO) Adding meta_piece: <0x07>\n",
      "trainer_interface.cc(427) LOG(INFO) Adding meta_piece: <0x08>\n",
      "trainer_interface.cc(427) LOG(INFO) Adding meta_piece: <0x09>\n",
      "trainer_interface.cc(427) LOG(INFO) Adding meta_piece: <0x0A>\n",
      "trainer_interface.cc(427) LOG(INFO) Adding meta_piece: <0x0B>\n",
      "trainer_interface.cc(427) LOG(INFO) Adding meta_piece: <0x0C>\n",
      "trainer_interface.cc(427) LOG(INFO) Adding meta_piece: <0x0D>\n",
      "trainer_interface.cc(427) LOG(INFO) Adding meta_piece: <0x0E>\n",
      "trainer_interface.cc(427) LOG(INFO) Adding meta_piece: <0x0F>\n",
      "trainer_interface.cc(427) LOG(INFO) Adding meta_piece: <0x10>\n",
      "trainer_interface.cc(427) LOG(INFO) Adding meta_piece: <0x11>\n",
      "trainer_interface.cc(427) LOG(INFO) Adding meta_piece: <0x12>\n",
      "trainer_interface.cc(427) LOG(INFO) Adding meta_piece: <0x13>\n",
      "trainer_interface.cc(427) LOG(INFO) Adding meta_piece: <0x14>\n",
      "trainer_interface.cc(427) LOG(INFO) Adding meta_piece: <0x15>\n",
      "trainer_interface.cc(427) LOG(INFO) Adding meta_piece: <0x16>\n",
      "trainer_interface.cc(427) LOG(INFO) Adding meta_piece: <0x17>\n",
      "trainer_interface.cc(427) LOG(INFO) Adding meta_piece: <0x18>\n",
      "trainer_interface.cc(427) LOG(INFO) Adding meta_piece: <0x19>\n",
      "trainer_interface.cc(427) LOG(INFO) Adding meta_piece: <0x1A>\n",
      "trainer_interface.cc(427) LOG(INFO) Adding meta_piece: <0x1B>\n",
      "trainer_interface.cc(427) LOG(INFO) Adding meta_piece: <0x1C>\n",
      "trainer_interface.cc(427) LOG(INFO) Adding meta_piece: <0x1D>\n",
      "trainer_interface.cc(427) LOG(INFO) Adding meta_piece: <0x1E>\n",
      "trainer_interface.cc(427) LOG(INFO) Adding meta_piece: <0x1F>\n",
      "trainer_interface.cc(427) LOG(INFO) Adding meta_piece: <0x20>\n",
      "trainer_interface.cc(427) LOG(INFO) Adding meta_piece: <0x21>\n",
      "trainer_interface.cc(427) LOG(INFO) Adding meta_piece: <0x22>\n",
      "trainer_interface.cc(427) LOG(INFO) Adding meta_piece: <0x23>\n",
      "trainer_interface.cc(427) LOG(INFO) Adding meta_piece: <0x24>\n",
      "trainer_interface.cc(427) LOG(INFO) Adding meta_piece: <0x25>\n",
      "trainer_interface.cc(427) LOG(INFO) Adding meta_piece: <0x26>\n",
      "trainer_interface.cc(427) LOG(INFO) Adding meta_piece: <0x27>\n",
      "trainer_interface.cc(427) LOG(INFO) Adding meta_piece: <0x28>\n",
      "trainer_interface.cc(427) LOG(INFO) Adding meta_piece: <0x29>\n",
      "trainer_interface.cc(427) LOG(INFO) Adding meta_piece: <0x2A>\n",
      "trainer_interface.cc(427) LOG(INFO) Adding meta_piece: <0x2B>\n",
      "trainer_interface.cc(427) LOG(INFO) Adding meta_piece: <0x2C>\n",
      "trainer_interface.cc(427) LOG(INFO) Adding meta_piece: <0x2D>\n",
      "trainer_interface.cc(427) LOG(INFO) Adding meta_piece: <0x2E>\n",
      "trainer_interface.cc(427) LOG(INFO) Adding meta_piece: <0x2F>\n",
      "trainer_interface.cc(427) LOG(INFO) Adding meta_piece: <0x30>\n",
      "trainer_interface.cc(427) LOG(INFO) Adding meta_piece: <0x31>\n",
      "trainer_interface.cc(427) LOG(INFO) Adding meta_piece: <0x32>\n",
      "trainer_interface.cc(427) LOG(INFO) Adding meta_piece: <0x33>\n",
      "trainer_interface.cc(427) LOG(INFO) Adding meta_piece: <0x34>\n",
      "trainer_interface.cc(427) LOG(INFO) Adding meta_piece: <0x35>\n",
      "trainer_interface.cc(427) LOG(INFO) Adding meta_piece: <0x36>\n",
      "trainer_interface.cc(427) LOG(INFO) Adding meta_piece: <0x37>\n",
      "trainer_interface.cc(427) LOG(INFO) Adding meta_piece: <0x38>\n",
      "trainer_interface.cc(427) LOG(INFO) Adding meta_piece: <0x39>\n",
      "trainer_interface.cc(427) LOG(INFO) Adding meta_piece: <0x3A>\n",
      "trainer_interface.cc(427) LOG(INFO) Adding meta_piece: <0x3B>\n",
      "trainer_interface.cc(427) LOG(INFO) Adding meta_piece: <0x3C>\n",
      "trainer_interface.cc(427) LOG(INFO) Adding meta_piece: <0x3D>\n",
      "trainer_interface.cc(427) LOG(INFO) Adding meta_piece: <0x3E>\n",
      "trainer_interface.cc(427) LOG(INFO) Adding meta_piece: <0x3F>\n",
      "trainer_interface.cc(427) LOG(INFO) Adding meta_piece: <0x40>\n",
      "trainer_interface.cc(427) LOG(INFO) Adding meta_piece: <0x41>\n",
      "trainer_interface.cc(427) LOG(INFO) Adding meta_piece: <0x42>\n",
      "trainer_interface.cc(427) LOG(INFO) Adding meta_piece: <0x43>\n",
      "trainer_interface.cc(427) LOG(INFO) Adding meta_piece: <0x44>\n",
      "trainer_interface.cc(427) LOG(INFO) Adding meta_piece: <0x45>\n",
      "trainer_interface.cc(427) LOG(INFO) Adding meta_piece: <0x46>\n",
      "trainer_interface.cc(427) LOG(INFO) Adding meta_piece: <0x47>\n",
      "trainer_interface.cc(427) LOG(INFO) Adding meta_piece: <0x48>\n",
      "trainer_interface.cc(427) LOG(INFO) Adding meta_piece: <0x49>\n",
      "trainer_interface.cc(427) LOG(INFO) Adding meta_piece: <0x4A>\n",
      "trainer_interface.cc(427) LOG(INFO) Adding meta_piece: <0x4B>\n",
      "trainer_interface.cc(427) LOG(INFO) Adding meta_piece: <0x4C>\n",
      "trainer_interface.cc(427) LOG(INFO) Adding meta_piece: <0x4D>\n",
      "trainer_interface.cc(427) LOG(INFO) Adding meta_piece: <0x4E>\n",
      "trainer_interface.cc(427) LOG(INFO) Adding meta_piece: <0x4F>\n",
      "trainer_interface.cc(427) LOG(INFO) Adding meta_piece: <0x50>\n",
      "trainer_interface.cc(427) LOG(INFO) Adding meta_piece: <0x51>\n",
      "trainer_interface.cc(427) LOG(INFO) Adding meta_piece: <0x52>\n",
      "trainer_interface.cc(427) LOG(INFO) Adding meta_piece: <0x53>\n",
      "trainer_interface.cc(427) LOG(INFO) Adding meta_piece: <0x54>\n",
      "trainer_interface.cc(427) LOG(INFO) Adding meta_piece: <0x55>\n",
      "trainer_interface.cc(427) LOG(INFO) Adding meta_piece: <0x56>\n",
      "trainer_interface.cc(427) LOG(INFO) Adding meta_piece: <0x57>\n",
      "trainer_interface.cc(427) LOG(INFO) Adding meta_piece: <0x58>\n",
      "trainer_interface.cc(427) LOG(INFO) Adding meta_piece: <0x59>\n",
      "trainer_interface.cc(427) LOG(INFO) Adding meta_piece: <0x5A>\n",
      "trainer_interface.cc(427) LOG(INFO) Adding meta_piece: <0x5B>\n",
      "trainer_interface.cc(427) LOG(INFO) Adding meta_piece: <0x5C>\n",
      "trainer_interface.cc(427) LOG(INFO) Adding meta_piece: <0x5D>\n",
      "trainer_interface.cc(427) LOG(INFO) Adding meta_piece: <0x5E>\n",
      "trainer_interface.cc(427) LOG(INFO) Adding meta_piece: <0x5F>\n",
      "trainer_interface.cc(427) LOG(INFO) Adding meta_piece: <0x60>\n",
      "trainer_interface.cc(427) LOG(INFO) Adding meta_piece: <0x61>\n",
      "trainer_interface.cc(427) LOG(INFO) Adding meta_piece: <0x62>\n",
      "trainer_interface.cc(427) LOG(INFO) Adding meta_piece: <0x63>\n",
      "trainer_interface.cc(427) LOG(INFO) Adding meta_piece: <0x64>\n",
      "trainer_interface.cc(427) LOG(INFO) Adding meta_piece: <0x65>\n",
      "trainer_interface.cc(427) LOG(INFO) Adding meta_piece: <0x66>\n",
      "trainer_interface.cc(427) LOG(INFO) Adding meta_piece: <0x67>\n",
      "trainer_interface.cc(427) LOG(INFO) Adding meta_piece: <0x68>\n",
      "trainer_interface.cc(427) LOG(INFO) Adding meta_piece: <0x69>\n",
      "trainer_interface.cc(427) LOG(INFO) Adding meta_piece: <0x6A>\n",
      "trainer_interface.cc(427) LOG(INFO) Adding meta_piece: <0x6B>\n",
      "trainer_interface.cc(427) LOG(INFO) Adding meta_piece: <0x6C>\n",
      "trainer_interface.cc(427) LOG(INFO) Adding meta_piece: <0x6D>\n",
      "trainer_interface.cc(427) LOG(INFO) Adding meta_piece: <0x6E>\n",
      "trainer_interface.cc(427) LOG(INFO) Adding meta_piece: <0x6F>\n",
      "trainer_interface.cc(427) LOG(INFO) Adding meta_piece: <0x70>\n",
      "trainer_interface.cc(427) LOG(INFO) Adding meta_piece: <0x71>\n",
      "trainer_interface.cc(427) LOG(INFO) Adding meta_piece: <0x72>\n",
      "trainer_interface.cc(427) LOG(INFO) Adding meta_piece: <0x73>\n",
      "trainer_interface.cc(427) LOG(INFO) Adding meta_piece: <0x74>\n",
      "trainer_interface.cc(427) LOG(INFO) Adding meta_piece: <0x75>\n",
      "trainer_interface.cc(427) LOG(INFO) Adding meta_piece: <0x76>\n",
      "trainer_interface.cc(427) LOG(INFO) Adding meta_piece: <0x77>\n",
      "trainer_interface.cc(427) LOG(INFO) Adding meta_piece: <0x78>\n",
      "trainer_interface.cc(427) LOG(INFO) Adding meta_piece: <0x79>\n",
      "trainer_interface.cc(427) LOG(INFO) Adding meta_piece: <0x7A>\n",
      "trainer_interface.cc(427) LOG(INFO) Adding meta_piece: <0x7B>\n",
      "trainer_interface.cc(427) LOG(INFO) Adding meta_piece: <0x7C>\n",
      "trainer_interface.cc(427) LOG(INFO) Adding meta_piece: <0x7D>\n",
      "trainer_interface.cc(427) LOG(INFO) Adding meta_piece: <0x7E>\n",
      "trainer_interface.cc(427) LOG(INFO) Adding meta_piece: <0x7F>\n",
      "trainer_interface.cc(427) LOG(INFO) Adding meta_piece: <0x80>\n",
      "trainer_interface.cc(427) LOG(INFO) Adding meta_piece: <0x81>\n",
      "trainer_interface.cc(427) LOG(INFO) Adding meta_piece: <0x82>\n",
      "trainer_interface.cc(427) LOG(INFO) Adding meta_piece: <0x83>\n",
      "trainer_interface.cc(427) LOG(INFO) Adding meta_piece: <0x84>\n",
      "trainer_interface.cc(427) LOG(INFO) Adding meta_piece: <0x85>\n",
      "trainer_interface.cc(427) LOG(INFO) Adding meta_piece: <0x86>\n",
      "trainer_interface.cc(427) LOG(INFO) Adding meta_piece: <0x87>\n",
      "trainer_interface.cc(427) LOG(INFO) Adding meta_piece: <0x88>\n",
      "trainer_interface.cc(427) LOG(INFO) Adding meta_piece: <0x89>\n",
      "trainer_interface.cc(427) LOG(INFO) Adding meta_piece: <0x8A>\n",
      "trainer_interface.cc(427) LOG(INFO) Adding meta_piece: <0x8B>\n",
      "trainer_interface.cc(427) LOG(INFO) Adding meta_piece: <0x8C>\n",
      "trainer_interface.cc(427) LOG(INFO) Adding meta_piece: <0x8D>\n",
      "trainer_interface.cc(427) LOG(INFO) Adding meta_piece: <0x8E>\n",
      "trainer_interface.cc(427) LOG(INFO) Adding meta_piece: <0x8F>\n",
      "trainer_interface.cc(427) LOG(INFO) Adding meta_piece: <0x90>\n",
      "trainer_interface.cc(427) LOG(INFO) Adding meta_piece: <0x91>\n",
      "trainer_interface.cc(427) LOG(INFO) Adding meta_piece: <0x92>\n",
      "trainer_interface.cc(427) LOG(INFO) Adding meta_piece: <0x93>\n",
      "trainer_interface.cc(427) LOG(INFO) Adding meta_piece: <0x94>\n",
      "trainer_interface.cc(427) LOG(INFO) Adding meta_piece: <0x95>\n",
      "trainer_interface.cc(427) LOG(INFO) Adding meta_piece: <0x96>\n",
      "trainer_interface.cc(427) LOG(INFO) Adding meta_piece: <0x97>\n",
      "trainer_interface.cc(427) LOG(INFO) Adding meta_piece: <0x98>\n",
      "trainer_interface.cc(427) LOG(INFO) Adding meta_piece: <0x99>\n",
      "trainer_interface.cc(427) LOG(INFO) Adding meta_piece: <0x9A>\n",
      "trainer_interface.cc(427) LOG(INFO) Adding meta_piece: <0x9B>\n",
      "trainer_interface.cc(427) LOG(INFO) Adding meta_piece: <0x9C>\n",
      "trainer_interface.cc(427) LOG(INFO) Adding meta_piece: <0x9D>\n",
      "trainer_interface.cc(427) LOG(INFO) Adding meta_piece: <0x9E>\n",
      "trainer_interface.cc(427) LOG(INFO) Adding meta_piece: <0x9F>\n",
      "trainer_interface.cc(427) LOG(INFO) Adding meta_piece: <0xA0>\n",
      "trainer_interface.cc(427) LOG(INFO) Adding meta_piece: <0xA1>\n",
      "trainer_interface.cc(427) LOG(INFO) Adding meta_piece: <0xA2>\n",
      "trainer_interface.cc(427) LOG(INFO) Adding meta_piece: <0xA3>\n",
      "trainer_interface.cc(427) LOG(INFO) Adding meta_piece: <0xA4>\n",
      "trainer_interface.cc(427) LOG(INFO) Adding meta_piece: <0xA5>\n",
      "trainer_interface.cc(427) LOG(INFO) Adding meta_piece: <0xA6>\n",
      "trainer_interface.cc(427) LOG(INFO) Adding meta_piece: <0xA7>\n",
      "trainer_interface.cc(427) LOG(INFO) Adding meta_piece: <0xA8>\n",
      "trainer_interface.cc(427) LOG(INFO) Adding meta_piece: <0xA9>\n",
      "trainer_interface.cc(427) LOG(INFO) Adding meta_piece: <0xAA>\n",
      "trainer_interface.cc(427) LOG(INFO) Adding meta_piece: <0xAB>\n",
      "trainer_interface.cc(427) LOG(INFO) Adding meta_piece: <0xAC>\n",
      "trainer_interface.cc(427) LOG(INFO) Adding meta_piece: <0xAD>\n",
      "trainer_interface.cc(427) LOG(INFO) Adding meta_piece: <0xAE>\n",
      "trainer_interface.cc(427) LOG(INFO) Adding meta_piece: <0xAF>\n",
      "trainer_interface.cc(427) LOG(INFO) Adding meta_piece: <0xB0>\n",
      "trainer_interface.cc(427) LOG(INFO) Adding meta_piece: <0xB1>\n",
      "trainer_interface.cc(427) LOG(INFO) Adding meta_piece: <0xB2>\n",
      "trainer_interface.cc(427) LOG(INFO) Adding meta_piece: <0xB3>\n",
      "trainer_interface.cc(427) LOG(INFO) Adding meta_piece: <0xB4>\n",
      "trainer_interface.cc(427) LOG(INFO) Adding meta_piece: <0xB5>\n",
      "trainer_interface.cc(427) LOG(INFO) Adding meta_piece: <0xB6>\n",
      "trainer_interface.cc(427) LOG(INFO) Adding meta_piece: <0xB7>\n",
      "trainer_interface.cc(427) LOG(INFO) Adding meta_piece: <0xB8>\n",
      "trainer_interface.cc(427) LOG(INFO) Adding meta_piece: <0xB9>\n",
      "trainer_interface.cc(427) LOG(INFO) Adding meta_piece: <0xBA>\n",
      "trainer_interface.cc(427) LOG(INFO) Adding meta_piece: <0xBB>\n",
      "trainer_interface.cc(427) LOG(INFO) Adding meta_piece: <0xBC>\n",
      "trainer_interface.cc(427) LOG(INFO) Adding meta_piece: <0xBD>\n",
      "trainer_interface.cc(427) LOG(INFO) Adding meta_piece: <0xBE>\n",
      "trainer_interface.cc(427) LOG(INFO) Adding meta_piece: <0xBF>\n",
      "trainer_interface.cc(427) LOG(INFO) Adding meta_piece: <0xC0>\n",
      "trainer_interface.cc(427) LOG(INFO) Adding meta_piece: <0xC1>\n",
      "trainer_interface.cc(427) LOG(INFO) Adding meta_piece: <0xC2>\n",
      "trainer_interface.cc(427) LOG(INFO) Adding meta_piece: <0xC3>\n",
      "trainer_interface.cc(427) LOG(INFO) Adding meta_piece: <0xC4>\n",
      "trainer_interface.cc(427) LOG(INFO) Adding meta_piece: <0xC5>\n",
      "trainer_interface.cc(427) LOG(INFO) Adding meta_piece: <0xC6>\n",
      "trainer_interface.cc(427) LOG(INFO) Adding meta_piece: <0xC7>\n",
      "trainer_interface.cc(427) LOG(INFO) Adding meta_piece: <0xC8>\n",
      "trainer_interface.cc(427) LOG(INFO) Adding meta_piece: <0xC9>\n",
      "trainer_interface.cc(427) LOG(INFO) Adding meta_piece: <0xCA>\n",
      "trainer_interface.cc(427) LOG(INFO) Adding meta_piece: <0xCB>\n",
      "trainer_interface.cc(427) LOG(INFO) Adding meta_piece: <0xCC>\n",
      "trainer_interface.cc(427) LOG(INFO) Adding meta_piece: <0xCD>\n",
      "trainer_interface.cc(427) LOG(INFO) Adding meta_piece: <0xCE>\n",
      "trainer_interface.cc(427) LOG(INFO) Adding meta_piece: <0xCF>\n",
      "trainer_interface.cc(427) LOG(INFO) Adding meta_piece: <0xD0>\n",
      "trainer_interface.cc(427) LOG(INFO) Adding meta_piece: <0xD1>\n",
      "trainer_interface.cc(427) LOG(INFO) Adding meta_piece: <0xD2>\n",
      "trainer_interface.cc(427) LOG(INFO) Adding meta_piece: <0xD3>\n",
      "trainer_interface.cc(427) LOG(INFO) Adding meta_piece: <0xD4>\n",
      "trainer_interface.cc(427) LOG(INFO) Adding meta_piece: <0xD5>\n",
      "trainer_interface.cc(427) LOG(INFO) Adding meta_piece: <0xD6>\n",
      "trainer_interface.cc(427) LOG(INFO) Adding meta_piece: <0xD7>\n",
      "trainer_interface.cc(427) LOG(INFO) Adding meta_piece: <0xD8>\n",
      "trainer_interface.cc(427) LOG(INFO) Adding meta_piece: <0xD9>\n",
      "trainer_interface.cc(427) LOG(INFO) Adding meta_piece: <0xDA>\n",
      "trainer_interface.cc(427) LOG(INFO) Adding meta_piece: <0xDB>\n",
      "trainer_interface.cc(427) LOG(INFO) Adding meta_piece: <0xDC>\n",
      "trainer_interface.cc(427) LOG(INFO) Adding meta_piece: <0xDD>\n",
      "trainer_interface.cc(427) LOG(INFO) Adding meta_piece: <0xDE>\n",
      "trainer_interface.cc(427) LOG(INFO) Adding meta_piece: <0xDF>\n",
      "trainer_interface.cc(427) LOG(INFO) Adding meta_piece: <0xE0>\n",
      "trainer_interface.cc(427) LOG(INFO) Adding meta_piece: <0xE1>\n",
      "trainer_interface.cc(427) LOG(INFO) Adding meta_piece: <0xE2>\n",
      "trainer_interface.cc(427) LOG(INFO) Adding meta_piece: <0xE3>\n",
      "trainer_interface.cc(427) LOG(INFO) Adding meta_piece: <0xE4>\n",
      "trainer_interface.cc(427) LOG(INFO) Adding meta_piece: <0xE5>\n",
      "trainer_interface.cc(427) LOG(INFO) Adding meta_piece: <0xE6>\n",
      "trainer_interface.cc(427) LOG(INFO) Adding meta_piece: <0xE7>\n",
      "trainer_interface.cc(427) LOG(INFO) Adding meta_piece: <0xE8>\n",
      "trainer_interface.cc(427) LOG(INFO) Adding meta_piece: <0xE9>\n",
      "trainer_interface.cc(427) LOG(INFO) Adding meta_piece: <0xEA>\n",
      "trainer_interface.cc(427) LOG(INFO) Adding meta_piece: <0xEB>\n",
      "trainer_interface.cc(427) LOG(INFO) Adding meta_piece: <0xEC>\n",
      "trainer_interface.cc(427) LOG(INFO) Adding meta_piece: <0xED>\n",
      "trainer_interface.cc(427) LOG(INFO) Adding meta_piece: <0xEE>\n",
      "trainer_interface.cc(427) LOG(INFO) Adding meta_piece: <0xEF>\n",
      "trainer_interface.cc(427) LOG(INFO) Adding meta_piece: <0xF0>\n",
      "trainer_interface.cc(427) LOG(INFO) Adding meta_piece: <0xF1>\n",
      "trainer_interface.cc(427) LOG(INFO) Adding meta_piece: <0xF2>\n",
      "trainer_interface.cc(427) LOG(INFO) Adding meta_piece: <0xF3>\n",
      "trainer_interface.cc(427) LOG(INFO) Adding meta_piece: <0xF4>\n",
      "trainer_interface.cc(427) LOG(INFO) Adding meta_piece: <0xF5>\n",
      "trainer_interface.cc(427) LOG(INFO) Adding meta_piece: <0xF6>\n",
      "trainer_interface.cc(427) LOG(INFO) Adding meta_piece: <0xF7>\n",
      "trainer_interface.cc(427) LOG(INFO) Adding meta_piece: <0xF8>\n",
      "trainer_interface.cc(427) LOG(INFO) Adding meta_piece: <0xF9>\n",
      "trainer_interface.cc(427) LOG(INFO) Adding meta_piece: <0xFA>\n",
      "trainer_interface.cc(427) LOG(INFO) Adding meta_piece: <0xFB>\n",
      "trainer_interface.cc(427) LOG(INFO) Adding meta_piece: <0xFC>\n",
      "trainer_interface.cc(427) LOG(INFO) Adding meta_piece: <0xFD>\n",
      "trainer_interface.cc(427) LOG(INFO) Adding meta_piece: <0xFE>\n",
      "trainer_interface.cc(427) LOG(INFO) Adding meta_piece: <0xFF>\n",
      "trainer_interface.cc(432) LOG(INFO) Normalizing sentences...\n",
      "trainer_interface.cc(541) LOG(INFO) all chars count=1871660\n",
      "trainer_interface.cc(552) LOG(INFO) Done: 99.9545% characters are covered.\n",
      "trainer_interface.cc(562) LOG(INFO) Alphabet size=85\n",
      "trainer_interface.cc(563) LOG(INFO) Final character coverage=0.999545\n",
      "trainer_interface.cc(594) LOG(INFO) Done! preprocessed 26732 sentences.\n",
      "trainer_interface.cc(600) LOG(INFO) Tokenizing input sentences with whitespace: 26732\n",
      "trainer_interface.cc(611) LOG(INFO) Done! 51915\n",
      "bpe_model_trainer.cc(159) LOG(INFO) Updating active symbols. max_freq=39038 min_freq=25\n",
      "bpe_model_trainer.cc(268) LOG(INFO) Added: freq=10960 size=20 all=3606 active=1837 piece=or\n",
      "bpe_model_trainer.cc(268) LOG(INFO) Added: freq=6503 size=40 all=4809 active=3040 piece=ow\n",
      "bpe_model_trainer.cc(268) LOG(INFO) Added: freq=4182 size=60 all=5854 active=4085 piece=ic\n",
      "bpe_model_trainer.cc(268) LOG(INFO) Added: freq=3089 size=80 all=6917 active=5148 piece=id\n",
      "bpe_model_trainer.cc(268) LOG(INFO) Added: freq=2493 size=100 all=7956 active=6187 piece=ight\n",
      "bpe_model_trainer.cc(159) LOG(INFO) Updating active symbols. max_freq=2452 min_freq=153\n",
      "bpe_model_trainer.cc(268) LOG(INFO) Added: freq=2002 size=120 all=9086 active=2080 piece=▁but\n",
      "bpe_model_trainer.cc(268) LOG(INFO) Added: freq=1709 size=140 all=9859 active=2853 piece=▁fr\n",
      "bpe_model_trainer.cc(268) LOG(INFO) Added: freq=1399 size=160 all=10613 active=3607 piece=ast\n",
      "bpe_model_trainer.cc(268) LOG(INFO) Added: freq=1220 size=180 all=11389 active=4383 piece=ent\n",
      "bpe_model_trainer.cc(268) LOG(INFO) Added: freq=1098 size=200 all=11988 active=4982 piece=wit\n",
      "bpe_model_trainer.cc(159) LOG(INFO) Updating active symbols. max_freq=1083 min_freq=140\n",
      "bpe_model_trainer.cc(268) LOG(INFO) Added: freq=970 size=220 all=12677 active=1661 piece=▁as\n",
      "bpe_model_trainer.cc(268) LOG(INFO) Added: freq=875 size=240 all=13366 active=2350 piece=ate\n",
      "bpe_model_trainer.cc(268) LOG(INFO) Added: freq=819 size=260 all=14042 active=3026 piece=▁did\n",
      "bpe_model_trainer.cc(268) LOG(INFO) Added: freq=748 size=280 all=14807 active=3791 piece=▁night\n",
      "bpe_model_trainer.cc(268) LOG(INFO) Added: freq=699 size=300 all=15514 active=4498 piece=eet\n",
      "bpe_model_trainer.cc(159) LOG(INFO) Updating active symbols. max_freq=694 min_freq=120\n",
      "bpe_model_trainer.cc(268) LOG(INFO) Added: freq=640 size=320 all=16124 active=1571 piece=▁U\n",
      "bpe_model_trainer.cc(268) LOG(INFO) Added: freq=567 size=340 all=16593 active=2040 piece=aa\n",
      "bpe_model_trainer.cc(268) LOG(INFO) Added: freq=525 size=360 all=17051 active=2498 piece=est\n",
      "bpe_model_trainer.cc(268) LOG(INFO) Added: freq=496 size=380 all=17511 active=2958 piece=▁sad\n",
      "bpe_model_trainer.cc(268) LOG(INFO) Added: freq=468 size=400 all=17855 active=3302 piece=▁tonight\n",
      "bpe_model_trainer.cc(159) LOG(INFO) Updating active symbols. max_freq=461 min_freq=107\n",
      "bpe_model_trainer.cc(268) LOG(INFO) Added: freq=436 size=420 all=18421 active=1565 piece=eah\n",
      "bpe_model_trainer.cc(268) LOG(INFO) Added: freq=415 size=440 all=18946 active=2090 piece=uck\n",
      "bpe_model_trainer.cc(268) LOG(INFO) Added: freq=394 size=460 all=19378 active=2522 piece=ft\n",
      "bpe_model_trainer.cc(268) LOG(INFO) Added: freq=372 size=480 all=19962 active=3106 piece=hed\n",
      "bpe_model_trainer.cc(268) LOG(INFO) Added: freq=347 size=500 all=20251 active=3395 piece=ble\n",
      "bpe_model_trainer.cc(159) LOG(INFO) Updating active symbols. max_freq=347 min_freq=93\n",
      "bpe_model_trainer.cc(268) LOG(INFO) Added: freq=333 size=520 all=20548 active=1285 piece=▁long\n",
      "bpe_model_trainer.cc(268) LOG(INFO) Added: freq=315 size=540 all=20995 active=1732 piece=▁.\n",
      "bpe_model_trainer.cc(268) LOG(INFO) Added: freq=298 size=560 all=21500 active=2237 piece=▁part\n",
      "bpe_model_trainer.cc(268) LOG(INFO) Added: freq=285 size=580 all=21801 active=2538 piece=ater\n",
      "bpe_model_trainer.cc(268) LOG(INFO) Added: freq=271 size=600 all=22212 active=2949 piece=ach\n",
      "bpe_model_trainer.cc(159) LOG(INFO) Updating active symbols. max_freq=270 min_freq=78\n",
      "bpe_model_trainer.cc(268) LOG(INFO) Added: freq=261 size=620 all=22722 active=1571 piece=▁?\n",
      "bpe_model_trainer.cc(268) LOG(INFO) Added: freq=248 size=640 all=23091 active=1940 piece=▁We\n",
      "bpe_model_trainer.cc(268) LOG(INFO) Added: freq=239 size=660 all=23347 active=2196 piece=▁our\n",
      "bpe_model_trainer.cc(268) LOG(INFO) Added: freq=227 size=680 all=23707 active=2556 piece=ute\n",
      "bpe_model_trainer.cc(268) LOG(INFO) Added: freq=221 size=700 all=23960 active=2809 piece=▁keep\n",
      "bpe_model_trainer.cc(159) LOG(INFO) Updating active symbols. max_freq=220 min_freq=65\n",
      "bpe_model_trainer.cc(268) LOG(INFO) Added: freq=212 size=720 all=24115 active=1350 piece=ms\n",
      "bpe_model_trainer.cc(268) LOG(INFO) Added: freq=205 size=740 all=24339 active=1574 piece=get\n",
      "bpe_model_trainer.cc(268) LOG(INFO) Added: freq=197 size=760 all=24696 active=1931 piece=inking\n",
      "bpe_model_trainer.cc(268) LOG(INFO) Added: freq=190 size=780 all=24980 active=2215 piece=▁bro\n",
      "bpe_model_trainer.cc(268) LOG(INFO) Added: freq=183 size=800 all=25194 active=2429 piece=▁trying\n",
      "bpe_model_trainer.cc(159) LOG(INFO) Updating active symbols. max_freq=182 min_freq=57\n",
      "bpe_model_trainer.cc(268) LOG(INFO) Added: freq=177 size=820 all=25449 active=1515 piece=▁guess\n",
      "bpe_model_trainer.cc(268) LOG(INFO) Added: freq=171 size=840 all=25679 active=1745 piece=ork\n",
      "bpe_model_trainer.cc(268) LOG(INFO) Added: freq=167 size=860 all=25983 active=2049 piece=▁This\n",
      "bpe_model_trainer.cc(268) LOG(INFO) Added: freq=163 size=880 all=26164 active=2230 piece=▁looks\n",
      "bpe_model_trainer.cc(268) LOG(INFO) Added: freq=157 size=900 all=26539 active=2605 piece=▁enjoy\n",
      "bpe_model_trainer.cc(159) LOG(INFO) Updating active symbols. max_freq=157 min_freq=51\n",
      "bpe_model_trainer.cc(268) LOG(INFO) Added: freq=152 size=920 all=26658 active=1442 piece=iting\n",
      "bpe_model_trainer.cc(268) LOG(INFO) Added: freq=146 size=940 all=26895 active=1679 piece=▁leave\n",
      "bpe_model_trainer.cc(268) LOG(INFO) Added: freq=142 size=960 all=27230 active=2014 piece=▁supp\n",
      "bpe_model_trainer.cc(268) LOG(INFO) Added: freq=137 size=980 all=27608 active=2392 piece=/6\n",
      "bpe_model_trainer.cc(268) LOG(INFO) Added: freq=135 size=1000 all=27866 active=2650 piece=▁money\n",
      "bpe_model_trainer.cc(159) LOG(INFO) Updating active symbols. max_freq=135 min_freq=44\n",
      "bpe_model_trainer.cc(268) LOG(INFO) Added: freq=131 size=1020 all=27981 active=1508 piece=come\n",
      "bpe_model_trainer.cc(268) LOG(INFO) Added: freq=127 size=1040 all=28154 active=1681 piece=load\n",
      "bpe_model_trainer.cc(268) LOG(INFO) Added: freq=124 size=1060 all=28448 active=1975 piece=▁Do\n",
      "bpe_model_trainer.cc(268) LOG(INFO) Added: freq=122 size=1080 all=28670 active=2197 piece=▁hang\n",
      "bpe_model_trainer.cc(268) LOG(INFO) Added: freq=119 size=1100 all=29000 active=2527 piece=▁pain\n",
      "bpe_model_trainer.cc(159) LOG(INFO) Updating active symbols. max_freq=119 min_freq=41\n",
      "bpe_model_trainer.cc(268) LOG(INFO) Added: freq=116 size=1120 all=29203 active=1648 piece=▁enough\n",
      "bpe_model_trainer.cc(268) LOG(INFO) Added: freq=113 size=1140 all=29481 active=1926 piece=bs\n",
      "bpe_model_trainer.cc(268) LOG(INFO) Added: freq=111 size=1160 all=29757 active=2202 piece=▁which\n",
      "bpe_model_trainer.cc(268) LOG(INFO) Added: freq=108 size=1180 all=29914 active=2359 piece=▁soooo\n",
      "bpe_model_trainer.cc(268) LOG(INFO) Added: freq=105 size=1200 all=30071 active=2516 piece=▁Haha\n",
      "bpe_model_trainer.cc(159) LOG(INFO) Updating active symbols. max_freq=105 min_freq=37\n",
      "bpe_model_trainer.cc(268) LOG(INFO) Added: freq=103 size=1220 all=30315 active=1747 piece=▁Had\n",
      "bpe_model_trainer.cc(268) LOG(INFO) Added: freq=100 size=1240 all=30513 active=1945 piece=▁listening\n",
      "bpe_model_trainer.cc(268) LOG(INFO) Added: freq=96 size=1260 all=30675 active=2107 piece=ife\n",
      "bpe_model_trainer.cc(268) LOG(INFO) Added: freq=94 size=1280 all=30986 active=2418 piece=ternet\n",
      "bpe_model_trainer.cc(268) LOG(INFO) Added: freq=92 size=1300 all=31220 active=2652 piece=utes\n",
      "bpe_model_trainer.cc(159) LOG(INFO) Updating active symbols. max_freq=92 min_freq=34\n",
      "bpe_model_trainer.cc(268) LOG(INFO) Added: freq=89 size=1320 all=31410 active=1747 piece=ney\n",
      "bpe_model_trainer.cc(268) LOG(INFO) Added: freq=87 size=1340 all=31603 active=1940 piece=▁monday\n",
      "bpe_model_trainer.cc(268) LOG(INFO) Added: freq=85 size=1360 all=31764 active=2101 piece=!!!!!!!!\n",
      "bpe_model_trainer.cc(268) LOG(INFO) Added: freq=83 size=1380 all=31974 active=2311 piece=co\n",
      "bpe_model_trainer.cc(268) LOG(INFO) Added: freq=82 size=1400 all=32244 active=2581 piece=▁cuz\n",
      "bpe_model_trainer.cc(159) LOG(INFO) Updating active symbols. max_freq=82 min_freq=31\n",
      "bpe_model_trainer.cc(268) LOG(INFO) Added: freq=81 size=1420 all=32452 active=1819 piece=▁Back\n",
      "bpe_model_trainer.cc(268) LOG(INFO) Added: freq=80 size=1440 all=32574 active=1941 piece=▁news\n",
      "bpe_model_trainer.cc(268) LOG(INFO) Added: freq=79 size=1460 all=32770 active=2137 piece=▁drink\n",
      "bpe_model_trainer.cc(268) LOG(INFO) Added: freq=78 size=1480 all=32935 active=2302 piece=▁computer\n",
      "bpe_model_trainer.cc(268) LOG(INFO) Added: freq=76 size=1500 all=33149 active=2516 piece=▁til\n",
      "bpe_model_trainer.cc(159) LOG(INFO) Updating active symbols. max_freq=76 min_freq=29\n",
      "bpe_model_trainer.cc(268) LOG(INFO) Added: freq=74 size=1520 all=33341 active=1846 piece=▁12\n",
      "bpe_model_trainer.cc(268) LOG(INFO) Added: freq=72 size=1540 all=33510 active=2015 piece=irt\n",
      "bpe_model_trainer.cc(268) LOG(INFO) Added: freq=71 size=1560 all=33639 active=2144 piece=▁For\n",
      "bpe_model_trainer.cc(268) LOG(INFO) Added: freq=70 size=1580 all=33823 active=2328 piece=▁couple\n",
      "bpe_model_trainer.cc(268) LOG(INFO) Added: freq=68 size=1600 all=33940 active=2445 piece=bo\n",
      "bpe_model_trainer.cc(159) LOG(INFO) Updating active symbols. max_freq=68 min_freq=27\n",
      "bpe_model_trainer.cc(268) LOG(INFO) Added: freq=67 size=1620 all=34223 active=1949 piece=ten\n",
      "bpe_model_trainer.cc(268) LOG(INFO) Added: freq=66 size=1640 all=34372 active=2098 piece=▁ind\n",
      "bpe_model_trainer.cc(268) LOG(INFO) Added: freq=65 size=1660 all=34474 active=2200 piece=▁relax\n",
      "bpe_model_trainer.cc(268) LOG(INFO) Added: freq=63 size=1680 all=34639 active=2365 piece=▁ce\n",
      "bpe_model_trainer.cc(268) LOG(INFO) Added: freq=62 size=1700 all=34837 active=2563 piece=▁lap\n",
      "bpe_model_trainer.cc(159) LOG(INFO) Updating active symbols. max_freq=62 min_freq=25\n",
      "trainer_interface.cc(689) LOG(INFO) Saving model: simple_nn_tok.model\n",
      "trainer_interface.cc(701) LOG(INFO) Saving vocabs: simple_nn_tok.vocab\n"
     ]
    }
   ],
   "execution_count": 140
  },
  {
   "metadata": {
    "ExecuteTime": {
     "end_time": "2025-10-24T17:57:56.292503Z",
     "start_time": "2025-10-24T17:57:56.271547Z"
    }
   },
   "cell_type": "code",
   "source": [
    "sp = spm.SentencePieceProcessor()\n",
    "sp.load('simple_nn_tok.model')\n",
    "vocab = [[sp.id_to_piece(idx), idx] for idx in range(sp.get_piece_size())]\n",
    "vocab[1000:1020]"
   ],
   "id": "596239671c43224f",
   "outputs": [
    {
     "data": {
      "text/plain": [
       "[['ited', 1000],\n",
       " ['▁away', 1001],\n",
       " ['▁left', 1002],\n",
       " ['▁mothers', 1003],\n",
       " ['ily', 1004],\n",
       " ['oke', 1005],\n",
       " ['▁late', 1006],\n",
       " ['gg', 1007],\n",
       " ['hes', 1008],\n",
       " ['ner', 1009],\n",
       " ['url', 1010],\n",
       " ['▁Hope', 1011],\n",
       " ['?!', 1012],\n",
       " ['ire', 1013],\n",
       " ['▁bu', 1014],\n",
       " ['▁em', 1015],\n",
       " ['▁sha', 1016],\n",
       " ['▁6', 1017],\n",
       " ['inking', 1018],\n",
       " ['▁Twitter', 1019]]"
      ]
     },
     "execution_count": 141,
     "metadata": {},
     "output_type": "execute_result"
    }
   ],
   "execution_count": 141
  },
  {
   "metadata": {},
   "cell_type": "code",
   "source": "",
   "id": "5d6e4416cc0f5900",
   "outputs": [],
   "execution_count": null
  },
  {
   "metadata": {},
   "cell_type": "markdown",
   "source": "# Train Test Split",
   "id": "7a22c6e0047d9ac7"
  },
  {
   "metadata": {
    "ExecuteTime": {
     "end_time": "2025-10-24T17:58:23.190685Z",
     "start_time": "2025-10-24T17:58:23.012229Z"
    }
   },
   "cell_type": "code",
   "source": [
    "train_text = ds['train']['text'][:-1000]\n",
    "train_labels = ds['train']['label'][-1000:]\n",
    "val_text= ds['train']['text'][1000:]\n",
    "val_labels = ds['train']['label'][1000:]"
   ],
   "id": "9efb884483e6bd9e",
   "outputs": [],
   "execution_count": 142
  },
  {
   "metadata": {
    "ExecuteTime": {
     "end_time": "2025-10-24T17:58:26.295593Z",
     "start_time": "2025-10-24T17:58:24.274932Z"
    }
   },
   "cell_type": "code",
   "source": [
    "tokenized_train_text = [sp.encode(text) for text in train_text]\n",
    "tokenized_val_text = [sp.encode(text) for text in val_text]"
   ],
   "id": "a50302390556a7ec",
   "outputs": [],
   "execution_count": 143
  },
  {
   "metadata": {
    "ExecuteTime": {
     "end_time": "2025-10-24T17:58:49.534184Z",
     "start_time": "2025-10-24T17:58:49.530418Z"
    }
   },
   "cell_type": "code",
   "source": [
    "nwords = len(sp)\n",
    "ntags = 3 # Keep in mind that we have 3 different labels: 0, 1, 2"
   ],
   "id": "912f1c341765c003",
   "outputs": [],
   "execution_count": 144
  },
  {
   "metadata": {},
   "cell_type": "markdown",
   "source": [
    "# Create the Embedding Layer\n",
    "\n",
    "First we will see the one hot encoding Then we will create the embedding layer"
   ],
   "id": "de1e724e604a2461"
  },
  {
   "metadata": {},
   "cell_type": "code",
   "source": "!pip install torch",
   "id": "a652249d54af0dab",
   "outputs": [],
   "execution_count": null
  },
  {
   "metadata": {
    "ExecuteTime": {
     "end_time": "2025-10-24T17:58:53.124406Z",
     "start_time": "2025-10-24T17:58:53.120900Z"
    }
   },
   "cell_type": "code",
   "source": "import torch",
   "id": "c27b738858b09e2f",
   "outputs": [],
   "execution_count": 145
  },
  {
   "metadata": {
    "ExecuteTime": {
     "end_time": "2025-10-24T17:58:54.443776Z",
     "start_time": "2025-10-24T17:58:54.439934Z"
    }
   },
   "cell_type": "code",
   "source": "print(tokenized_train_text[0])",
   "id": "220034f5b84758df",
   "outputs": [
    {
     "name": "stdout",
     "output_type": "stream",
     "text": [
      "[273, 1989, 1974, 356, 339, 1191, 902, 305, 1990, 584, 273, 751, 485]\n"
     ]
    }
   ],
   "execution_count": 146
  },
  {
   "metadata": {
    "ExecuteTime": {
     "end_time": "2025-10-24T17:59:08.940066Z",
     "start_time": "2025-10-24T17:59:08.932467Z"
    }
   },
   "cell_type": "code",
   "source": [
    "import torch.nn.functional as F\n",
    "x = torch.tensor(tokenized_train_text[0], dtype=torch.long)  # (T,)\n",
    "one_hot = F.one_hot(x, num_classes=nwords).float()            # (T, nwords)\n",
    "print(one_hot)"
   ],
   "id": "dfdf45c2f72cf0fc",
   "outputs": [
    {
     "name": "stdout",
     "output_type": "stream",
     "text": [
      "tensor([[0., 0., 0.,  ..., 0., 0., 0.],\n",
      "        [0., 0., 0.,  ..., 0., 0., 0.],\n",
      "        [0., 0., 0.,  ..., 0., 0., 0.],\n",
      "        ...,\n",
      "        [0., 0., 0.,  ..., 0., 0., 0.],\n",
      "        [0., 0., 0.,  ..., 0., 0., 0.],\n",
      "        [0., 0., 0.,  ..., 0., 0., 0.]])\n"
     ]
    }
   ],
   "execution_count": 147
  },
  {
   "metadata": {
    "ExecuteTime": {
     "end_time": "2025-10-24T17:59:42.650227Z",
     "start_time": "2025-10-24T17:59:42.644109Z"
    }
   },
   "cell_type": "code",
   "source": "one_hot.shape",
   "id": "ddd146965304ba2c",
   "outputs": [
    {
     "data": {
      "text/plain": [
       "torch.Size([13, 2048])"
      ]
     },
     "execution_count": 148,
     "metadata": {},
     "output_type": "execute_result"
    }
   ],
   "execution_count": 148
  },
  {
   "metadata": {
    "ExecuteTime": {
     "end_time": "2025-10-24T17:59:57.847720Z",
     "start_time": "2025-10-24T17:59:57.838176Z"
    }
   },
   "cell_type": "code",
   "source": [
    "import torch.nn as nn\n",
    "\n",
    "weight = nn.Parameter(torch.randn(nwords, 64))\n",
    "weight"
   ],
   "id": "3fd425fea626a469",
   "outputs": [
    {
     "data": {
      "text/plain": [
       "Parameter containing:\n",
       "tensor([[-0.9097,  1.7696,  1.1009,  ..., -1.0958,  1.4978,  1.4665],\n",
       "        [-1.2282,  0.9466,  0.4425,  ...,  0.3122,  0.2632,  0.3549],\n",
       "        [ 0.0722, -0.0145, -1.9587,  ...,  0.2744, -0.1378, -0.4274],\n",
       "        ...,\n",
       "        [-1.9507,  2.2804,  1.6719,  ...,  0.9264,  0.0215,  0.2922],\n",
       "        [-1.4360, -0.3284, -0.8601,  ..., -2.1072, -1.2789, -1.4248],\n",
       "        [-0.6170, -0.1321,  0.4545,  ...,  0.7242,  1.1269,  0.4968]],\n",
       "       requires_grad=True)"
      ]
     },
     "execution_count": 149,
     "metadata": {},
     "output_type": "execute_result"
    }
   ],
   "execution_count": 149
  },
  {
   "metadata": {
    "ExecuteTime": {
     "end_time": "2025-10-24T18:00:09.897455Z",
     "start_time": "2025-10-24T18:00:09.892052Z"
    }
   },
   "cell_type": "code",
   "source": "weight.shape",
   "id": "6dcc3d6b558f950a",
   "outputs": [
    {
     "data": {
      "text/plain": [
       "torch.Size([2048, 64])"
      ]
     },
     "execution_count": 150,
     "metadata": {},
     "output_type": "execute_result"
    }
   ],
   "execution_count": 150
  },
  {
   "metadata": {
    "ExecuteTime": {
     "end_time": "2025-10-24T18:00:33.506702Z",
     "start_time": "2025-10-24T18:00:33.503391Z"
    }
   },
   "cell_type": "code",
   "source": "xs = F.one_hot(x, num_classes=nwords)[:5]",
   "id": "3495e997a196bab5",
   "outputs": [],
   "execution_count": 151
  },
  {
   "metadata": {},
   "cell_type": "markdown",
   "source": "xs is a vector of token IDs like [273, 1989, 1974, 356, 339, ...] and nwords is the vocabulary size (say 2000),",
   "id": "7ce310607f65d266"
  },
  {
   "metadata": {
    "ExecuteTime": {
     "end_time": "2025-10-24T18:00:44.892874Z",
     "start_time": "2025-10-24T18:00:44.885403Z"
    }
   },
   "cell_type": "code",
   "source": "xs.shape",
   "id": "85c019fed9a10eff",
   "outputs": [
    {
     "data": {
      "text/plain": [
       "torch.Size([5, 2048])"
      ]
     },
     "execution_count": 152,
     "metadata": {},
     "output_type": "execute_result"
    }
   ],
   "execution_count": 152
  },
  {
   "metadata": {
    "ExecuteTime": {
     "end_time": "2025-10-24T18:00:53.970583Z",
     "start_time": "2025-10-24T18:00:53.960698Z"
    }
   },
   "cell_type": "code",
   "source": "torch.matmul(xs.float(), weight).shape",
   "id": "8d519e1affb97ec9",
   "outputs": [
    {
     "data": {
      "text/plain": [
       "torch.Size([5, 64])"
      ]
     },
     "execution_count": 153,
     "metadata": {},
     "output_type": "execute_result"
    }
   ],
   "execution_count": 153
  },
  {
   "metadata": {},
   "cell_type": "markdown",
   "source": [
    "# Equivalent (and faster) form\n",
    "\n",
    "You can skip the one-hot and directly use nn.Embedding:"
   ],
   "id": "9394dd8e5b0bff3c"
  },
  {
   "metadata": {
    "ExecuteTime": {
     "end_time": "2025-10-24T18:01:41.875252Z",
     "start_time": "2025-10-24T18:01:41.865045Z"
    }
   },
   "cell_type": "code",
   "source": [
    "import torch.nn as nn\n",
    "\n",
    "embedding = nn.Embedding(num_embeddings=nwords, embedding_dim=64)\n",
    "out = embedding(x[:5])\n",
    "print(out.shape)  # torch.Size([5, 64])\n"
   ],
   "id": "9f8487f74c11cbfb",
   "outputs": [
    {
     "name": "stdout",
     "output_type": "stream",
     "text": [
      "torch.Size([5, 64])\n"
     ]
    }
   ],
   "execution_count": 154
  },
  {
   "metadata": {
    "ExecuteTime": {
     "end_time": "2025-10-24T18:02:12.280624Z",
     "start_time": "2025-10-24T18:02:12.275455Z"
    }
   },
   "cell_type": "code",
   "source": [
    "class Simple_NN(torch.nn.Module):\n",
    "    def __init__(self, vocab_size, num_labels):\n",
    "        super(Simple_NN, self).__init__()\n",
    "        self.embedding = nn.Embedding(vocab_size, num_labels)\n",
    "        nn.init.xavier_uniform_(self.embedding.weight)\n",
    "\n",
    "    def forward(self, tokens):\n",
    "        emb = self.embedding(tokens)\n",
    "        out = torch.sum(emb, dim=0)\n",
    "        logits = out.view(1, -1)\n",
    "        return logits\n",
    "\n"
   ],
   "id": "e7782472c6f28f36",
   "outputs": [],
   "execution_count": 156
  },
  {
   "metadata": {
    "ExecuteTime": {
     "end_time": "2025-10-24T18:02:08.689639Z",
     "start_time": "2025-10-24T18:02:08.685945Z"
    }
   },
   "cell_type": "code",
   "source": [
    "#Cross Entropy Loss Function\n",
    "def ce_loss(logits, target):\n",
    "    log_probs = torch.nn.functional.log_softmax(logits, dim=1)\n",
    "    loss = -log_probs[:, target]\n",
    "    return loss"
   ],
   "id": "a63e6561c903ad46",
   "outputs": [],
   "execution_count": 155
  },
  {
   "metadata": {},
   "cell_type": "markdown",
   "source": "You can use the SGD (Stochastic Gradient Descent) optimizer that was introduced in class, or this typically better optimizer Adam (we'll see it in a later class).",
   "id": "e3a09be9a088d64e"
  },
  {
   "metadata": {
    "ExecuteTime": {
     "end_time": "2025-10-24T18:02:26.595055Z",
     "start_time": "2025-10-24T18:02:26.581182Z"
    }
   },
   "cell_type": "code",
   "source": [
    "train_data = list(zip(tokenized_train_text, train_labels))\n",
    "val_data   = list(zip(tokenized_val_text,   val_labels))"
   ],
   "id": "3cbae80333d9978b",
   "outputs": [],
   "execution_count": 157
  },
  {
   "metadata": {
    "ExecuteTime": {
     "end_time": "2025-10-24T18:06:45.227248Z",
     "start_time": "2025-10-24T18:06:35.034313Z"
    }
   },
   "cell_type": "code",
   "source": [
    "import random\n",
    "import time\n",
    "\n",
    "# initialize the model\n",
    "model = Simple_NN(nwords, ntags)\n",
    "criterion = ce_loss\n",
    "# optimizer = torch.optim.SGD(model.parameters(), lr=5e-4)\n",
    "optimizer = torch.optim.Adam(model.parameters(), lr=5e-4)\n",
    "\n",
    "for ITER in range(5):\n",
    "    # Perform training\n",
    "    random.shuffle(train_data)\n",
    "    train_loss = 0.0\n",
    "    start = time.time()\n",
    "    for x, y in train_data:\n",
    "        x = torch.tensor(x, dtype=torch.long)\n",
    "        y = torch.tensor([y])\n",
    "        logits = model(x)\n",
    "        loss = criterion(logits, y)\n",
    "        train_loss += loss.item()\n",
    "        optimizer.zero_grad()\n",
    "        loss.backward()\n",
    "        optimizer.step()\n",
    "    print(\"iter %r: train loss/sent=%.4f, time=%.2fs\" % (\n",
    "                ITER, train_loss/len(train_data), time.time()-start))\n",
    "    # Perform validation\n",
    "    test_correct = 0.0\n",
    "    for x, y in val_data:\n",
    "        x = torch.tensor(x, dtype=torch.long)\n",
    "        logits = model(x)[0].detach()\n",
    "        predict = logits.argmax().item()\n",
    "        if predict == y:\n",
    "            test_correct += 1\n",
    "    print(\"iter %r: valid acc=%.4f\" % (ITER, test_correct/len(val_data)))\n",
    "\n"
   ],
   "id": "7273c4ac4248a06a",
   "outputs": [
    {
     "name": "stdout",
     "output_type": "stream",
     "text": [
      "iter 0: train loss/sent=1.1027, time=0.54s\n",
      "iter 0: valid acc=0.3692\n",
      "iter 1: train loss/sent=1.0019, time=0.62s\n",
      "iter 1: valid acc=0.3521\n",
      "iter 2: train loss/sent=0.9182, time=0.56s\n",
      "iter 2: valid acc=0.3564\n",
      "iter 3: train loss/sent=0.8462, time=0.54s\n",
      "iter 3: valid acc=0.3447\n",
      "iter 4: train loss/sent=0.7839, time=0.56s\n",
      "iter 4: valid acc=0.3450\n"
     ]
    }
   ],
   "execution_count": 158
  },
  {
   "metadata": {
    "ExecuteTime": {
     "end_time": "2025-10-24T18:07:42.265612Z",
     "start_time": "2025-10-24T18:07:42.262724Z"
    }
   },
   "cell_type": "code",
   "source": [
    "import tiktoken\n",
    "\n",
    "enc = tiktoken.get_encoding(\"gpt2\")"
   ],
   "id": "752329efc2c2756d",
   "outputs": [],
   "execution_count": 159
  },
  {
   "metadata": {
    "ExecuteTime": {
     "end_time": "2025-10-24T18:07:46.289534Z",
     "start_time": "2025-10-24T18:07:43.417477Z"
    }
   },
   "cell_type": "code",
   "source": "data=list(zip([enc.encode(text) for text in ds['train']['text']], ds['train']['label']))",
   "id": "e15f0386485e6c92",
   "outputs": [],
   "execution_count": 160
  },
  {
   "metadata": {
    "ExecuteTime": {
     "end_time": "2025-10-24T18:07:46.310060Z",
     "start_time": "2025-10-24T18:07:46.298385Z"
    }
   },
   "cell_type": "code",
   "source": [
    "from sklearn.model_selection import train_test_split\n",
    "train_data, val_data = train_test_split(data, test_size=0.2, random_state=42)"
   ],
   "id": "90d1a215e4ede5de",
   "outputs": [],
   "execution_count": 161
  },
  {
   "metadata": {
    "ExecuteTime": {
     "end_time": "2025-10-24T18:07:46.481232Z",
     "start_time": "2025-10-24T18:07:46.478371Z"
    }
   },
   "cell_type": "code",
   "source": [
    "nwords = nwords = enc.n_vocab\n",
    "ntags = 3 # Keep in mind that we have 3 different labels: 0, 1, 2\n"
   ],
   "id": "f312be5fffeb848a",
   "outputs": [],
   "execution_count": 162
  },
  {
   "metadata": {},
   "cell_type": "markdown",
   "source": "# CBOW model for word2vec",
   "id": "e384ab335fb8350c"
  },
  {
   "metadata": {
    "ExecuteTime": {
     "end_time": "2025-10-24T18:11:43.816532Z",
     "start_time": "2025-10-24T18:11:41.821681Z"
    }
   },
   "cell_type": "code",
   "source": "data=list(zip([sp.encode(text) for text in ds['train']['text']], ds['train']['label']))",
   "id": "a67fd3b7037e2d63",
   "outputs": [],
   "execution_count": 163
  },
  {
   "metadata": {
    "ExecuteTime": {
     "end_time": "2025-10-24T18:11:45.712034Z",
     "start_time": "2025-10-24T18:11:45.677279Z"
    }
   },
   "cell_type": "code",
   "source": [
    "from sklearn.model_selection import train_test_split\n",
    "train_data, val_data = train_test_split(data, test_size=0.2, random_state=42)"
   ],
   "id": "bb53f878d32eebcb",
   "outputs": [],
   "execution_count": 164
  },
  {
   "metadata": {
    "ExecuteTime": {
     "end_time": "2025-10-24T18:11:48.059429Z",
     "start_time": "2025-10-24T18:11:48.056385Z"
    }
   },
   "cell_type": "code",
   "source": [
    "nwords = len(sp)\n",
    "ntags = 3 # Keep"
   ],
   "id": "c9bbd59963c88965",
   "outputs": [],
   "execution_count": 165
  },
  {
   "metadata": {
    "ExecuteTime": {
     "end_time": "2025-10-24T18:11:51.129320Z",
     "start_time": "2025-10-24T18:11:51.123989Z"
    }
   },
   "cell_type": "code",
   "source": [
    "class CBoW(torch.nn.Module):\n",
    "    def __init__(self, vocab_size, num_labels, emb_size):\n",
    "        super(CBoW, self).__init__()\n",
    "        self.embedding = nn.Embedding(vocab_size, emb_size)\n",
    "        self.output_layer = nn.Linear(emb_size, num_labels)\n",
    "\n",
    "        nn.init.xavier_uniform_(self.embedding.weight)\n",
    "        nn.init.xavier_uniform_(self.output_layer.weight)\n",
    "\n",
    "    def forward(self, tokens):\n",
    "        emb = self.embedding(tokens)    # [len(tokens) x emb_size]\n",
    "        emb_sum = torch.sum(emb, dim=0) # [emb_size]\n",
    "        h = emb_sum.view(1, -1)         # [1 x emb_size]\n",
    "        logits = self.output_layer(h)   # [1 x num_labels]\n",
    "        return logits"
   ],
   "id": "3601f0ed8d727905",
   "outputs": [],
   "execution_count": 166
  },
  {
   "metadata": {
    "ExecuteTime": {
     "end_time": "2025-10-24T18:13:36.526803Z",
     "start_time": "2025-10-24T18:12:54.581723Z"
    }
   },
   "cell_type": "code",
   "source": [
    "EMB_SIZE=32\n",
    "model = CBoW(nwords, ntags, EMB_SIZE)\n",
    "criterion = nn.CrossEntropyLoss()\n",
    "optimizer = torch.optim.Adam(model.parameters(), lr=5e-4)\n",
    "\n",
    "for ITER in range(1):\n",
    "    random.shuffle(train_data)\n",
    "    train_loss = 0.0\n",
    "    start = time.time()\n",
    "    model.train()\n",
    "    for x, y in train_data:\n",
    "        x = torch.tensor(x, dtype=torch.long)\n",
    "        y = torch.tensor([y])\n",
    "        logits = model(x)\n",
    "        loss = criterion(logits, y)\n",
    "        train_loss += loss.item()\n",
    "        optimizer.zero_grad()\n",
    "        loss.backward()\n",
    "        optimizer.step()\n",
    "    print(\"iter %r: train loss/sent=%.4f, time=%.2fs\" % (\n",
    "                ITER, train_loss/len(train_data), time.time()-start))\n",
    "    model.eval()\n",
    "    # Perform testing\n",
    "    test_correct = 0.0\n",
    "    for x, y in val_data:\n",
    "        x = torch.tensor(x, dtype=torch.long)\n",
    "        logits = model(x)[0].detach()\n",
    "        predict = logits.argmax().item()\n",
    "        if predict == y:\n",
    "            test_correct += 1\n",
    "    print(\"iter %r: validation acc=%.4f\" % (ITER, test_correct/len(val_data)))"
   ],
   "id": "35c05260d373cc7d",
   "outputs": [
    {
     "name": "stdout",
     "output_type": "stream",
     "text": [
      "iter 0: train loss/sent=0.8531, time=41.09s\n",
      "iter 0: validation acc=0.6626\n"
     ]
    }
   ],
   "execution_count": 169
  },
  {
   "metadata": {
    "ExecuteTime": {
     "end_time": "2025-10-24T18:14:08.442025Z",
     "start_time": "2025-10-24T18:14:08.435492Z"
    }
   },
   "cell_type": "code",
   "source": [
    "tweet = \"I hate NLP!\"\n",
    "tokens = torch.tensor(sp.encode(tweet), dtype=torch.long)\n",
    "logits = model(tokens)[0].detach()\n",
    "predict = logits.argmax().item()\n",
    "predict"
   ],
   "id": "f4d5909b313c4334",
   "outputs": [
    {
     "data": {
      "text/plain": [
       "0"
      ]
     },
     "execution_count": 171,
     "metadata": {},
     "output_type": "execute_result"
    }
   ],
   "execution_count": 171
  },
  {
   "metadata": {
    "ExecuteTime": {
     "end_time": "2025-10-24T18:14:11.959572Z",
     "start_time": "2025-10-24T18:14:11.953915Z"
    }
   },
   "cell_type": "code",
   "source": "label_map[str(predict)]",
   "id": "9ca8bfb01c096b07",
   "outputs": [
    {
     "data": {
      "text/plain": [
       "'negative'"
      ]
     },
     "execution_count": 172,
     "metadata": {},
     "output_type": "execute_result"
    }
   ],
   "execution_count": 172
  },
  {
   "metadata": {},
   "cell_type": "markdown",
   "source": [
    "# Visualizing embeddings (fixed, PyTorch + tiktoken)\n",
    "\n",
    "This will:\n",
    "\n",
    "Grab the trained embedding matrix from the PyTorch model,\n",
    "\n",
    "PCA to 2D,\n",
    "\n",
    "Plot the most frequent tokens found in your training data (to keep the plot readable),\n",
    "\n",
    "Decode tokens with tiktoken (note: GPT-2 BPE tokens are often subword pieces; many start with a leading space)."
   ],
   "id": "c226e01ca7e9e501"
  },
  {
   "metadata": {
    "ExecuteTime": {
     "end_time": "2025-10-24T18:14:19.527449Z",
     "start_time": "2025-10-24T18:14:19.524300Z"
    }
   },
   "cell_type": "code",
   "source": "import numpy as np",
   "id": "9611eb3d15397fa5",
   "outputs": [],
   "execution_count": 173
  },
  {
   "metadata": {
    "ExecuteTime": {
     "end_time": "2025-10-24T18:14:20.631203Z",
     "start_time": "2025-10-24T18:14:20.625403Z"
    }
   },
   "cell_type": "code",
   "source": [
    "import math, string\n",
    "from collections import Counter, defaultdict\n",
    "\n",
    "# --- define stopword set and helper function ---\n",
    "stop_words = {\n",
    "    \"the\",\"a\",\"an\",\"and\",\"or\",\"to\",\"of\",\"in\",\"on\",\"at\",\"for\",\"is\",\"it\",\"this\",\n",
    "    \"that\",\"with\",\"as\",\"by\",\"from\",\"are\",\"was\",\"be\",\"were\",\"so\",\"if\",\"but\",\"not\",\n",
    "    \"i\",\"you\",\"he\",\"she\",\"we\",\"they\",\"me\",\"my\",\"your\",\"our\",\"their\", \"good\", \"too\", \"like\"\n",
    "}\n",
    "\n",
    "def is_meaningful(tok):\n",
    "    \"\"\"Return True if token is not punctuation/stopword/empty.\"\"\"\n",
    "    text = enc.decode([tok]).strip().lower()\n",
    "    if not text or all(ch in string.punctuation for ch in text):\n",
    "        return False\n",
    "    if text in stop_words:\n",
    "        return False\n",
    "    return True"
   ],
   "id": "16b6d5e35dcae4e3",
   "outputs": [],
   "execution_count": 174
  },
  {
   "metadata": {
    "ExecuteTime": {
     "end_time": "2025-10-24T18:14:23.186046Z",
     "start_time": "2025-10-24T18:14:22.789095Z"
    }
   },
   "cell_type": "code",
   "source": [
    "# --- Pure PyTorch PCA + Matplotlib (no .numpy())\n",
    "import matplotlib.pyplot as plt\n",
    "from collections import Counter\n",
    "import torch\n",
    "import math\n",
    "from collections import defaultdict\n",
    "freq = Counter()\n",
    "for x_ids, _ in train_data:\n",
    "    freq.update(x_ids)\n",
    "\n",
    "# take top-N among most-common after simple filter\n",
    "N = 30\n",
    "top_tokens = [tok for tok, _ in freq.most_common(1000) if is_meaningful(tok)][:N]\n",
    "\n",
    "# 2) PCA with pure torch (no numpy/sklearn)\n",
    "with torch.no_grad():\n",
    "    E = model.embedding.weight.detach().cpu()            # [vocab, emb_dim]\n",
    "    E_centered = E - E.mean(dim=0, keepdim=True)\n",
    "    U, S, V = torch.pca_lowrank(E_centered, q=2)\n",
    "    reduced = E_centered @ V[:, :2]                      # [vocab, 2]\n",
    "\n",
    "# 3) plot\n",
    "xs = reduced[top_tokens, 0].tolist()\n",
    "ys = reduced[top_tokens, 1].tolist()\n",
    "\n",
    "plt.figure(figsize=(8, 8))\n",
    "plt.scatter(xs, ys, s=10)\n",
    "\n",
    "for tok, x, y in zip(top_tokens, xs, ys):\n",
    "    label = enc.decode([tok]).replace(\"\\n\", \" \").strip() or f\"␀{tok}\"\n",
    "    plt.annotate(label, xy=(x, y), xytext=(3, 2), textcoords=\"offset points\")\n",
    "\n",
    "plt.title(\"CBOW Embeddings (Top Non-Stopword Tokens)\")\n",
    "plt.tight_layout()\n",
    "plt.show()"
   ],
   "id": "d1778294d653cbd4",
   "outputs": [
    {
     "data": {
      "text/plain": [
       "<Figure size 800x800 with 1 Axes>"
      ],
      "image/png": "[encoded data removed]"
     },
     "metadata": {},
     "output_type": "display_data",
     "jetTransient": {
      "display_id": null
     }
    }
   ],
   "execution_count": 175
  }
 ],
 "metadata": {
  "kernelspec": {
   "display_name": "Python 3",
   "language": "python",
   "name": "python3"
  },
  "language_info": {
   "codemirror_mode": {
    "name": "ipython",
    "version": 2
   },
   "file_extension": ".py",
   "mimetype": "text/x-python",
   "name": "python",
   "nbconvert_exporter": "python",
   "pygments_lexer": "ipython2",
   "version": "2.7.6"
  }
 },
 "nbformat": 4,
 "nbformat_minor": 5
}
