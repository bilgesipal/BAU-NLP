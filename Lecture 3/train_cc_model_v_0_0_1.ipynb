{
  "cells": [
    {
      "cell_type": "code",
      "execution_count": null,
      "metadata": {
        "id": "BMaetKqn24_f"
      },
      "outputs": [],
      "source": [
        "# Standard library imports\n",
        "import os\n",
        "import gc\n",
        "import pickle\n",
        "import re\n",
        "import numpy as np\n",
        "import pandas as pd\n",
        "\n",
        "from hiclass import LocalClassifierPerParentNode\n",
        "from sklearn.feature_extraction.text import TfidfVectorizer\n",
        "from sklearn.metrics import classification_report, f1_score, make_scorer\n",
        "from sklearn.model_selection import train_test_split\n",
        "from sklearn.linear_model import LogisticRegression\n",
        "from sklearn.pipeline import Pipeline, FeatureUnion\n",
        "\n",
        "from tqdm import tqdm\n",
        "from tqdm.notebook import tqdm as notebook_tqdm\n",
        "\n",
        "# Activate pandas progress apply for tqdm\n",
        "tqdm.pandas()"
      ]
    },
    {
      "cell_type": "code",
      "execution_count": null,
      "metadata": {
        "id": "Vw33TedS24_h"
      },
      "outputs": [],
      "source": [
        "def read_pickle(pickle_path):\n",
        "    gc.disable()\n",
        "    file = open(pickle_path, \"rb\")\n",
        "    dataframe = pickle.load(file)\n",
        "    gc.enable()\n",
        "    file.close()\n",
        "    return dataframe"
      ]
    },
    {
      "cell_type": "code",
      "execution_count": null,
      "metadata": {
        "id": "8m8EMfDH24_i"
      },
      "outputs": [],
      "source": [
        "path = '/home/dsuser/Bugra/COCL/Data_Cleaning/CallCenter/cleaned_data_noname.pkl'"
      ]
    },
    {
      "cell_type": "code",
      "execution_count": null,
      "metadata": {
        "id": "1P1qwWb424_i"
      },
      "outputs": [],
      "source": [
        "data_raw = read_pickle(path)"
      ]
    },
    {
      "cell_type": "code",
      "execution_count": null,
      "metadata": {
        "id": "WvZkChwQ24_j",
        "outputId": "a5f36ae7-58c4-49af-9891-bbf291ad8aa6"
      },
      "outputs": [
        {
          "data": {
            "text/html": [
              "<div>\n",
              "<style scoped>\n",
              "    .dataframe tbody tr th:only-of-type {\n",
              "        vertical-align: middle;\n",
              "    }\n",
              "\n",
              "    .dataframe tbody tr th {\n",
              "        vertical-align: top;\n",
              "    }\n",
              "\n",
              "    .dataframe thead th {\n",
              "        text-align: right;\n",
              "    }\n",
              "</style>\n",
              "<table border=\"1\" class=\"dataframe\">\n",
              "  <thead>\n",
              "    <tr style=\"text-align: right;\">\n",
              "      <th></th>\n",
              "      <th>channel</th>\n",
              "      <th>statement_id</th>\n",
              "      <th>grup</th>\n",
              "      <th>kategori</th>\n",
              "      <th>konu</th>\n",
              "      <th>detay</th>\n",
              "      <th>statement</th>\n",
              "      <th>answer</th>\n",
              "      <th>src_brm</th>\n",
              "      <th>statement_len</th>\n",
              "      <th>state_len</th>\n",
              "    </tr>\n",
              "  </thead>\n",
              "  <tbody>\n",
              "    <tr>\n",
              "      <th>0</th>\n",
              "      <td>Call Center</td>\n",
              "      <td>2968459</td>\n",
              "      <td>Şikayet</td>\n",
              "      <td>Kart işlemleri</td>\n",
              "      <td>Nakit Çekim İşlemleri</td>\n",
              "      <td>Farklı banka ATM'den para alamadığı halde para...</td>\n",
              "      <td>musterimiz nolu kartindan akbank atm bolu atmd...</td>\n",
              "      <td>Debit Card nakit çekim itirazı işleme alınmışt...</td>\n",
              "      <td>Harcama İtirazları Birimi İnceleme Havuzu</td>\n",
              "      <td>25</td>\n",
              "      <td>25</td>\n",
              "    </tr>\n",
              "    <tr>\n",
              "      <th>1</th>\n",
              "      <td>Call Center</td>\n",
              "      <td>2969208</td>\n",
              "      <td>Şikayet</td>\n",
              "      <td>Kart işlemleri</td>\n",
              "      <td>Nakit Çekim İşlemleri</td>\n",
              "      <td>Farklı banka ATM'den para alamadığı halde para...</td>\n",
              "      <td>tarihinde numarali kartinizla tutarindaki atm ...</td>\n",
              "      <td>Debit Card nakit çekim itirazı işleme alınmışt...</td>\n",
              "      <td>Harcama İtirazları Birimi İnceleme Havuzu</td>\n",
              "      <td>55</td>\n",
              "      <td>55</td>\n",
              "    </tr>\n",
              "    <tr>\n",
              "      <th>2</th>\n",
              "      <td>Call Center</td>\n",
              "      <td>2965151</td>\n",
              "      <td>Şikayet</td>\n",
              "      <td>Kart işlemleri</td>\n",
              "      <td>Nakit Çekim İşlemleri</td>\n",
              "      <td>Başka Banka ATM'den TEB hesabı/Kredi Kartına y...</td>\n",
              "      <td>musterimiz nolu atm nolu kartiyla nolu hesabin...</td>\n",
              "      <td>Debit/Kredi Card nakit para yatırma itirazı iş...</td>\n",
              "      <td>Harcama İtirazları Birimi İnceleme Havuzu</td>\n",
              "      <td>34</td>\n",
              "      <td>34</td>\n",
              "    </tr>\n",
              "    <tr>\n",
              "      <th>3</th>\n",
              "      <td>Call Center</td>\n",
              "      <td>2969793</td>\n",
              "      <td>Şikayet</td>\n",
              "      <td>Kart işlemleri</td>\n",
              "      <td>Nakit Çekim İşlemleri</td>\n",
              "      <td>Farklı banka ATM'den para alamadığı halde para...</td>\n",
              "      <td>tarihinde numarali kartinizla tutarindaki atm ...</td>\n",
              "      <td>Nakit çekim itirazı işleme alınmıştır.  ATM Ba...</td>\n",
              "      <td>Harcama İtirazları Birimi İnceleme Havuzu</td>\n",
              "      <td>37</td>\n",
              "      <td>37</td>\n",
              "    </tr>\n",
              "    <tr>\n",
              "      <th>4</th>\n",
              "      <td>Call Center</td>\n",
              "      <td>2965946</td>\n",
              "      <td>Şikayet</td>\n",
              "      <td>Kart işlemleri</td>\n",
              "      <td>Nakit Çekim İşlemleri</td>\n",
              "      <td>Başka Banka ATM'den TEB hesabı/Kredi Kartına y...</td>\n",
              "      <td>musterimiz garanti banka atm nolu karti para y...</td>\n",
              "      <td>Debit/Kredi Card nakit para yatırma itirazı iş...</td>\n",
              "      <td>Harcama İtirazları Birimi İnceleme Havuzu</td>\n",
              "      <td>32</td>\n",
              "      <td>32</td>\n",
              "    </tr>\n",
              "  </tbody>\n",
              "</table>\n",
              "</div>"
            ],
            "text/plain": [
              "       channel statement_id     grup        kategori                   konu  \\\n",
              "0  Call Center      2968459  Şikayet  Kart işlemleri  Nakit Çekim İşlemleri   \n",
              "1  Call Center      2969208  Şikayet  Kart işlemleri  Nakit Çekim İşlemleri   \n",
              "2  Call Center      2965151  Şikayet  Kart işlemleri  Nakit Çekim İşlemleri   \n",
              "3  Call Center      2969793  Şikayet  Kart işlemleri  Nakit Çekim İşlemleri   \n",
              "4  Call Center      2965946  Şikayet  Kart işlemleri  Nakit Çekim İşlemleri   \n",
              "\n",
              "                                               detay  \\\n",
              "0  Farklı banka ATM'den para alamadığı halde para...   \n",
              "1  Farklı banka ATM'den para alamadığı halde para...   \n",
              "2  Başka Banka ATM'den TEB hesabı/Kredi Kartına y...   \n",
              "3  Farklı banka ATM'den para alamadığı halde para...   \n",
              "4  Başka Banka ATM'den TEB hesabı/Kredi Kartına y...   \n",
              "\n",
              "                                           statement  \\\n",
              "0  musterimiz nolu kartindan akbank atm bolu atmd...   \n",
              "1  tarihinde numarali kartinizla tutarindaki atm ...   \n",
              "2  musterimiz nolu atm nolu kartiyla nolu hesabin...   \n",
              "3  tarihinde numarali kartinizla tutarindaki atm ...   \n",
              "4  musterimiz garanti banka atm nolu karti para y...   \n",
              "\n",
              "                                              answer  \\\n",
              "0  Debit Card nakit çekim itirazı işleme alınmışt...   \n",
              "1  Debit Card nakit çekim itirazı işleme alınmışt...   \n",
              "2  Debit/Kredi Card nakit para yatırma itirazı iş...   \n",
              "3  Nakit çekim itirazı işleme alınmıştır.  ATM Ba...   \n",
              "4  Debit/Kredi Card nakit para yatırma itirazı iş...   \n",
              "\n",
              "                                     src_brm  statement_len  state_len  \n",
              "0  Harcama İtirazları Birimi İnceleme Havuzu             25         25  \n",
              "1  Harcama İtirazları Birimi İnceleme Havuzu             55         55  \n",
              "2  Harcama İtirazları Birimi İnceleme Havuzu             34         34  \n",
              "3  Harcama İtirazları Birimi İnceleme Havuzu             37         37  \n",
              "4  Harcama İtirazları Birimi İnceleme Havuzu             32         32  "
            ]
          },
          "execution_count": 29,
          "metadata": {},
          "output_type": "execute_result"
        }
      ],
      "source": [
        "data_raw.head()"
      ]
    },
    {
      "cell_type": "code",
      "execution_count": null,
      "metadata": {
        "id": "91ehSQVb24_k"
      },
      "outputs": [],
      "source": [
        "from sklearn import preprocessing\n",
        "label_encoder_grp = preprocessing.LabelEncoder()\n",
        "data_raw['grup_lbl'] = label_encoder_grp.fit_transform(data_raw['grup'])\n",
        "label_encoder_ktg = preprocessing.LabelEncoder()\n",
        "data_raw['kategori_lbl'] = label_encoder_ktg.fit_transform(data_raw['kategori'])\n",
        "label_encoder_kn = preprocessing.LabelEncoder()\n",
        "data_raw['konu_lbl'] = label_encoder_kn.fit_transform(data_raw['konu'])\n",
        "label_encoder_detay = preprocessing.LabelEncoder()\n",
        "data_raw['detay_lbl'] = label_encoder_detay.fit_transform(data_raw['detay'])"
      ]
    },
    {
      "cell_type": "code",
      "execution_count": null,
      "metadata": {
        "id": "hDmqHgWO24_k",
        "outputId": "7bfb3cc3-7439-4143-ea3d-1714824de7a0"
      },
      "outputs": [
        {
          "data": {
            "text/html": [
              "<div>\n",
              "<style scoped>\n",
              "    .dataframe tbody tr th:only-of-type {\n",
              "        vertical-align: middle;\n",
              "    }\n",
              "\n",
              "    .dataframe tbody tr th {\n",
              "        vertical-align: top;\n",
              "    }\n",
              "\n",
              "    .dataframe thead th {\n",
              "        text-align: right;\n",
              "    }\n",
              "</style>\n",
              "<table border=\"1\" class=\"dataframe\">\n",
              "  <thead>\n",
              "    <tr style=\"text-align: right;\">\n",
              "      <th></th>\n",
              "      <th>channel</th>\n",
              "      <th>statement_id</th>\n",
              "      <th>grup</th>\n",
              "      <th>kategori</th>\n",
              "      <th>konu</th>\n",
              "      <th>detay</th>\n",
              "      <th>statement</th>\n",
              "      <th>answer</th>\n",
              "      <th>src_brm</th>\n",
              "      <th>statement_len</th>\n",
              "      <th>state_len</th>\n",
              "      <th>grup_lbl</th>\n",
              "      <th>kategori_lbl</th>\n",
              "      <th>konu_lbl</th>\n",
              "      <th>detay_lbl</th>\n",
              "    </tr>\n",
              "  </thead>\n",
              "  <tbody>\n",
              "    <tr>\n",
              "      <th>0</th>\n",
              "      <td>Call Center</td>\n",
              "      <td>2968459</td>\n",
              "      <td>Şikayet</td>\n",
              "      <td>Kart işlemleri</td>\n",
              "      <td>Nakit Çekim İşlemleri</td>\n",
              "      <td>Farklı banka ATM'den para alamadığı halde para...</td>\n",
              "      <td>musterimiz nolu kartindan akbank atm bolu atmd...</td>\n",
              "      <td>Debit Card nakit çekim itirazı işleme alınmışt...</td>\n",
              "      <td>Harcama İtirazları Birimi İnceleme Havuzu</td>\n",
              "      <td>25</td>\n",
              "      <td>25</td>\n",
              "      <td>5</td>\n",
              "      <td>9</td>\n",
              "      <td>96</td>\n",
              "      <td>177</td>\n",
              "    </tr>\n",
              "    <tr>\n",
              "      <th>1</th>\n",
              "      <td>Call Center</td>\n",
              "      <td>2969208</td>\n",
              "      <td>Şikayet</td>\n",
              "      <td>Kart işlemleri</td>\n",
              "      <td>Nakit Çekim İşlemleri</td>\n",
              "      <td>Farklı banka ATM'den para alamadığı halde para...</td>\n",
              "      <td>tarihinde numarali kartinizla tutarindaki atm ...</td>\n",
              "      <td>Debit Card nakit çekim itirazı işleme alınmışt...</td>\n",
              "      <td>Harcama İtirazları Birimi İnceleme Havuzu</td>\n",
              "      <td>55</td>\n",
              "      <td>55</td>\n",
              "      <td>5</td>\n",
              "      <td>9</td>\n",
              "      <td>96</td>\n",
              "      <td>177</td>\n",
              "    </tr>\n",
              "    <tr>\n",
              "      <th>2</th>\n",
              "      <td>Call Center</td>\n",
              "      <td>2965151</td>\n",
              "      <td>Şikayet</td>\n",
              "      <td>Kart işlemleri</td>\n",
              "      <td>Nakit Çekim İşlemleri</td>\n",
              "      <td>Başka Banka ATM'den TEB hesabı/Kredi Kartına y...</td>\n",
              "      <td>musterimiz nolu atm nolu kartiyla nolu hesabin...</td>\n",
              "      <td>Debit/Kredi Card nakit para yatırma itirazı iş...</td>\n",
              "      <td>Harcama İtirazları Birimi İnceleme Havuzu</td>\n",
              "      <td>34</td>\n",
              "      <td>34</td>\n",
              "      <td>5</td>\n",
              "      <td>9</td>\n",
              "      <td>96</td>\n",
              "      <td>56</td>\n",
              "    </tr>\n",
              "    <tr>\n",
              "      <th>3</th>\n",
              "      <td>Call Center</td>\n",
              "      <td>2969793</td>\n",
              "      <td>Şikayet</td>\n",
              "      <td>Kart işlemleri</td>\n",
              "      <td>Nakit Çekim İşlemleri</td>\n",
              "      <td>Farklı banka ATM'den para alamadığı halde para...</td>\n",
              "      <td>tarihinde numarali kartinizla tutarindaki atm ...</td>\n",
              "      <td>Nakit çekim itirazı işleme alınmıştır.  ATM Ba...</td>\n",
              "      <td>Harcama İtirazları Birimi İnceleme Havuzu</td>\n",
              "      <td>37</td>\n",
              "      <td>37</td>\n",
              "      <td>5</td>\n",
              "      <td>9</td>\n",
              "      <td>96</td>\n",
              "      <td>177</td>\n",
              "    </tr>\n",
              "    <tr>\n",
              "      <th>4</th>\n",
              "      <td>Call Center</td>\n",
              "      <td>2965946</td>\n",
              "      <td>Şikayet</td>\n",
              "      <td>Kart işlemleri</td>\n",
              "      <td>Nakit Çekim İşlemleri</td>\n",
              "      <td>Başka Banka ATM'den TEB hesabı/Kredi Kartına y...</td>\n",
              "      <td>musterimiz garanti banka atm nolu karti para y...</td>\n",
              "      <td>Debit/Kredi Card nakit para yatırma itirazı iş...</td>\n",
              "      <td>Harcama İtirazları Birimi İnceleme Havuzu</td>\n",
              "      <td>32</td>\n",
              "      <td>32</td>\n",
              "      <td>5</td>\n",
              "      <td>9</td>\n",
              "      <td>96</td>\n",
              "      <td>56</td>\n",
              "    </tr>\n",
              "  </tbody>\n",
              "</table>\n",
              "</div>"
            ],
            "text/plain": [
              "       channel statement_id     grup        kategori                   konu  \\\n",
              "0  Call Center      2968459  Şikayet  Kart işlemleri  Nakit Çekim İşlemleri   \n",
              "1  Call Center      2969208  Şikayet  Kart işlemleri  Nakit Çekim İşlemleri   \n",
              "2  Call Center      2965151  Şikayet  Kart işlemleri  Nakit Çekim İşlemleri   \n",
              "3  Call Center      2969793  Şikayet  Kart işlemleri  Nakit Çekim İşlemleri   \n",
              "4  Call Center      2965946  Şikayet  Kart işlemleri  Nakit Çekim İşlemleri   \n",
              "\n",
              "                                               detay  \\\n",
              "0  Farklı banka ATM'den para alamadığı halde para...   \n",
              "1  Farklı banka ATM'den para alamadığı halde para...   \n",
              "2  Başka Banka ATM'den TEB hesabı/Kredi Kartına y...   \n",
              "3  Farklı banka ATM'den para alamadığı halde para...   \n",
              "4  Başka Banka ATM'den TEB hesabı/Kredi Kartına y...   \n",
              "\n",
              "                                           statement  \\\n",
              "0  musterimiz nolu kartindan akbank atm bolu atmd...   \n",
              "1  tarihinde numarali kartinizla tutarindaki atm ...   \n",
              "2  musterimiz nolu atm nolu kartiyla nolu hesabin...   \n",
              "3  tarihinde numarali kartinizla tutarindaki atm ...   \n",
              "4  musterimiz garanti banka atm nolu karti para y...   \n",
              "\n",
              "                                              answer  \\\n",
              "0  Debit Card nakit çekim itirazı işleme alınmışt...   \n",
              "1  Debit Card nakit çekim itirazı işleme alınmışt...   \n",
              "2  Debit/Kredi Card nakit para yatırma itirazı iş...   \n",
              "3  Nakit çekim itirazı işleme alınmıştır.  ATM Ba...   \n",
              "4  Debit/Kredi Card nakit para yatırma itirazı iş...   \n",
              "\n",
              "                                     src_brm  statement_len  state_len  \\\n",
              "0  Harcama İtirazları Birimi İnceleme Havuzu             25         25   \n",
              "1  Harcama İtirazları Birimi İnceleme Havuzu             55         55   \n",
              "2  Harcama İtirazları Birimi İnceleme Havuzu             34         34   \n",
              "3  Harcama İtirazları Birimi İnceleme Havuzu             37         37   \n",
              "4  Harcama İtirazları Birimi İnceleme Havuzu             32         32   \n",
              "\n",
              "   grup_lbl  kategori_lbl  konu_lbl  detay_lbl  \n",
              "0         5             9        96        177  \n",
              "1         5             9        96        177  \n",
              "2         5             9        96         56  \n",
              "3         5             9        96        177  \n",
              "4         5             9        96         56  "
            ]
          },
          "execution_count": 31,
          "metadata": {},
          "output_type": "execute_result"
        }
      ],
      "source": [
        "data_raw.head()"
      ]
    },
    {
      "cell_type": "code",
      "execution_count": null,
      "metadata": {
        "id": "QHCi5LgW24_k"
      },
      "outputs": [],
      "source": [
        "#with open('hiclass_grp_lb.pkl', 'wb') as f:\n",
        "#    pickle.dump(label_encoder_grp, f)\n",
        "\n",
        "#with open('hiclass_kategori_lbl.pkl', 'wb') as f:\n",
        "#    pickle.dump(label_encoder_ktg, f)\n",
        "\n",
        "#with open('hiclass_konu_lbl.pkl', 'wb') as f:\n",
        "#    pickle.dump(label_encoder_kn, f)\n",
        "\n",
        "#with open('hiclass_detay_lbl.pkl', 'wb') as f:\n",
        "#    pickle.dump(label_encoder_detay, f)\n",
        ""
      ]
    },
    {
      "cell_type": "code",
      "execution_count": null,
      "metadata": {
        "id": "u9CiChiz24_k"
      },
      "outputs": [],
      "source": [
        "data_raw['label'] = data_raw.apply(lambda x: [x.grup_lbl, x.kategori_lbl, x.konu_lbl, x.detay_lbl], axis=1)"
      ]
    },
    {
      "cell_type": "code",
      "execution_count": null,
      "metadata": {
        "id": "l3H1_Fxx24_l"
      },
      "outputs": [],
      "source": [
        "train_list =[]\n",
        "test_list = []\n",
        "full_list = []\n",
        "\n",
        "data_raw_grouped = data_raw.groupby(['grup','kategori','konu','detay']).apply(lambda x: x.sample(frac=1,random_state=24))\n",
        "m = data_raw_grouped['label'].value_counts()\n",
        "index = m[m.values>10].index\n",
        "pd_temp = data_raw[data_raw['label'].isin(index)].copy()\n",
        "labels=pd_temp.label.tolist()\n",
        "pd_train, pd_test = train_test_split(pd_temp,\n",
        "                                  test_size=0.3,\n",
        "                                  random_state=101,\n",
        "                                  stratify=labels)"
      ]
    },
    {
      "cell_type": "code",
      "execution_count": null,
      "metadata": {
        "id": "2N86PTD924_l"
      },
      "outputs": [],
      "source": [
        "len(data_raw[data_raw['label'].isin(index)])"
      ]
    },
    {
      "cell_type": "code",
      "execution_count": null,
      "metadata": {
        "id": "aN7d8Ztv24_l"
      },
      "outputs": [],
      "source": [
        "len(pd_temp)"
      ]
    },
    {
      "cell_type": "code",
      "execution_count": null,
      "metadata": {
        "id": "aQ-bPazy24_l"
      },
      "outputs": [],
      "source": [
        "len(pd_train)"
      ]
    },
    {
      "cell_type": "code",
      "execution_count": null,
      "metadata": {
        "id": "tJCxL5O224_m"
      },
      "outputs": [],
      "source": [
        "len(pd_test)"
      ]
    },
    {
      "cell_type": "code",
      "execution_count": null,
      "metadata": {
        "id": "nlh-v-6w24_m"
      },
      "outputs": [],
      "source": [
        "pd_train.columns"
      ]
    },
    {
      "cell_type": "code",
      "execution_count": null,
      "metadata": {
        "id": "_QEnviTw24_m"
      },
      "outputs": [],
      "source": [
        "full_texts = pd_temp[\"statement\"].tolist()\n",
        "full_labels =  pd_temp[\"label\"].tolist()\n",
        "train_texts = pd_train[\"statement\"].tolist()\n",
        "train_labels =  pd_train[\"label\"].tolist()\n",
        "test_texts = pd_test[\"statement\"].tolist()\n",
        "test_labels =  pd_test[\"label\"].tolist()"
      ]
    },
    {
      "cell_type": "code",
      "execution_count": null,
      "metadata": {
        "id": "cLhuKA9R24_m"
      },
      "outputs": [],
      "source": [
        "from sklearn.pipeline import Pipeline, FeatureUnion\n",
        "def feature_extractor():\n",
        "    context_features = FeatureUnion(\n",
        "        transformer_list=[\n",
        "#             ('FastText', FtVectorizer()),\n",
        "#            ('BERT', BERTVectorizer(folder=bert_folder) )\n",
        "#            ('spacy', SpacyVectorizer(ner=True))\n",
        "            ('word', TfidfVectorizer(\n",
        "                strip_accents=None,\n",
        "                analyzer='word',\n",
        "                ngram_range=(1, 5),\n",
        "                max_df=0.4,\n",
        "                min_df=5,\n",
        "                binary=False,\n",
        "                use_idf=True,\n",
        "                smooth_idf=True,\n",
        "                sublinear_tf=True,\n",
        "                max_features=500\n",
        "            )),\n",
        "            ('char', TfidfVectorizer(\n",
        "                strip_accents=None,\n",
        "                lowercase=False,\n",
        "                analyzer='char',\n",
        "                ngram_range=(2, 3),\n",
        "                max_df=0.4,\n",
        "                min_df=5,\n",
        "                binary=False,\n",
        "                use_idf=True,\n",
        "                smooth_idf=True,\n",
        "                sublinear_tf=10,\n",
        "                max_features=700\n",
        "            )),\n",
        "        ]\n",
        "    )\n",
        "\n",
        "    features = FeatureUnion(\n",
        "        transformer_list=[\n",
        "            ('context', Pipeline(\n",
        "                steps=[('vect', context_features)]\n",
        "            )),\n",
        "        ]\n",
        "    )\n",
        "\n",
        "    return features\n",
        "\n"
      ]
    },
    {
      "cell_type": "code",
      "execution_count": null,
      "metadata": {
        "id": "57uf7S2r24_n"
      },
      "outputs": [],
      "source": [
        "from sklearn.model_selection import train_test_split\n",
        "from sklearn.pipeline import make_pipeline\n",
        "import xgboost as xgb"
      ]
    },
    {
      "cell_type": "code",
      "execution_count": null,
      "metadata": {
        "id": "AEFzJeqd24_n"
      },
      "outputs": [],
      "source": [
        "from sklearn.linear_model import LogisticRegression\n",
        "from sklearn.ensemble import RandomForestClassifier\n",
        "from hiclass import LocalClassifierPerNode\n",
        "from bert_sklearn import BertClassifier\n",
        "from hiclass import LocalClassifierPerParentNode\n",
        "from sklearn.pipeline import Pipeline\n",
        "lg = LogisticRegression(solver='liblinear')\n",
        "\n",
        "pipeline = Pipeline(\n",
        "    [\n",
        "        (\"extractor\", feature_extractor()),\n",
        "#        ('dim_reduction', reducer),\n",
        "        (\"lcppn\", LocalClassifierPerParentNode(local_classifier=lg)),\n",
        "    ],\n",
        "    verbose=True\n",
        ")\n",
        "\n",
        "pipeline.fit(train_texts, train_labels)"
      ]
    },
    {
      "cell_type": "code",
      "execution_count": null,
      "metadata": {
        "id": "2CQEcJdZ24_n"
      },
      "outputs": [],
      "source": [
        "predictions = pipeline.predict(test_texts)"
      ]
    },
    {
      "cell_type": "code",
      "execution_count": null,
      "metadata": {
        "id": "UYwICSWm24_n"
      },
      "outputs": [],
      "source": [
        "pred = [[int(p[0]), int(p[1]), int(p[2]) , int(p[3])] for p in predictions]"
      ]
    },
    {
      "cell_type": "code",
      "execution_count": null,
      "metadata": {
        "id": "0MkoQsmU24_n"
      },
      "outputs": [],
      "source": [
        "def met(pred, y_test):\n",
        "    true_score = 0\n",
        "    for i in range(0,len(pred)):\n",
        "        if pred[i][0] == y_test[i][0] and pred[i][1] == y_test[i][1] and pred[i][2] == y_test[i][2] and pred[i][3] == y_test[i][3]:\n",
        "            true_score +=1\n",
        "        elif pred[i][0] == y_test[i][0] and pred[i][1] == y_test[i][1] and pred[i][2] == y_test[i][2] and pred[i][3] != y_test[i][3]:\n",
        "            true_score += (1/4)*3\n",
        "        elif pred[i][0] == y_test[i][0] and pred[i][1] == y_test[i][1] and pred[i][2] != y_test[i][2] and pred[i][3] != y_test[i][3]:\n",
        "            true_score += (1/4)*2\n",
        "        elif pred[i][0] == y_test[i][0] and pred[i][1] != y_test[i][1] and pred[i][2] != y_test[i][2] and pred[i][3] != y_test[i][3]:\n",
        "            true_score += (1/4)\n",
        "    return true_score/len(pred)"
      ]
    },
    {
      "cell_type": "code",
      "execution_count": null,
      "metadata": {
        "id": "YKuC9hSi24_n"
      },
      "outputs": [],
      "source": [
        "from hiclass import metrics\n",
        "metrics.f1(pred, test_labels)"
      ]
    },
    {
      "cell_type": "code",
      "execution_count": null,
      "metadata": {
        "id": "HbG8d0TH24_o"
      },
      "outputs": [],
      "source": [
        "print(\"Score : \"+str(met(pred,test_labels)))"
      ]
    },
    {
      "cell_type": "code",
      "execution_count": null,
      "metadata": {
        "id": "6bw_hBPc24_o"
      },
      "outputs": [],
      "source": [
        "with open(\"modal_v2_noname_cleaned.pkl\",\"wb\") as file:\n",
        "    pickle.dump(pipeline,file)"
      ]
    },
    {
      "cell_type": "code",
      "execution_count": null,
      "metadata": {
        "id": "5YzczNog24_o"
      },
      "outputs": [],
      "source": [
        "with open(\"modal_v2_noname_cleaned.pkl\",\"rb\") as file:\n",
        "    pipeline = pickle.load(file)"
      ]
    },
    {
      "cell_type": "code",
      "execution_count": null,
      "metadata": {
        "id": "yBoM1STT24_o"
      },
      "outputs": [],
      "source": [
        "predictions = pipeline.predict(test_texts)"
      ]
    },
    {
      "cell_type": "code",
      "execution_count": null,
      "metadata": {
        "id": "1YVZyh5d24_o"
      },
      "outputs": [],
      "source": [
        "pred = [[int(p[0]), int(p[1]), int(p[2]) , int(p[3])] for p in predictions]"
      ]
    },
    {
      "cell_type": "code",
      "execution_count": null,
      "metadata": {
        "id": "xDDd7hJd24_o",
        "outputId": "f562d111-f0f8-46a5-8708-ce434616a6a6"
      },
      "outputs": [
        {
          "name": "stdout",
          "output_type": "stream",
          "text": [
            "Score : 0.8326317664776718\n"
          ]
        }
      ],
      "source": [
        "print(\"Score : \"+str(met(pred,test_labels)))"
      ]
    },
    {
      "cell_type": "code",
      "execution_count": null,
      "metadata": {
        "id": "kcivzHrF24_p",
        "outputId": "5d04afc3-29e9-4970-8633-3aa1204bd492"
      },
      "outputs": [
        {
          "data": {
            "text/plain": [
              "0.8489844380491638"
            ]
          },
          "execution_count": 24,
          "metadata": {},
          "output_type": "execute_result"
        }
      ],
      "source": [
        "from hiclass import metrics\n",
        "metrics.f1(pred, test_labels)"
      ]
    },
    {
      "cell_type": "code",
      "execution_count": null,
      "metadata": {
        "id": "3MMaaybs24_p"
      },
      "outputs": [],
      "source": []
    }
  ],
  "metadata": {
    "kernelspec": {
      "display_name": "nlp_cuda",
      "language": "python",
      "name": "nlp_cuda"
    },
    "language_info": {
      "codemirror_mode": {
        "name": "ipython",
        "version": 3
      },
      "file_extension": ".py",
      "mimetype": "text/x-python",
      "name": "python",
      "nbconvert_exporter": "python",
      "pygments_lexer": "ipython3",
      "version": "3.8.3"
    },
    "colab": {
      "provenance": []
    }
  },
  "nbformat": 4,
  "nbformat_minor": 0
}