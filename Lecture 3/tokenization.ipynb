{
 "cells": [
  {
   "metadata": {},
   "cell_type": "markdown",
   "source": "# Unicode Encoding Examples and UTF-8 Representation",
   "id": "6891e98e77817242"
  },
  {
   "metadata": {},
   "cell_type": "code",
   "source": [
    "import base64\n",
    "\n",
    "text = 'Öğretmen bu gün saat 15:00 de \"Hello World!\" yazıdrdı.'"
   ],
   "id": "eb9615f8a4b36cb9",
   "outputs": [],
   "execution_count": null
  },
  {
   "metadata": {},
   "cell_type": "code",
   "source": "text.encode(\"utf-8\") # bytes object",
   "id": "f516a233a1be58d3",
   "outputs": [],
   "execution_count": null
  },
  {
   "metadata": {},
   "cell_type": "code",
   "source": "list(text.encode(\"utf-8\"))  # byte değerleri",
   "id": "98b10bc4841851df",
   "outputs": [],
   "execution_count": null
  },
  {
   "metadata": {
    "collapsed": true
   },
   "cell_type": "code",
   "source": [
    "# UTF-8 ile baytlara dönüştür\n",
    "utf8_bytes = text.encode('utf-8')\n",
    "print(\"UTF-8 BYTES:\")\n",
    "print(utf8_bytes)\n",
    "\n",
    "# Hex gösterimi\n",
    "print(\"HEX:\")\n",
    "print(utf8_bytes.hex())\n",
    "\n",
    "#  Binary (ikilik) gösterimi\n",
    "binary = ' '.join(format(b, '08b') for b in utf8_bytes)\n",
    "print(\"\\nBINARY:\")\n",
    "print(binary)\n",
    "\n",
    "#  Base64 gösterimi\n",
    "base64_str = base64.b64encode(utf8_bytes).decode('utf-8')\n",
    "print(\"\\nBASE64:\")\n",
    "print(base64_str)\n",
    "\n",
    "#  (Opsiyonel) Geri çözüm örneği\n",
    "decoded_text = base64.b64decode(base64_str).decode('utf-8')\n",
    "print(\"\\nDECODED BACK:\")\n",
    "print(decoded_text)\n",
    "\n"
   ],
   "id": "f468c403c26e247a",
   "outputs": [],
   "execution_count": null
  },
  {
   "metadata": {},
   "cell_type": "code",
   "source": "",
   "id": "a3ee9bf747c5d1f8",
   "outputs": [],
   "execution_count": null
  },
  {
   "metadata": {},
   "cell_type": "markdown",
   "source": [
    "# BytePair Algorithm Example\n",
    "\n",
    "Lets implement the Byte Pair Encoding (BPE) algorithm. First by hand on a small example, then by using the `tokenizers` library. Please check Andrej Karpathy lecture on BPE for more details: https://www.youtube.com/watch?v=zduSFxRajkE"
   ],
   "id": "f5ec6c5ce47a5e93"
  },
  {
   "metadata": {},
   "cell_type": "code",
   "source": "!pip install tokenizers",
   "id": "ae8829c5531686a9",
   "outputs": [],
   "execution_count": null
  },
  {
   "metadata": {},
   "cell_type": "code",
   "source": [
    "corpus = \"\"\"\n",
    "\"1739 Sayılı Millî Eğitim Temel Kanunu'nun 43. Maddesine göre, öğretmenlik, devletin eğitim, öğretim ve bununla ilgili yönetim görevlerini üzerine alan özel bir ihtisas mesleğidir.\"[1]\n",
    "Türkiye'de yetişmeleri\n",
    "\n",
    "\"Öğretmenlik mesleğine hazırlık genel kültür, özel alan eğitimi ve pedagojik formasyonla sağlanır.\"[1]\n",
    "\n",
    "Eskiden, öğretmen okullarında (köy enstitüleri, köy öğretmen okulları) yetişen ilkokul öğretmenleri; eğitim enstitülerinden çıkan ortaokul öğretmenleri; yükseköğretmen okullarıyla üniversitelerin edebiyat ve fen fakülteleri belirli dallarında okuyan ve öğretim lisansı almak için meslek bakımından gerekli ek dersleri (didaktik, pedagoji tarihi, pedagojik formasyon, psikoloji) gören üniversite mezunlarından Türkiye Cumhuriyeti Millî Eğitim Bakanlığı hizmetine geçen lise öğretmenleri, Memurluk Kanunu'nun kapsamına girerdi. Günümüzde ise öğretmen yetiştirme görevini, üniversitelerin ilgili Eğitim Fakülteleri ile Teknik Eğitim Fakülteleri üstlenmiştir.\n",
    "\n",
    "Öğretmenler, bakanlığın hazırlattığı yönetmeliklere uygun şekilde, yetişmelerinin kendilerine sağladığı imkânlar çerçevesinde okullarda görev alırlar.\n",
    "Görevleri\n",
    "\n",
    "Millî Eğitim Bakanlığı'nın yönetmeliklerine göre genel olarak öğretmenlerin görevleri şunlardır;\n",
    "\n",
    "    Kendilerine verilen ve yetkili sayıldıkları dersleri okutmak.\n",
    "    Okuttukları derslerle ilgili uygulama ve deneyleri yapmak.\n",
    "    Serbest çalışma saatlerinde öğrencileri gözetlemek.\n",
    "    Ders dışında okulun eğitim, öğretim ve yönetim işlerine katılmak.\n",
    "    Kanun, yönetmelik ve emirlerle tespit edilen ödevleri yapmak.\n",
    "\n",
    "Ayrıca öğretmenlerin öğrencilerini yetiştirme konusunda her fırsattan yararlanmaları, hizmet ruhu beslemeleri, ödevden kaçınmamaları, öğrencilerine iyi bir yardımcı ve kılavuz olmaları, eğitim işlerinde bütün tutum ve davranışlarıyla örnek olmaları istenir.\n",
    "\n",
    "Öğretim görevi sırasında öğretmenlerin, öğrencileri kişisel çalışmalara yöneltmeleri, zümre öğretmenleriyle yakın bir işbirliği sağlamaları, öğrenci ödevlerini ilgili yönetmeliğe göre inceledikten sonra geri vermeleri, sınav yönetmeliğine göre görevlendirildikleri sınavlarda bulunmaları, öğrencilerinin başarılarını ölçerek değerlendirmeleri, kanaat dönemleri sonunda verilecek karne notları için gerekli sözlü-yazılı yoklamaları yapmaları beklenir.\n",
    "\n",
    "Ders görevi sonunda öğretmenlerin yapmaları gereken işler bitmez.Mesai saati bitiminden sonra öğretmenlerden yıllık ders dağıtım planlarını yapmaları, dersler için hazırlık yapmaları bunun için materyaller hazırlamaları, yaptıkları yazılı yoklamaları değerlendirmeleri, öğrenci davranışlarıyla ilğili gözlem formlarını değerlendirerek öğrencinin gelişimini izlemeleri, öğrencilerinin daha iyiye ulaşması için ne gibi tedbirler alması gerektiğini inceleyip sorgulaması beklenir.\n",
    "\n",
    "Eğitim çalışmaları sırasında öğretmenler, okul yönetiminin belirlediği günlerde okul nöbeti tutmakla, kendisine verilen eğitsel kulüpleri kurarak çalıştırmakla, öğretmenler kurulunun kararlarıyla kendisine verilen sınıfın eğitim işlerini düzenlemekle, Tebliğler Dergisi'ni okumakla yükümlüdürler. Öğretmenler, öğretim, eğitim ve bilim ödevinden başka bir ödev alamazlar. Kendi okullarından başka okullarda ek olarak bilim, öğretim ve eğitimle ilgili bir işte çalışacak olan öğretmenlerin Millî Eğitim Bakanlığı'ndan izin almaları şarttır.\n",
    "\n",
    "Öğretmenler, önce okul müdürlerinin, sonra Millî Eğitim Müdürlüğü'nün İller Kanunu'na göre mahalli mülkiye amirinin, Millî Eğitim Bakanlığı müfettişlerinin denetimine bağlıdır. İlköğretim öğretmenlerinin nakil ve tayini il idaresince; lise öğretmenlerininki ise bakanlıkça yapılır. Öğretmenler, okullar saymanlığından maaş alırlar ve Emekli Sandığı'na bağlıdırlar. Aynı zamanda son günlerde Millî Eğitim Bakanlığı sözleşmeli öğretmenlik uygulamasına gitmiştir.\n",
    "\n",
    "Türkiye'de her yıl 24 Kasım günü, Öğretmenler Günü ve o hafta Öğretmenler Haftası olarak kutlanır.\n",
    "\"\"\"\n",
    "\n",
    "with open(\"data.txt\", \"w\", encoding=\"utf-8\") as f:\n",
    "    f.write(corpus)\n"
   ],
   "id": "6fef105d43d0346f",
   "outputs": [],
   "execution_count": null
  },
  {
   "metadata": {},
   "cell_type": "code",
   "source": [
    "tokens = corpus.encode(\"utf-8\")\n",
    "tokens = list(map(int, tokens))\n",
    "\n",
    "print(len(corpus))\n",
    "print(len(tokens))"
   ],
   "id": "9153b06ada726c7a",
   "outputs": [],
   "execution_count": null
  },
  {
   "metadata": {},
   "cell_type": "code",
   "source": [
    "def get_stats(ids):\n",
    "    counts = {}\n",
    "    for pair in zip(ids, ids[1:]):\n",
    "        counts[pair] = counts.get(pair, 0) + 1\n",
    "    return counts\n",
    "\n",
    "stats = get_stats(tokens)\n",
    "# print(sorted(((v,k) for k,v in stats.items()), reverse=True))\n",
    "\n",
    "top_pair = max(stats, key=stats.get)\n",
    "print(top_pair, '\"' + chr(top_pair[0]) + '\"', '\"' + chr(top_pair[1]) + '\"')\n",
    "\n"
   ],
   "id": "e7224cdc9f2026c5",
   "outputs": [],
   "execution_count": null
  },
  {
   "metadata": {},
   "cell_type": "code",
   "source": [
    "def merge(ids, pair, idx):\n",
    "    new_ids = []\n",
    "    i = 0\n",
    "    while i < len(ids):\n",
    "        if i < len(ids) - 1 and ids[i] == pair[0] and ids[i+1] == pair[1]:\n",
    "            new_ids.append(idx)\n",
    "            i += 2\n",
    "        else:\n",
    "            new_ids.append(ids[i])\n",
    "            i += 1\n",
    "    return new_ids\n",
    "\n"
   ],
   "id": "f2ecf6490adec271",
   "outputs": [],
   "execution_count": null
  },
  {
   "metadata": {},
   "cell_type": "code",
   "source": [
    "tokens2 = merge(tokens, top_pair, 256)\n",
    "print(tokens2)\n",
    "print(len(tokens), len(tokens2))\n",
    "\n"
   ],
   "id": "6e38b222788fc69",
   "outputs": [],
   "execution_count": null
  },
  {
   "metadata": {},
   "cell_type": "code",
   "source": [
    "# Settings\n",
    "starting_vocab_size = 256\n",
    "vocab_size = 300\n",
    "num_merges = vocab_size - starting_vocab_size\n",
    "ids = list(tokens)\n",
    "\n",
    "# Full BPE algorithm\n",
    "def get_stats(ids):\n",
    "    counts = {}\n",
    "    for pair in zip(ids, ids[1:]):\n",
    "        counts[pair] = counts.get(pair, 0) + 1\n",
    "    return counts\n",
    "\n",
    "def merge(ids, pair, idx):\n",
    "    new_ids = []\n",
    "    i = 0\n",
    "    while i < len(ids):\n",
    "        if i < len(ids) - 1 and ids[i] == pair[0] and ids[i+1] == pair[1]:\n",
    "            new_ids.append(idx)\n",
    "            i += 2\n",
    "        else:\n",
    "            new_ids.append(ids[i])\n",
    "            i += 1\n",
    "    return new_ids\n",
    "\n",
    "\n",
    "merges = {}\n",
    "for i in range(num_merges):\n",
    "    stats = get_stats(ids)\n",
    "    pair = max(stats, key=stats.get)\n",
    "    idx = starting_vocab_size + i\n",
    "    print(f\"pair: {pair} freq: {stats[pair]}\")\n",
    "    print(f\"merging {pair} into a new token {idx}\\n\")\n",
    "    ids = merge(ids, pair, idx)\n",
    "    merges[pair] = idx"
   ],
   "id": "24bd795c43772e61",
   "outputs": [],
   "execution_count": null
  },
  {
   "metadata": {},
   "cell_type": "code",
   "source": [
    "print(\"original tokens length:\", len(tokens))\n",
    "print(\"new tokens length:\", len(ids))\n",
    "print(f\"compression ratio: {len(tokens) / len(ids):.2f}X\")\n"
   ],
   "id": "997976896a7b4979",
   "outputs": [],
   "execution_count": null
  },
  {
   "metadata": {},
   "cell_type": "markdown",
   "source": "# HuggingFace Example",
   "id": "29ceccad88089b06"
  },
  {
   "metadata": {},
   "cell_type": "code",
   "source": [
    "from tokenizers import Tokenizer, models, trainers, pre_tokenizers\n",
    "\n",
    "# Initialize BPE model\n",
    "tokenizer = Tokenizer(models.BPE())\n",
    "\n",
    "# Train on text files\n",
    "trainer = trainers.BpeTrainer(vocab_size=10000, min_frequency=2)\n",
    "tokenizer.pre_tokenizer = pre_tokenizers.Whitespace()\n",
    "\n",
    "tokenizer.train(files=[\"data.txt\"], trainer=trainer)\n",
    "\n",
    "# Encode text\n",
    "encoded = tokenizer.encode(\"öğretmenlerimizden\")\n",
    "print(encoded.tokens)\n"
   ],
   "id": "94c23f7ec328a74",
   "outputs": [],
   "execution_count": null
  },
  {
   "metadata": {},
   "cell_type": "markdown",
   "source": "# Tiketonizer Example",
   "id": "65881289f8b34db0"
  },
  {
   "metadata": {},
   "cell_type": "code",
   "source": "!pip install tiktoken",
   "id": "df63a2d8ac3edcbe",
   "outputs": [],
   "execution_count": null
  },
  {
   "metadata": {},
   "cell_type": "code",
   "source": [
    "import tiktoken\n",
    "\n",
    "enc = tiktoken.get_encoding(\"gpt2\")\n",
    "print(enc.encode(\"öğretmenlerimizden\"))"
   ],
   "id": "23ce13463aa32a54",
   "outputs": [],
   "execution_count": null
  },
  {
   "metadata": {},
   "cell_type": "markdown",
   "source": "# SentencePiece Example",
   "id": "8fac4a1b7824b6ba"
  },
  {
   "metadata": {},
   "cell_type": "code",
   "source": "!pip install sentencepiece",
   "id": "d59d71c31a7ceb5a",
   "outputs": [],
   "execution_count": null
  },
  {
   "metadata": {},
   "cell_type": "code",
   "source": [
    "import os\n",
    "import sentencepiece as spm\n",
    "\n",
    "options = dict(\n",
    "  # input spec\n",
    "  input=\"data.txt\",\n",
    "  input_format=\"text\",\n",
    "  model_prefix=\"teacher_bpe\",\n",
    "  model_type=\"bpe\",\n",
    "  vocab_size=2048,\n",
    "  byte_fallback=True,\n",
    "  split_digits=True,\n",
    "  num_threads=os.cpu_count(),\n",
    ")\n",
    "\n",
    "spm.SentencePieceTrainer.train(**options)"
   ],
   "id": "70695e78cd77efb9",
   "outputs": [],
   "execution_count": null
  },
  {
   "metadata": {},
   "cell_type": "code",
   "source": [
    "sp = spm.SentencePieceProcessor()\n",
    "sp.load('teacher_bpe.model')\n",
    "vocab = [[sp.id_to_piece(idx), idx] for idx in range(sp.get_piece_size())]\n",
    "vocab\n",
    "\n"
   ],
   "id": "affeda97ff55d74a",
   "outputs": [],
   "execution_count": null
  },
  {
   "metadata": {},
   "cell_type": "code",
   "source": [
    "ids = sp.encode(\"öğretmenlerimizden\")\n",
    "print(ids)\n",
    "\n",
    "print([sp.id_to_piece(idx) for idx in ids])\n",
    "\n"
   ],
   "id": "c04e4aefab60864c",
   "outputs": [],
   "execution_count": null
  }
 ],
 "metadata": {
  "kernelspec": {
   "display_name": "Python 3",
   "language": "python",
   "name": "python3"
  },
  "language_info": {
   "codemirror_mode": {
    "name": "ipython",
    "version": 2
   },
   "file_extension": ".py",
   "mimetype": "text/x-python",
   "name": "python",
   "nbconvert_exporter": "python",
   "pygments_lexer": "ipython2",
   "version": "2.7.6"
  }
 },
 "nbformat": 4,
 "nbformat_minor": 5
}
