{
 "cells": [
  {
   "metadata": {},
   "cell_type": "markdown",
   "source": [
    "# Use trained embeddings in downstream tasks\n",
    "You can use the trained Word2Vec/ Fasttext/ Glove embeddings as input features for various downstream NLP tasks such as text classification, named entity recognition, or machine translation. Here's a simple example of how to use the embeddings for text classification using a logistic regression model."
   ],
   "id": "9f95d1e2a1ffcdd"
  },
  {
   "metadata": {},
   "cell_type": "code",
   "source": "from nltk.tokenize import sent_tokenize, word_tokenize\n",
   "id": "7dce5b34bd007736",
   "outputs": [],
   "execution_count": null
  },
  {
   "metadata": {},
   "cell_type": "markdown",
   "source": "Go to Kaggle website and download the archive \"Reviews.csv\" from the dataset \"Amazon Fine Food Reviews\": https://www.kaggle.com/datasets/snap/amazon-fine-food-reviews",
   "id": "b8a5dffafac10106"
  },
  {
   "metadata": {},
   "cell_type": "code",
   "source": [
    "import pandas as pd\n",
    "rev = pd.read_csv(\"Reviews.csv\")\n",
    "print(rev.head())"
   ],
   "id": "20b849108b498af0",
   "outputs": [],
   "execution_count": null
  },
  {
   "metadata": {},
   "cell_type": "markdown",
   "source": "# We create the list of the words that our corpus has",
   "id": "5c24762062f6316b"
  },
  {
   "metadata": {},
   "cell_type": "code",
   "source": [
    "corpus_text = 'n'.join(rev[:1000]['Text'])\n",
    "data = []\n",
    "# iterate through each sentence in the file\n",
    "for i in sent_tokenize(corpus_text):\n",
    "    temp = []\n",
    "    # tokenize the sentence into words\n",
    "    for j in word_tokenize(i):\n",
    "        temp.append(j.lower())\n",
    "    data.append(temp)"
   ],
   "id": "223690b25a5bf792",
   "outputs": [],
   "execution_count": null
  },
  {
   "metadata": {},
   "cell_type": "code",
   "source": [
    "import re\n",
    "from tqdm import tqdm\n",
    "import numpy as np\n",
    "from pathlib import Path\n"
   ],
   "id": "805204362035717c",
   "outputs": [],
   "execution_count": null
  },
  {
   "metadata": {},
   "cell_type": "code",
   "source": [
    "import kagglehub\n",
    "\n",
    "# Download latest version\n",
    "path = kagglehub.dataset_download(\"leadbest/googlenewsvectorsnegative300\")\n",
    "\n",
    "print(\"Path to dataset files:\", path)"
   ],
   "id": "8652b9d43b80a3d4",
   "outputs": [],
   "execution_count": null
  },
  {
   "metadata": {},
   "cell_type": "code",
   "source": "path",
   "id": "20f2f7d4c361f3ba",
   "outputs": [],
   "execution_count": null
  },
  {
   "metadata": {},
   "cell_type": "code",
   "source": [
    "emb_path = list(Path(path).rglob(\"GoogleNews-vectors-negative300.bin\"))[0]\n",
    "print(\"Embedding file:\", emb_path)"
   ],
   "id": "ce959691a1231e9a",
   "outputs": [],
   "execution_count": null
  },
  {
   "metadata": {},
   "cell_type": "code",
   "source": [
    "def load_word2vec_binary(path, limit=None):\n",
    "    \"\"\"Load GoogleNews .bin Word2Vec file (no gensim).\"\"\"\n",
    "    with open(path, \"rb\") as f:\n",
    "        header = f.readline()\n",
    "        vocab_size, dim = map(int, header.split())\n",
    "        print(f\"Header: {vocab_size} words, dim={dim}\")\n",
    "        word_vectors = {}\n",
    "        for i in tqdm(range(vocab_size if not limit else min(limit, vocab_size))):\n",
    "            # Read word\n",
    "            word = []\n",
    "            while True:\n",
    "                ch = f.read(1)\n",
    "                if ch == b' ':\n",
    "                    break\n",
    "                if ch == b'':\n",
    "                    break\n",
    "                word.append(ch)\n",
    "            word = b''.join(word).decode(\"utf-8\", errors=\"ignore\")\n",
    "            # Read vector\n",
    "            vec = np.frombuffer(f.read(dim * 4), dtype=np.float32)\n",
    "            f.read(1)  # newline\n",
    "            word_vectors[word] = vec\n",
    "        return word_vectors, dim"
   ],
   "id": "f1285b6131ccbca6",
   "outputs": [],
   "execution_count": null
  },
  {
   "metadata": {},
   "cell_type": "code",
   "source": [
    "#  Load limited subset for demo\n",
    "w2v, dim = load_word2vec_binary(emb_path, limit=200000)\n",
    "print(\"Loaded words:\", len(w2v))"
   ],
   "id": "b3954934efe2765f",
   "outputs": [],
   "execution_count": null
  },
  {
   "metadata": {},
   "cell_type": "markdown",
   "source": "# The simplest representation of documents is avarage of word vectors",
   "id": "7712cae7e5f81263"
  },
  {
   "metadata": {},
   "cell_type": "code",
   "source": [
    "def tokenize(text):\n",
    "    return re.findall(r\"[A-Za-z']+\", text.lower())\n"
   ],
   "id": "ffa872d92b586228",
   "outputs": [],
   "execution_count": null
  },
  {
   "metadata": {},
   "cell_type": "code",
   "source": [
    "corpus_text = '\\n'.join(rev.loc[:999, 'Text'].astype(str))\n",
    "data = []\n",
    "\n",
    "for i in sent_tokenize(corpus_text):\n",
    "    temp = [j.lower() for j in word_tokenize(i)]\n",
    "    data.append(temp)\n",
    "\n",
    "# --- 4. Labels ---\n",
    "labels = rev.loc[:999, 'Score'].astype(str).tolist()\n",
    "print(\"Number of samples:\", len(data))\n",
    "print(\"Number of labels:\", len(labels))"
   ],
   "id": "543e5f252bc07429",
   "outputs": [],
   "execution_count": null
  },
  {
   "metadata": {},
   "cell_type": "code",
   "source": [
    "def doc_vector(tokens, w2v, dim):\n",
    "    vecs = [w2v[t] for t in tokens if t in w2v]\n",
    "    if not vecs:\n",
    "        return np.zeros(dim)\n",
    "    return np.mean(vecs, axis=0)"
   ],
   "id": "bfed7fa35b76e883",
   "outputs": [],
   "execution_count": null
  },
  {
   "metadata": {},
   "cell_type": "code",
   "source": [
    "X = np.vstack([doc_vector(tokens, w2v, dim) for tokens in data[:1000]])\n",
    "y = np.array(labels)\n",
    "\n",
    "print(\"Feature matrix shape:\", X.shape)"
   ],
   "id": "ba4fbab303e3b939",
   "outputs": [],
   "execution_count": null
  },
  {
   "metadata": {},
   "cell_type": "code",
   "source": "len(y)",
   "id": "b004f4cf0b48354a",
   "outputs": [],
   "execution_count": null
  },
  {
   "metadata": {},
   "cell_type": "markdown",
   "source": "# Example classification task",
   "id": "b19cf787d39cad29"
  },
  {
   "metadata": {},
   "cell_type": "code",
   "source": [
    "from sklearn.model_selection import train_test_split\n",
    "#  Train/test split\n",
    "X_train, X_test, y_train, y_test = train_test_split(\n",
    "    X, y, test_size=0.3, random_state=42, stratify=y if len(set(y)) > 1 else None\n",
    ")"
   ],
   "id": "b10752a2c64cf12b",
   "outputs": [],
   "execution_count": null
  },
  {
   "metadata": {},
   "cell_type": "code",
   "source": [
    "from sklearn.linear_model import LogisticRegression\n",
    "from sklearn.metrics import confusion_matrix, classification_report\n",
    "\n",
    "\n",
    "#Train logistic regression\n",
    "clf = LogisticRegression(max_iter=200, n_jobs=-1)\n",
    "clf.fit(X_train, y_train)\n",
    "y_pred = clf.predict(X_test)\n",
    "\n",
    "#Evaluate\n",
    "labels_for_cm = sorted(set(y_test) | set(y_pred))  # safe union of actual and predicted\n",
    "\n",
    "print(classification_report(y_test, y_pred,\n",
    "                            labels=labels_for_cm,\n",
    "                            zero_division=0))\n"
   ],
   "id": "f1783e7e6578229",
   "outputs": [],
   "execution_count": null
  },
  {
   "metadata": {},
   "cell_type": "code",
   "source": "",
   "id": "d60b5eec8eb8c923",
   "outputs": [],
   "execution_count": null
  }
 ],
 "metadata": {
  "kernelspec": {
   "display_name": "Python 3",
   "language": "python",
   "name": "python3"
  },
  "language_info": {
   "codemirror_mode": {
    "name": "ipython",
    "version": 2
   },
   "file_extension": ".py",
   "mimetype": "text/x-python",
   "name": "python",
   "nbconvert_exporter": "python",
   "pygments_lexer": "ipython2",
   "version": "2.7.6"
  }
 },
 "nbformat": 4,
 "nbformat_minor": 5
}
