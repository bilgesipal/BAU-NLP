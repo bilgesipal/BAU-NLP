{
 "cells": [
  {
   "metadata": {},
   "cell_type": "markdown",
   "source": [
    "## Gensim Word2Vec Example\n",
    "Gensim is library that contains family of algorithms, using highly optimized C routines, data streaming and Pythonic interfaces.\n",
    "\n",
    "The word2vec algorithms include skip-gram and CBOW models, using either hierarchical softmax or negative sampling"
   ],
   "id": "9dbb5b744df6ba42"
  },
  {
   "metadata": {
    "collapsed": true,
    "ExecuteTime": {
     "end_time": "2025-10-31T10:49:50.907953Z",
     "start_time": "2025-10-31T10:49:40.230760Z"
    }
   },
   "cell_type": "code",
   "source": [
    "!pip install gensim\n",
    "!pip install nltk\n",
    "!pip install kagglehub"
   ],
   "id": "4069d9a154f932fd",
   "outputs": [
    {
     "name": "stdout",
     "output_type": "stream",
     "text": [
      "Requirement already satisfied: gensim in /Users/bilgesipal/PycharmProjects/boun_MIS48D/venv/lib/python3.11/site-packages (4.4.0)\r\n",
      "Requirement already satisfied: numpy>=1.18.5 in /Users/bilgesipal/PycharmProjects/boun_MIS48D/venv/lib/python3.11/site-packages (from gensim) (2.2.3)\r\n",
      "Requirement already satisfied: scipy>=1.7.0 in /Users/bilgesipal/PycharmProjects/boun_MIS48D/venv/lib/python3.11/site-packages (from gensim) (1.15.1)\r\n",
      "Requirement already satisfied: smart_open>=1.8.1 in /Users/bilgesipal/PycharmProjects/boun_MIS48D/venv/lib/python3.11/site-packages (from gensim) (7.1.0)\r\n",
      "Requirement already satisfied: wrapt in /Users/bilgesipal/PycharmProjects/boun_MIS48D/venv/lib/python3.11/site-packages (from smart_open>=1.8.1->gensim) (1.17.2)\r\n",
      "\r\n",
      "\u001B[1m[\u001B[0m\u001B[34;49mnotice\u001B[0m\u001B[1;39;49m]\u001B[0m\u001B[39;49m A new release of pip is available: \u001B[0m\u001B[31;49m23.2.1\u001B[0m\u001B[39;49m -> \u001B[0m\u001B[32;49m25.3\u001B[0m\r\n",
      "\u001B[1m[\u001B[0m\u001B[34;49mnotice\u001B[0m\u001B[1;39;49m]\u001B[0m\u001B[39;49m To update, run: \u001B[0m\u001B[32;49mpip install --upgrade pip\u001B[0m\r\n",
      "Requirement already satisfied: nltk in /Users/bilgesipal/PycharmProjects/boun_MIS48D/venv/lib/python3.11/site-packages (3.9.1)\r\n",
      "Requirement already satisfied: click in /Users/bilgesipal/PycharmProjects/boun_MIS48D/venv/lib/python3.11/site-packages (from nltk) (8.1.8)\r\n",
      "Requirement already satisfied: joblib in /Users/bilgesipal/PycharmProjects/boun_MIS48D/venv/lib/python3.11/site-packages (from nltk) (1.4.2)\r\n",
      "Requirement already satisfied: regex>=2021.8.3 in /Users/bilgesipal/PycharmProjects/boun_MIS48D/venv/lib/python3.11/site-packages (from nltk) (2024.11.6)\r\n",
      "Requirement already satisfied: tqdm in /Users/bilgesipal/PycharmProjects/boun_MIS48D/venv/lib/python3.11/site-packages (from nltk) (4.67.1)\r\n",
      "\r\n",
      "\u001B[1m[\u001B[0m\u001B[34;49mnotice\u001B[0m\u001B[1;39;49m]\u001B[0m\u001B[39;49m A new release of pip is available: \u001B[0m\u001B[31;49m23.2.1\u001B[0m\u001B[39;49m -> \u001B[0m\u001B[32;49m25.3\u001B[0m\r\n",
      "\u001B[1m[\u001B[0m\u001B[34;49mnotice\u001B[0m\u001B[1;39;49m]\u001B[0m\u001B[39;49m To update, run: \u001B[0m\u001B[32;49mpip install --upgrade pip\u001B[0m\r\n",
      "Collecting kagglehub\r\n",
      "  Obtaining dependency information for kagglehub from https://files.pythonhosted.org/packages/a4/8e/4077b08b95a1f8302c694a8b399bd413815fbe89045c41e6e08cd7d9439a/kagglehub-0.3.13-py3-none-any.whl.metadata\r\n",
      "  Downloading kagglehub-0.3.13-py3-none-any.whl.metadata (38 kB)\r\n",
      "Requirement already satisfied: packaging in /Users/bilgesipal/PycharmProjects/boun_MIS48D/venv/lib/python3.11/site-packages (from kagglehub) (24.2)\r\n",
      "Requirement already satisfied: pyyaml in /Users/bilgesipal/PycharmProjects/boun_MIS48D/venv/lib/python3.11/site-packages (from kagglehub) (6.0.2)\r\n",
      "Requirement already satisfied: requests in /Users/bilgesipal/PycharmProjects/boun_MIS48D/venv/lib/python3.11/site-packages (from kagglehub) (2.32.3)\r\n",
      "Requirement already satisfied: tqdm in /Users/bilgesipal/PycharmProjects/boun_MIS48D/venv/lib/python3.11/site-packages (from kagglehub) (4.67.1)\r\n",
      "Requirement already satisfied: charset-normalizer<4,>=2 in /Users/bilgesipal/PycharmProjects/boun_MIS48D/venv/lib/python3.11/site-packages (from requests->kagglehub) (3.4.1)\r\n",
      "Requirement already satisfied: idna<4,>=2.5 in /Users/bilgesipal/PycharmProjects/boun_MIS48D/venv/lib/python3.11/site-packages (from requests->kagglehub) (3.10)\r\n",
      "Requirement already satisfied: urllib3<3,>=1.21.1 in /Users/bilgesipal/PycharmProjects/boun_MIS48D/venv/lib/python3.11/site-packages (from requests->kagglehub) (2.3.0)\r\n",
      "Requirement already satisfied: certifi>=2017.4.17 in /Users/bilgesipal/PycharmProjects/boun_MIS48D/venv/lib/python3.11/site-packages (from requests->kagglehub) (2025.1.31)\r\n",
      "Downloading kagglehub-0.3.13-py3-none-any.whl (68 kB)\r\n",
      "\u001B[2K   \u001B[90m━━━━━━━━━━━━━━━━━━━━━━━━━━━━━━━━━━━━━━━━\u001B[0m \u001B[32m68.3/68.3 kB\u001B[0m \u001B[31m1.5 MB/s\u001B[0m eta \u001B[36m0:00:00\u001B[0ma \u001B[36m0:00:01\u001B[0m\r\n",
      "\u001B[?25hInstalling collected packages: kagglehub\r\n",
      "Successfully installed kagglehub-0.3.13\r\n",
      "\r\n",
      "\u001B[1m[\u001B[0m\u001B[34;49mnotice\u001B[0m\u001B[1;39;49m]\u001B[0m\u001B[39;49m A new release of pip is available: \u001B[0m\u001B[31;49m23.2.1\u001B[0m\u001B[39;49m -> \u001B[0m\u001B[32;49m25.3\u001B[0m\r\n",
      "\u001B[1m[\u001B[0m\u001B[34;49mnotice\u001B[0m\u001B[1;39;49m]\u001B[0m\u001B[39;49m To update, run: \u001B[0m\u001B[32;49mpip install --upgrade pip\u001B[0m\r\n"
     ]
    }
   ],
   "execution_count": 3
  },
  {
   "metadata": {
    "ExecuteTime": {
     "end_time": "2025-10-31T10:47:13.352106Z",
     "start_time": "2025-10-31T10:47:08.793826Z"
    }
   },
   "cell_type": "code",
   "outputs": [],
   "execution_count": 2,
   "source": [
    "from nltk.tokenize import sent_tokenize, word_tokenize\n",
    "import gensim\n",
    "from gensim.models import Word2Vec"
   ],
   "id": "a933dda7ff8f545a"
  },
  {
   "metadata": {},
   "cell_type": "markdown",
   "source": "Go to Kaggle website and download the archive \"Reviews.csv\" from the dataset \"Amazon Fine Food Reviews\": https://www.kaggle.com/datasets/snap/amazon-fine-food-reviews",
   "id": "95c125502dd83077"
  },
  {
   "metadata": {
    "ExecuteTime": {
     "end_time": "2025-10-31T10:57:51.315245Z",
     "start_time": "2025-10-31T10:57:47.460791Z"
    }
   },
   "cell_type": "code",
   "source": [
    "import pandas as pd\n",
    "rev = pd.read_csv(\"Reviews.csv\")\n",
    "print(rev.head())"
   ],
   "id": "a492630a2f30587f",
   "outputs": [
    {
     "name": "stdout",
     "output_type": "stream",
     "text": [
      "   Id   ProductId          UserId                      ProfileName  \\\n",
      "0   1  B001E4KFG0  A3SGXH7AUHU8GW                       delmartian   \n",
      "1   2  B00813GRG4  A1D87F6ZCVE5NK                           dll pa   \n",
      "2   3  B000LQOCH0   ABXLMWJIXXAIN  Natalia Corres \"Natalia Corres\"   \n",
      "3   4  B000UA0QIQ  A395BORC6FGVXV                             Karl   \n",
      "4   5  B006K2ZZ7K  A1UQRSCLF8GW1T    Michael D. Bigham \"M. Wassir\"   \n",
      "\n",
      "   HelpfulnessNumerator  HelpfulnessDenominator  Score        Time  \\\n",
      "0                     1                       1      5  1303862400   \n",
      "1                     0                       0      1  1346976000   \n",
      "2                     1                       1      4  1219017600   \n",
      "3                     3                       3      2  1307923200   \n",
      "4                     0                       0      5  1350777600   \n",
      "\n",
      "                 Summary                                               Text  \n",
      "0  Good Quality Dog Food  I have bought several of the Vitality canned d...  \n",
      "1      Not as Advertised  Product arrived labeled as Jumbo Salted Peanut...  \n",
      "2  \"Delight\" says it all  This is a confection that has been around a fe...  \n",
      "3         Cough Medicine  If you are looking for the secret ingredient i...  \n",
      "4            Great taffy  Great taffy at a great price.  There was a wid...  \n"
     ]
    }
   ],
   "execution_count": 17
  },
  {
   "metadata": {},
   "cell_type": "markdown",
   "source": "# We create the list of the words that our corpus has",
   "id": "bd7f66b3e04f21fb"
  },
  {
   "metadata": {
    "ExecuteTime": {
     "end_time": "2025-10-31T10:58:43.924423Z",
     "start_time": "2025-10-31T10:58:43.402357Z"
    }
   },
   "cell_type": "code",
   "source": [
    "corpus_text = 'n'.join(rev[:1000]['Text'])\n",
    "data = []\n",
    "# iterate through each sentence in the file\n",
    "for i in sent_tokenize(corpus_text):\n",
    "    temp = []\n",
    "    # tokenize the sentence into words\n",
    "    for j in word_tokenize(i):\n",
    "        temp.append(j.lower())\n",
    "    data.append(temp)"
   ],
   "id": "2b7c403eeae4967f",
   "outputs": [],
   "execution_count": 18
  },
  {
   "metadata": {},
   "cell_type": "markdown",
   "source": "# Create the Word2Vec model with Gensim",
   "id": "33b0c86c7cb47695"
  },
  {
   "metadata": {},
   "cell_type": "markdown",
   "source": [
    "Here's the table converted to markdown:\n",
    "\n",
    "| Parameter | Type / Default | Meaning |\n",
    "|-----------|----------------|---------|\n",
    "| sentences | list of list of str | Your training data — a list where each item is a tokenized sentence (e.g. [['I', 'love', 'NLP'], ['Word2Vec', 'is', 'cool']]). |\n",
    "| vector_size | int, default = 100 | Dimensionality of the word vectors (i.e., number of features in the embedding). Larger size captures more semantic nuance but requires more data and memory. |\n",
    "| window | int, default = 5 | Maximum distance between the target word and its surrounding context words. A larger window means a broader context. |\n",
    "| min_count | int, default = 5 | Ignores all words that appear fewer than this number of times. Helps filter out noise and rare words. |\n",
    "| sg | int, default = 0 | Defines the training algorithm:• sg = 0 → CBOW (Continuous Bag of Words) — predicts the current word from context.• sg = 1 → Skip-gram — predicts context words from the current word. Skip-gram works better with smaller datasets and rare words. |\n",
    "| epochs | int, default = 5 | Number of iterations (epochs) over the training corpus. Increasing can improve accuracy, but training takes longer. |\n",
    "| workers | int, default = 3 | Number of CPU cores to use for training (parallelization). The higher, the faster training will be. |\n",
    "| hs | int, default = 0 | If 1, hierarchical softmax is used for training; if 0, and negative > 0, then negative sampling is used instead. |\n",
    "| negative | int, default = 5 | Number of negative samples to use. Setting this to 0 disables negative sampling. Works only if hs=0. |\n",
    "| seed | int, optional | Random seed for reproducibility. |\n",
    "| alpha | float, default = 0.025 | The initial learning rate. It decreases linearly during training. |\n",
    "| min_alpha | float, default = 0.0001 | The minimum learning rate during training decay. |\n",
    "| max_vocab_size | int, optional | Limits RAM during vocabulary building — if not None, truncates the vocabulary to this size. |"
   ],
   "id": "5cf7be47867b6c7e"
  },
  {
   "metadata": {
    "ExecuteTime": {
     "end_time": "2025-10-31T11:05:44.010849Z",
     "start_time": "2025-10-31T11:05:42.940690Z"
    }
   },
   "cell_type": "code",
   "source": [
    "model1 = gensim.models.Word2Vec(data, min_count = 1,vector_size = 100, window = 5, sg=0)\n",
    "model2 = gensim.models.Word2Vec(data, min_count = 1, vector_size = 100, window = 5, sg = 1)"
   ],
   "id": "e4d49238901d7bab",
   "outputs": [],
   "execution_count": 21
  },
  {
   "metadata": {
    "ExecuteTime": {
     "end_time": "2025-10-31T11:06:48.635733Z",
     "start_time": "2025-10-31T11:06:48.619791Z"
    }
   },
   "cell_type": "code",
   "source": [
    "vector = model1.wv['tuna']  # get numpy vector of a word\n",
    "\n",
    "sims = model1.wv.most_similar('tuna', topn=10)  # get other similar words\n",
    "sims"
   ],
   "id": "21cba45b7e068acd",
   "outputs": [
    {
     "data": {
      "text/plain": [
       "[('good', 0.9899908304214478),\n",
       " ('open', 0.9898842573165894),\n",
       " ('but', 0.9898215532302856),\n",
       " ('they', 0.9897565245628357),\n",
       " ('strong', 0.9897210001945496),\n",
       " ('taste', 0.9897156357765198),\n",
       " ('so', 0.9896429777145386),\n",
       " ('bit', 0.9896155595779419),\n",
       " ('than', 0.989595890045166),\n",
       " ('too', 0.989519476890564)]"
      ]
     },
     "execution_count": 24,
     "metadata": {},
     "output_type": "execute_result"
    }
   ],
   "execution_count": 24
  },
  {
   "metadata": {
    "ExecuteTime": {
     "end_time": "2025-10-31T11:07:14.990251Z",
     "start_time": "2025-10-31T11:07:14.977954Z"
    }
   },
   "cell_type": "code",
   "source": [
    "vector = model2.wv['tuna']  # get numpy vector of a word\n",
    "\n",
    "sims = model2.wv.most_similar('tuna', topn=10)  # get other similar words\n",
    "sims"
   ],
   "id": "de8f5dd6eb6442af",
   "outputs": [
    {
     "data": {
      "text/plain": [
       "[('loaded', 0.9979016184806824),\n",
       " ('dark', 0.997722327709198),\n",
       " ('pineapple', 0.9975768327713013),\n",
       " ('packed', 0.997495174407959),\n",
       " ('berry', 0.9973620772361755),\n",
       " ('flat', 0.9971824288368225),\n",
       " ('heavy', 0.9971795082092285),\n",
       " ('rancid', 0.9971654415130615),\n",
       " ('caffeine', 0.9971510171890259),\n",
       " ('easier', 0.9971479177474976)]"
      ]
     },
     "execution_count": 25,
     "metadata": {},
     "output_type": "execute_result"
    }
   ],
   "execution_count": 25
  },
  {
   "metadata": {},
   "cell_type": "markdown",
   "source": [
    "The trained word vectors are stored in a KeyedVectors instance, as model.wv as seen above\n",
    "The reason for separating the trained vectors into KeyedVectors is that if you don’t need the full model state any more (don’t need to continue training), its state can be discarded, keeping just the vectors and their keys proper.\n",
    "\n",
    "This results in a much smaller and faster object that can be mmapped for lightning fast loading and sharing the vectors in RAM between processes:"
   ],
   "id": "ccab86666d015526"
  },
  {
   "metadata": {
    "ExecuteTime": {
     "end_time": "2025-10-31T11:09:34.769049Z",
     "start_time": "2025-10-31T11:09:34.741934Z"
    }
   },
   "cell_type": "code",
   "source": [
    "from gensim.models import KeyedVectors\n",
    "\n",
    "# Store just the words + their trained embeddings.\n",
    "\n",
    "word_vectors = model1.wv\n",
    "\n",
    "word_vectors.save(\"word2vec.wordvectors\")\n",
    "\n",
    "# Load back with memory-mapping = read-only, shared across processes.\n",
    "\n",
    "wv = KeyedVectors.load(\"word2vec.wordvectors\", mmap='r')\n",
    "\n",
    "vector = wv['computer']  # Get numpy vector of a word\n",
    "vector"
   ],
   "id": "76d3b781178f4505",
   "outputs": [
    {
     "data": {
      "text/plain": [
       "array([-0.01472778,  0.0125055 , -0.00509185,  0.00987635,  0.01021576,\n",
       "       -0.02438146,  0.00495023,  0.01368502, -0.00784239, -0.00670052,\n",
       "       -0.00625063, -0.02627889,  0.00277008,  0.01424747,  0.0033359 ,\n",
       "       -0.00895101, -0.00882116, -0.00324835, -0.00260253, -0.02320874,\n",
       "        0.01155806, -0.00289588,  0.00123141, -0.01916512, -0.0023807 ,\n",
       "        0.00104227, -0.00812353, -0.00684614, -0.01983803,  0.00213921,\n",
       "        0.00824856, -0.00447656,  0.01269457, -0.00809465,  0.00108675,\n",
       "        0.01592377, -0.00398536, -0.00154602, -0.00547724, -0.00738372,\n",
       "        0.01378865, -0.01898868,  0.00468487, -0.00893158,  0.02113138,\n",
       "        0.00091682, -0.0186873 ,  0.00487336, -0.00228076,  0.01275709,\n",
       "       -0.00327466, -0.0009361 ,  0.01317397, -0.01081174, -0.00219821,\n",
       "        0.00587832,  0.00444646, -0.00244603, -0.00214767,  0.00431362,\n",
       "        0.01447633, -0.01045399, -0.00278129, -0.00405764, -0.00173503,\n",
       "        0.01633202,  0.00610369,  0.00404233, -0.00980323,  0.02718562,\n",
       "       -0.00283431,  0.00033669,  0.01863512, -0.00150918,  0.00587664,\n",
       "       -0.01059613,  0.00507661,  0.00020923, -0.00420461, -0.00102545,\n",
       "       -0.00758613, -0.01449648, -0.01307596,  0.0079183 , -0.01214752,\n",
       "       -0.00392121,  0.00823672,  0.01026091,  0.02061833,  0.01119671,\n",
       "        0.01829709,  0.01233847, -0.00719486,  0.00903187,  0.02149851,\n",
       "        0.011017  , -0.00677468, -0.01689463,  0.00410799, -0.01216484],\n",
       "      dtype=float32)"
      ]
     },
     "execution_count": 29,
     "metadata": {},
     "output_type": "execute_result"
    }
   ],
   "execution_count": 29
  },
  {
   "metadata": {},
   "cell_type": "markdown",
   "source": "Code that finds the top similar words to \"tuna\" from your wv vectors and plots them in 2-D using PCA (deterministic and fast). It also highlights \"tuna\" and labels all points.",
   "id": "a3f76f74d243d588"
  },
  {
   "metadata": {
    "ExecuteTime": {
     "end_time": "2025-10-31T11:11:42.672354Z",
     "start_time": "2025-10-31T11:11:41.684945Z"
    }
   },
   "cell_type": "code",
   "source": [
    "import numpy as np\n",
    "import matplotlib.pyplot as plt\n",
    "from sklearn.decomposition import PCA\n",
    "\n",
    "def plot_similar_words(wv, query=\"tuna\", topn=15):\n",
    "    # Graceful fallback for casing\n",
    "    if query not in wv.key_to_index:\n",
    "        if query.lower() in wv.key_to_index:\n",
    "            query = query.lower()\n",
    "        elif query.title() in wv.key_to_index:\n",
    "            query = query.title()\n",
    "        else:\n",
    "            raise KeyError(f\"'{query}' not in vocabulary.\")\n",
    "\n",
    "    # Get similar words\n",
    "    sims = wv.most_similar(query, topn=topn)  # [(word, score), ...]\n",
    "    words = [w for w, _ in sims] + [query]\n",
    "\n",
    "    # Collect vectors\n",
    "    X = np.vstack([wv[w] for w in words])\n",
    "\n",
    "    # 2D projection\n",
    "    pca = PCA(n_components=2, random_state=42)\n",
    "    X2 = pca.fit_transform(X)\n",
    "\n",
    "    # Split for styling\n",
    "    query_xy = X2[-1]\n",
    "    others_xy = X2[:-1]\n",
    "    other_labels = words[:-1]\n",
    "\n",
    "    plt.figure(figsize=(8, 6))\n",
    "    # plot similar words\n",
    "    plt.scatter(others_xy[:, 0], others_xy[:, 1], s=60, alpha=0.8)\n",
    "    # plot the query word\n",
    "    plt.scatter(query_xy[0], query_xy[1], s=150, marker='*')  # highlighted\n",
    "\n",
    "    # annotate others\n",
    "    for (x, y), label in zip(others_xy, other_labels):\n",
    "        plt.text(x + 0.02, y + 0.02, label, fontsize=10)\n",
    "\n",
    "    # annotate query last so it's on top\n",
    "    plt.text(query_xy[0] + 0.02, query_xy[1] + 0.02, query, fontsize=12, weight=\"bold\")\n",
    "\n",
    "    plt.title(f\"Top-{topn} words similar to '{query}' (PCA projection)\")\n",
    "    plt.xlabel(\"PC 1\")\n",
    "    plt.ylabel(\"PC 2\")\n",
    "    plt.tight_layout()\n",
    "    plt.show()\n",
    "\n",
    "\n",
    "plot_similar_words(wv, query=\"tuna\", topn=15)\n"
   ],
   "id": "a6de9ab9f05d682c",
   "outputs": [
    {
     "data": {
      "text/plain": [
       "<Figure size 800x600 with 1 Axes>"
      ],
      "image/png": "[encoded data removed]"
     },
     "metadata": {},
     "output_type": "display_data",
     "jetTransient": {
      "display_id": null
     }
    }
   ],
   "execution_count": 30
  },
  {
   "metadata": {
    "ExecuteTime": {
     "end_time": "2025-10-31T11:14:25.933984Z",
     "start_time": "2025-10-31T11:14:25.800371Z"
    }
   },
   "cell_type": "code",
   "source": [
    "import matplotlib.pyplot as plt\n",
    "\n",
    "def bar_similarities(wv, query=\"tuna\", topn=10):\n",
    "    sims = wv.most_similar(query, topn=topn)\n",
    "    labels, scores = zip(*sims)\n",
    "    plt.figure(figsize=(8,4))\n",
    "    plt.barh(range(len(scores)), scores)\n",
    "    plt.yticks(range(len(scores)), labels)\n",
    "    plt.gca().invert_yaxis()\n",
    "    plt.title(f\"Cosine similarity to '{query}'\")\n",
    "    plt.tight_layout()\n",
    "    plt.show()\n",
    "\n",
    "bar_similarities(wv, \"cherry\")\n"
   ],
   "id": "f370e6d35fee0d33",
   "outputs": [
    {
     "data": {
      "text/plain": [
       "<Figure size 800x400 with 1 Axes>"
      ],
      "image/png": "[encoded data removed]"
     },
     "metadata": {},
     "output_type": "display_data",
     "jetTransient": {
      "display_id": null
     }
    }
   ],
   "execution_count": 35
  },
  {
   "metadata": {
    "ExecuteTime": {
     "end_time": "2025-10-31T11:22:18.460669Z",
     "start_time": "2025-10-31T11:22:18.302451Z"
    }
   },
   "cell_type": "code",
   "source": [
    "# Show all available models in gensim-data\n",
    "\n",
    "print(list(gensim.downloader.info()['models'].keys()))\n"
   ],
   "id": "be749f423128bcb1",
   "outputs": [
    {
     "name": "stdout",
     "output_type": "stream",
     "text": [
      "['fasttext-wiki-news-subwords-300', 'conceptnet-numberbatch-17-06-300', 'word2vec-ruscorpora-300', 'word2vec-google-news-300', 'glove-wiki-gigaword-50', 'glove-wiki-gigaword-100', 'glove-wiki-gigaword-200', 'glove-wiki-gigaword-300', 'glove-twitter-25', 'glove-twitter-50', 'glove-twitter-100', 'glove-twitter-200', '__testing_word2vec-matrix-synopsis']\n"
     ]
    }
   ],
   "execution_count": 38
  },
  {
   "metadata": {},
   "cell_type": "markdown",
   "source": [
    "# Homework\n",
    "1. Train Word2Vec models with different parameters (e.g., vector_size, window, sg) and compare the results.\n",
    "2. Use the trained Word2Vec embeddings in a simple text classification task (e.g., sentiment analysis) and evaluate the performance.\n",
    "3. Visualize the embeddings using PCA to see how similar words cluster together."
   ],
   "id": "b87c7fafeeba91ee"
  },
  {
   "metadata": {},
   "cell_type": "markdown",
   "source": [
    "# Use trained embeddings in downstream tasks\n",
    "You can use the trained Word2Vec/ Fasttext/ Glove embeddings as input features for various downstream NLP tasks such as text classification, named entity recognition, or machine translation. Here's a simple example of how to use the embeddings for text classification using a logistic regression model."
   ],
   "id": "9f95d1e2a1ffcdd"
  },
  {
   "metadata": {
    "ExecuteTime": {
     "end_time": "2025-10-31T11:38:23.961320Z",
     "start_time": "2025-10-31T11:38:23.958614Z"
    }
   },
   "cell_type": "code",
   "source": [
    "import re\n",
    "from tqdm import tqdm\n",
    "import numpy as np\n",
    "from pathlib import Path\n"
   ],
   "id": "805204362035717c",
   "outputs": [],
   "execution_count": 67
  },
  {
   "metadata": {
    "ExecuteTime": {
     "end_time": "2025-10-31T11:34:27.413268Z",
     "start_time": "2025-10-31T11:30:00.699162Z"
    }
   },
   "cell_type": "code",
   "source": [
    "import kagglehub\n",
    "\n",
    "# Download latest version\n",
    "path = kagglehub.dataset_download(\"leadbest/googlenewsvectorsnegative300\")\n",
    "\n",
    "print(\"Path to dataset files:\", path)"
   ],
   "id": "8652b9d43b80a3d4",
   "outputs": [
    {
     "name": "stdout",
     "output_type": "stream",
     "text": [
      "Downloading from https://www.kaggle.com/api/v1/datasets/download/leadbest/googlenewsvectorsnegative300?dataset_version_number=2...\n"
     ]
    },
    {
     "name": "stderr",
     "output_type": "stream",
     "text": [
      "100%|██████████| 3.17G/3.17G [04:06<00:00, 13.8MB/s]"
     ]
    },
    {
     "name": "stdout",
     "output_type": "stream",
     "text": [
      "Extracting files...\n"
     ]
    },
    {
     "name": "stderr",
     "output_type": "stream",
     "text": [
      "\n"
     ]
    },
    {
     "name": "stdout",
     "output_type": "stream",
     "text": [
      "Path to dataset files: /Users/bilgesipal/.cache/kagglehub/datasets/leadbest/googlenewsvectorsnegative300/versions/2\n"
     ]
    }
   ],
   "execution_count": 47
  },
  {
   "metadata": {
    "ExecuteTime": {
     "end_time": "2025-10-31T11:35:33.429210Z",
     "start_time": "2025-10-31T11:35:33.423385Z"
    }
   },
   "cell_type": "code",
   "source": "path",
   "id": "20f2f7d4c361f3ba",
   "outputs": [
    {
     "data": {
      "text/plain": [
       "'/Users/bilgesipal/.cache/kagglehub/datasets/leadbest/googlenewsvectorsnegative300/versions/2'"
      ]
     },
     "execution_count": 50,
     "metadata": {},
     "output_type": "execute_result"
    }
   ],
   "execution_count": 50
  },
  {
   "metadata": {
    "ExecuteTime": {
     "end_time": "2025-10-31T11:37:02.843219Z",
     "start_time": "2025-10-31T11:37:02.839311Z"
    }
   },
   "cell_type": "code",
   "source": [
    "emb_path = list(Path(path).rglob(\"GoogleNews-vectors-negative300.bin\"))[0]\n",
    "print(\"Embedding file:\", emb_path)"
   ],
   "id": "ce959691a1231e9a",
   "outputs": [
    {
     "name": "stdout",
     "output_type": "stream",
     "text": [
      "Embedding file: /Users/bilgesipal/.cache/kagglehub/datasets/leadbest/googlenewsvectorsnegative300/versions/2/GoogleNews-vectors-negative300.bin\n"
     ]
    }
   ],
   "execution_count": 60
  },
  {
   "metadata": {
    "ExecuteTime": {
     "end_time": "2025-10-31T11:37:55.014388Z",
     "start_time": "2025-10-31T11:37:55.009145Z"
    }
   },
   "cell_type": "code",
   "source": [
    "def load_word2vec_binary(path, limit=None):\n",
    "    \"\"\"Load GoogleNews .bin Word2Vec file (no gensim).\"\"\"\n",
    "    with open(path, \"rb\") as f:\n",
    "        header = f.readline()\n",
    "        vocab_size, dim = map(int, header.split())\n",
    "        print(f\"Header: {vocab_size} words, dim={dim}\")\n",
    "        word_vectors = {}\n",
    "        for i in tqdm(range(vocab_size if not limit else min(limit, vocab_size))):\n",
    "            # Read word\n",
    "            word = []\n",
    "            while True:\n",
    "                ch = f.read(1)\n",
    "                if ch == b' ':\n",
    "                    break\n",
    "                if ch == b'':\n",
    "                    break\n",
    "                word.append(ch)\n",
    "            word = b''.join(word).decode(\"utf-8\", errors=\"ignore\")\n",
    "            # Read vector\n",
    "            vec = np.frombuffer(f.read(dim * 4), dtype=np.float32)\n",
    "            f.read(1)  # newline\n",
    "            word_vectors[word] = vec\n",
    "        return word_vectors, dim"
   ],
   "id": "f1285b6131ccbca6",
   "outputs": [],
   "execution_count": 64
  },
  {
   "metadata": {
    "ExecuteTime": {
     "end_time": "2025-10-31T11:37:58.009051Z",
     "start_time": "2025-10-31T11:37:56.953874Z"
    }
   },
   "cell_type": "code",
   "source": [
    "#  Load limited subset for demo\n",
    "w2v, dim = load_word2vec_binary(emb_path, limit=200000)\n",
    "print(\"Loaded words:\", len(w2v))"
   ],
   "id": "b3954934efe2765f",
   "outputs": [
    {
     "name": "stdout",
     "output_type": "stream",
     "text": [
      "Header: 3000000 words, dim=300\n"
     ]
    },
    {
     "name": "stderr",
     "output_type": "stream",
     "text": [
      "100%|██████████| 200000/200000 [00:01<00:00, 190557.37it/s]"
     ]
    },
    {
     "name": "stdout",
     "output_type": "stream",
     "text": [
      "Loaded words: 152943\n"
     ]
    },
    {
     "name": "stderr",
     "output_type": "stream",
     "text": [
      "\n"
     ]
    }
   ],
   "execution_count": 65
  },
  {
   "metadata": {},
   "cell_type": "markdown",
   "source": "# The simplest representation of documents is avarage of word vectors",
   "id": "7712cae7e5f81263"
  },
  {
   "metadata": {
    "ExecuteTime": {
     "end_time": "2025-10-31T11:38:26.560829Z",
     "start_time": "2025-10-31T11:38:26.557769Z"
    }
   },
   "cell_type": "code",
   "source": [
    "def tokenize(text):\n",
    "    return re.findall(r\"[A-Za-z']+\", text.lower())\n"
   ],
   "id": "ffa872d92b586228",
   "outputs": [],
   "execution_count": 68
  },
  {
   "metadata": {
    "ExecuteTime": {
     "end_time": "2025-10-31T11:44:31.189658Z",
     "start_time": "2025-10-31T11:44:30.701918Z"
    }
   },
   "cell_type": "code",
   "source": [
    "corpus_text = '\\n'.join(rev.loc[:999, 'Text'].astype(str))\n",
    "data = []\n",
    "\n",
    "for i in sent_tokenize(corpus_text):\n",
    "    temp = [j.lower() for j in word_tokenize(i)]\n",
    "    data.append(temp)\n",
    "\n",
    "# --- 4. Labels ---\n",
    "labels = rev.loc[:999, 'Score'].astype(str).tolist()\n",
    "print(\"Number of samples:\", len(data))\n",
    "print(\"Number of labels:\", len(labels))"
   ],
   "id": "543e5f252bc07429",
   "outputs": [
    {
     "name": "stdout",
     "output_type": "stream",
     "text": [
      "Number of samples: 4511\n",
      "Number of labels: 1000\n"
     ]
    }
   ],
   "execution_count": 75
  },
  {
   "metadata": {
    "ExecuteTime": {
     "end_time": "2025-10-31T11:44:59.275547Z",
     "start_time": "2025-10-31T11:44:59.271822Z"
    }
   },
   "cell_type": "code",
   "source": [
    "def doc_vector(tokens, w2v, dim):\n",
    "    vecs = [w2v[t] for t in tokens if t in w2v]\n",
    "    if not vecs:\n",
    "        return np.zeros(dim)\n",
    "    return np.mean(vecs, axis=0)"
   ],
   "id": "bfed7fa35b76e883",
   "outputs": [],
   "execution_count": 76
  },
  {
   "metadata": {
    "ExecuteTime": {
     "end_time": "2025-10-31T11:51:31.869524Z",
     "start_time": "2025-10-31T11:51:31.831339Z"
    }
   },
   "cell_type": "code",
   "source": [
    "X = np.vstack([doc_vector(tokens, w2v, dim) for tokens in data[:1000]])\n",
    "y = np.array(labels)\n",
    "\n",
    "print(\"Feature matrix shape:\", X.shape)"
   ],
   "id": "ba4fbab303e3b939",
   "outputs": [
    {
     "name": "stdout",
     "output_type": "stream",
     "text": [
      "Feature matrix shape: (1000, 300)\n"
     ]
    }
   ],
   "execution_count": 83
  },
  {
   "metadata": {
    "ExecuteTime": {
     "end_time": "2025-10-31T11:51:34.105962Z",
     "start_time": "2025-10-31T11:51:34.102078Z"
    }
   },
   "cell_type": "code",
   "source": "len(y)",
   "id": "b004f4cf0b48354a",
   "outputs": [
    {
     "data": {
      "text/plain": [
       "1000"
      ]
     },
     "execution_count": 84,
     "metadata": {},
     "output_type": "execute_result"
    }
   ],
   "execution_count": 84
  },
  {
   "metadata": {},
   "cell_type": "markdown",
   "source": "# Example classification task",
   "id": "b19cf787d39cad29"
  },
  {
   "metadata": {
    "ExecuteTime": {
     "end_time": "2025-10-31T11:51:35.999365Z",
     "start_time": "2025-10-31T11:51:35.990483Z"
    }
   },
   "cell_type": "code",
   "source": [
    "from sklearn.model_selection import train_test_split\n",
    "#  Train/test split\n",
    "X_train, X_test, y_train, y_test = train_test_split(\n",
    "    X, y, test_size=0.3, random_state=42, stratify=y if len(set(y)) > 1 else None\n",
    ")"
   ],
   "id": "b10752a2c64cf12b",
   "outputs": [],
   "execution_count": 85
  },
  {
   "metadata": {
    "ExecuteTime": {
     "end_time": "2025-10-31T11:53:34.790616Z",
     "start_time": "2025-10-31T11:53:32.138Z"
    }
   },
   "cell_type": "code",
   "source": [
    "from sklearn.linear_model import LogisticRegression\n",
    "from sklearn.metrics import confusion_matrix, classification_report\n",
    "\n",
    "\n",
    "#Train logistic regression\n",
    "clf = LogisticRegression(max_iter=200, n_jobs=-1)\n",
    "clf.fit(X_train, y_train)\n",
    "y_pred = clf.predict(X_test)\n",
    "\n",
    "#Evaluate\n",
    "labels_for_cm = sorted(set(y_test) | set(y_pred))  # safe union of actual and predicted\n",
    "\n",
    "print(classification_report(y_test, y_pred,\n",
    "                            labels=labels_for_cm,\n",
    "                            zero_division=0))\n"
   ],
   "id": "f1783e7e6578229",
   "outputs": [
    {
     "name": "stdout",
     "output_type": "stream",
     "text": [
      "              precision    recall  f1-score   support\n",
      "\n",
      "           1       0.00      0.00      0.00        29\n",
      "           2       0.00      0.00      0.00        14\n",
      "           3       0.00      0.00      0.00        23\n",
      "           4       0.00      0.00      0.00        41\n",
      "           5       0.64      0.99      0.78       193\n",
      "\n",
      "    accuracy                           0.64       300\n",
      "   macro avg       0.13      0.20      0.16       300\n",
      "weighted avg       0.41      0.64      0.50       300\n",
      "\n"
     ]
    }
   ],
   "execution_count": 89
  },
  {
   "metadata": {},
   "cell_type": "code",
   "outputs": [],
   "execution_count": null,
   "source": "",
   "id": "d60b5eec8eb8c923"
  }
 ],
 "metadata": {
  "kernelspec": {
   "display_name": "Python 3",
   "language": "python",
   "name": "python3"
  },
  "language_info": {
   "codemirror_mode": {
    "name": "ipython",
    "version": 2
   },
   "file_extension": ".py",
   "mimetype": "text/x-python",
   "name": "python",
   "nbconvert_exporter": "python",
   "pygments_lexer": "ipython2",
   "version": "2.7.6"
  }
 },
 "nbformat": 4,
 "nbformat_minor": 5
}
