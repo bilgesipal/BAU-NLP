{
 "cells": [
  {
   "cell_type": "code",
   "metadata": {
    "id": "-VGm_BqVRhr1",
    "ExecuteTime": {
     "end_time": "2025-10-17T17:54:05.543717Z",
     "start_time": "2025-10-17T17:54:04.685576Z"
    }
   },
   "source": [
    "import nltk\n",
    "from nltk import sent_tokenize, word_tokenize, pos_tag\n",
    "import pandas\n",
    "from nltk.tokenize import sent_tokenize\n",
    "from nltk.tokenize import RegexpTokenizer\n"
   ],
   "outputs": [],
   "execution_count": 1
  },
  {
   "metadata": {
    "ExecuteTime": {
     "end_time": "2025-10-17T17:54:07.267630Z",
     "start_time": "2025-10-17T17:54:07.210101Z"
    }
   },
   "cell_type": "code",
   "source": [
    "nltk.download('punkt')  # if you tokenize words\n",
    "# Try the new name first (NLTK ≥ 3.9):\n",
    "nltk.download('averaged_perceptron_tagger_eng')\n",
    "# If that doesn't exist (older NLTK), use:\n",
    "nltk.download('averaged_perceptron_tagger')"
   ],
   "outputs": [
    {
     "name": "stderr",
     "output_type": "stream",
     "text": [
      "[nltk_data] Error loading punkt: <urlopen error [Errno 8] nodename nor\n",
      "[nltk_data]     servname provided, or not known>\n",
      "[nltk_data] Error loading averaged_perceptron_tagger_eng: <urlopen\n",
      "[nltk_data]     error [Errno 8] nodename nor servname provided, or not\n",
      "[nltk_data]     known>\n",
      "[nltk_data] Error loading averaged_perceptron_tagger: <urlopen error\n",
      "[nltk_data]     [Errno 8] nodename nor servname provided, or not\n",
      "[nltk_data]     known>\n"
     ]
    },
    {
     "data": {
      "text/plain": [
       "False"
      ]
     },
     "execution_count": 2,
     "metadata": {},
     "output_type": "execute_result"
    }
   ],
   "execution_count": 2
  },
  {
   "cell_type": "code",
   "metadata": {
    "id": "-m3Lwi3-Rhr3",
    "ExecuteTime": {
     "end_time": "2025-10-17T17:54:29.331736Z",
     "start_time": "2025-10-17T17:54:29.309239Z"
    }
   },
   "source": [
    "# Load Dataset\n",
    "df = pandas.read_csv('theil_econlp-18_data.csv',delimiter='?')\n",
    "print(df)"
   ],
   "outputs": [
    {
     "name": "stdout",
     "output_type": "stream",
     "text": [
      "                                             Document   Label;\n",
      "0    For example\\, we may record as regulatory asse...      c;\n",
      "1    In connection with this transaction\\, all of o...      c;\n",
      "2    The warrants were valued using the Black-Schol...      c;\n",
      "3    In July of 2006\\, we entered into an operating...      c;\n",
      "4    Certain regulatory assets do not result from c...      c;\n",
      "..                                                 ...     ...\n",
      "995  The 2000 volumes reflect the impact of additio...      c;\n",
      "996  The exercise price per share for each such opt...      c;\n",
      "997  As of June 30\\, 2006\\, the outstanding mortgag...      c;\n",
      "998  The General Partner and the Commodity Broker p...      c;\n",
      "999  Clients pay for inclusion of their interviews ...      c;\n",
      "\n",
      "[1000 rows x 2 columns]\n"
     ]
    }
   ],
   "execution_count": 3
  },
  {
   "cell_type": "code",
   "metadata": {
    "id": "Ql8HsOHWRhr4",
    "outputId": "cad08a0a-59a4-4c55-f858-851a35cdff2e",
    "ExecuteTime": {
     "end_time": "2025-10-17T17:54:36.615136Z",
     "start_time": "2025-10-17T17:54:36.606838Z"
    }
   },
   "source": [
    "df.head()"
   ],
   "outputs": [
    {
     "data": {
      "text/plain": [
       "                                           Document   Label;\n",
       "0  For example\\, we may record as regulatory asse...      c;\n",
       "1  In connection with this transaction\\, all of o...      c;\n",
       "2  The warrants were valued using the Black-Schol...      c;\n",
       "3  In July of 2006\\, we entered into an operating...      c;\n",
       "4  Certain regulatory assets do not result from c...      c;"
      ],
      "text/html": [
       "<div>\n",
       "<style scoped>\n",
       "    .dataframe tbody tr th:only-of-type {\n",
       "        vertical-align: middle;\n",
       "    }\n",
       "\n",
       "    .dataframe tbody tr th {\n",
       "        vertical-align: top;\n",
       "    }\n",
       "\n",
       "    .dataframe thead th {\n",
       "        text-align: right;\n",
       "    }\n",
       "</style>\n",
       "<table border=\"1\" class=\"dataframe\">\n",
       "  <thead>\n",
       "    <tr style=\"text-align: right;\">\n",
       "      <th></th>\n",
       "      <th>Document</th>\n",
       "      <th>Label;</th>\n",
       "    </tr>\n",
       "  </thead>\n",
       "  <tbody>\n",
       "    <tr>\n",
       "      <th>0</th>\n",
       "      <td>For example\\, we may record as regulatory asse...</td>\n",
       "      <td>c;</td>\n",
       "    </tr>\n",
       "    <tr>\n",
       "      <th>1</th>\n",
       "      <td>In connection with this transaction\\, all of o...</td>\n",
       "      <td>c;</td>\n",
       "    </tr>\n",
       "    <tr>\n",
       "      <th>2</th>\n",
       "      <td>The warrants were valued using the Black-Schol...</td>\n",
       "      <td>c;</td>\n",
       "    </tr>\n",
       "    <tr>\n",
       "      <th>3</th>\n",
       "      <td>In July of 2006\\, we entered into an operating...</td>\n",
       "      <td>c;</td>\n",
       "    </tr>\n",
       "    <tr>\n",
       "      <th>4</th>\n",
       "      <td>Certain regulatory assets do not result from c...</td>\n",
       "      <td>c;</td>\n",
       "    </tr>\n",
       "  </tbody>\n",
       "</table>\n",
       "</div>"
      ]
     },
     "execution_count": 4,
     "metadata": {},
     "output_type": "execute_result"
    }
   ],
   "execution_count": 4
  },
  {
   "cell_type": "code",
   "metadata": {
    "id": "jnOc1ZcFRhr4",
    "outputId": "36054e66-a494-4108-d8f7-96340dfae1be",
    "ExecuteTime": {
     "end_time": "2025-10-17T17:55:24.015097Z",
     "start_time": "2025-10-17T17:55:24.008681Z"
    }
   },
   "source": [
    "df.columns"
   ],
   "outputs": [
    {
     "data": {
      "text/plain": [
       "Index(['Document ', ' Label;'], dtype='object')"
      ]
     },
     "execution_count": 5,
     "metadata": {},
     "output_type": "execute_result"
    }
   ],
   "execution_count": 5
  },
  {
   "cell_type": "code",
   "metadata": {
    "id": "6Y-3BPnNRhr5",
    "ExecuteTime": {
     "end_time": "2025-10-17T17:55:29.041659Z",
     "start_time": "2025-10-17T17:55:29.038313Z"
    }
   },
   "source": [
    "X=df['Document ']\n",
    "y=df[' Label;']"
   ],
   "outputs": [],
   "execution_count": 6
  },
  {
   "cell_type": "code",
   "metadata": {
    "id": "CrC33xT_Rhr6",
    "outputId": "8fedca11-4945-4b20-ca70-d58695d211fd"
   },
   "source": "X.head(5)",
   "outputs": [],
   "execution_count": null
  },
  {
   "cell_type": "code",
   "metadata": {
    "id": "vregsO8_Rhr6",
    "ExecuteTime": {
     "end_time": "2025-10-17T17:55:34.201460Z",
     "start_time": "2025-10-17T17:55:34.121481Z"
    }
   },
   "source": [
    "for i in range(len(y)):\n",
    "    if y[i]=='c;':\n",
    "        y[i]='1'\n",
    "    else:\n",
    "          y[i]='0'"
   ],
   "outputs": [],
   "execution_count": 7
  },
  {
   "cell_type": "code",
   "metadata": {
    "id": "FvWJE55IRhr7",
    "outputId": "56e3e5f6-a97c-4b92-9604-14d58bf989e2",
    "ExecuteTime": {
     "end_time": "2025-10-17T17:55:36.662880Z",
     "start_time": "2025-10-17T17:55:36.654458Z"
    }
   },
   "source": "y.describe()",
   "outputs": [
    {
     "data": {
      "text/plain": [
       "count     1000\n",
       "unique       2\n",
       "top          1\n",
       "freq       846\n",
       "Name:  Label;, dtype: object"
      ]
     },
     "execution_count": 8,
     "metadata": {},
     "output_type": "execute_result"
    }
   ],
   "execution_count": 8
  },
  {
   "metadata": {
    "ExecuteTime": {
     "end_time": "2025-10-17T17:55:54.561220Z",
     "start_time": "2025-10-17T17:55:54.556408Z"
    }
   },
   "cell_type": "code",
   "source": "y.value_counts()",
   "outputs": [
    {
     "data": {
      "text/plain": [
       " Label;\n",
       "1    846\n",
       "0    154\n",
       "Name: count, dtype: int64"
      ]
     },
     "execution_count": 9,
     "metadata": {},
     "output_type": "execute_result"
    }
   ],
   "execution_count": 9
  },
  {
   "cell_type": "code",
   "metadata": {
    "id": "snFScod3Rhr7",
    "outputId": "18baecdb-4993-4db8-9132-6ff3759a0310",
    "ExecuteTime": {
     "end_time": "2025-10-17T17:56:22.878921Z",
     "start_time": "2025-10-17T17:56:22.875519Z"
    }
   },
   "source": [
    "txt=X[1]\n",
    "print(txt)"
   ],
   "outputs": [
    {
     "name": "stdout",
     "output_type": "stream",
     "text": [
      "In connection with this transaction\\, all of our outstanding shares of preferred stock on October 13\\, 2010 were converted into shares of our common stock and all of our then outstanding options and warrants were exercised or exchanged for restricted or unrestricted shares of our common stock or were exchanged for unrestricted shares and cash\n"
     ]
    }
   ],
   "execution_count": 10
  },
  {
   "cell_type": "code",
   "metadata": {
    "id": "QO15E34ORhr8",
    "outputId": "a167bb69-0212-452a-b3c0-18acc08b1c1b",
    "ExecuteTime": {
     "end_time": "2025-10-17T17:56:46.457164Z",
     "start_time": "2025-10-17T17:56:46.452435Z"
    }
   },
   "source": [
    "tokenizer = RegexpTokenizer(r'\\w+')\n",
    "t_word=tokenizer.tokenize(txt)\n",
    "t_word[:5]"
   ],
   "outputs": [
    {
     "data": {
      "text/plain": [
       "['In', 'connection', 'with', 'this', 'transaction']"
      ]
     },
     "execution_count": 11,
     "metadata": {},
     "output_type": "execute_result"
    }
   ],
   "execution_count": 11
  },
  {
   "cell_type": "code",
   "metadata": {
    "id": "UI6RPnlzRhr9",
    "outputId": "87e4330c-0427-42f4-d8ec-a47f5edc3512",
    "ExecuteTime": {
     "end_time": "2025-10-17T17:57:00.714593Z",
     "start_time": "2025-10-17T17:57:00.685715Z"
    }
   },
   "source": [
    "# from nltk.tokenize import sent_tokenize, word_tokenize\n",
    "tokenized_text=sent_tokenize(txt)\n",
    "print(tokenized_text)"
   ],
   "outputs": [
    {
     "name": "stdout",
     "output_type": "stream",
     "text": [
      "['In connection with this transaction\\\\, all of our outstanding shares of preferred stock on October 13\\\\, 2010 were converted into shares of our common stock and all of our then outstanding options and warrants were exercised or exchanged for restricted or unrestricted shares of our common stock or were exchanged for unrestricted shares and cash']\n"
     ]
    }
   ],
   "execution_count": 12
  },
  {
   "cell_type": "code",
   "metadata": {
    "id": "xX8wdBK0Rhr9",
    "outputId": "63cb1d95-ce94-4119-ea1f-0f9cd2ccb52a",
    "ExecuteTime": {
     "end_time": "2025-10-17T17:57:15.988065Z",
     "start_time": "2025-10-17T17:57:15.984240Z"
    }
   },
   "source": [
    "# compare with word_tokenize and sent_tokenize\n",
    "tokenized_word=word_tokenize(txt)\n",
    "print(tokenized_word)"
   ],
   "outputs": [
    {
     "name": "stdout",
     "output_type": "stream",
     "text": [
      "['In', 'connection', 'with', 'this', 'transaction\\\\', ',', 'all', 'of', 'our', 'outstanding', 'shares', 'of', 'preferred', 'stock', 'on', 'October', '13\\\\', ',', '2010', 'were', 'converted', 'into', 'shares', 'of', 'our', 'common', 'stock', 'and', 'all', 'of', 'our', 'then', 'outstanding', 'options', 'and', 'warrants', 'were', 'exercised', 'or', 'exchanged', 'for', 'restricted', 'or', 'unrestricted', 'shares', 'of', 'our', 'common', 'stock', 'or', 'were', 'exchanged', 'for', 'unrestricted', 'shares', 'and', 'cash']\n"
     ]
    }
   ],
   "execution_count": 13
  },
  {
   "cell_type": "code",
   "metadata": {
    "id": "g04k6OsbRhr-",
    "outputId": "0e17c7c5-9309-4881-889a-bd5162a8a885",
    "ExecuteTime": {
     "end_time": "2025-10-17T17:57:18.472688Z",
     "start_time": "2025-10-17T17:57:18.469246Z"
    }
   },
   "source": [
    "# Frequency Distribution\n",
    "from nltk.probability import FreqDist\n",
    "fdist = FreqDist(tokenized_word)\n",
    "print(fdist)"
   ],
   "outputs": [
    {
     "name": "stdout",
     "output_type": "stream",
     "text": [
      "<FreqDist with 32 samples and 57 outcomes>\n"
     ]
    }
   ],
   "execution_count": 14
  },
  {
   "cell_type": "code",
   "metadata": {
    "id": "5AyG3WqjRhr-",
    "outputId": "56386cb2-5110-47fc-881c-1d36b525a813",
    "ExecuteTime": {
     "end_time": "2025-10-17T17:57:21.804429Z",
     "start_time": "2025-10-17T17:57:21.800312Z"
    }
   },
   "source": [
    "fdist.most_common(2)"
   ],
   "outputs": [
    {
     "data": {
      "text/plain": [
       "[('of', 5), ('our', 4)]"
      ]
     },
     "execution_count": 15,
     "metadata": {},
     "output_type": "execute_result"
    }
   ],
   "execution_count": 15
  },
  {
   "cell_type": "code",
   "metadata": {
    "id": "70auWLyXRhr_",
    "outputId": "73bb0469-a0c2-487a-8376-92809efd91bb",
    "ExecuteTime": {
     "end_time": "2025-10-17T17:57:33.373456Z",
     "start_time": "2025-10-17T17:57:33.366659Z"
    }
   },
   "source": [
    "from nltk.corpus import stopwords\n",
    "stop_words=set(stopwords.words(\"english\"))\n",
    "print(stop_words)"
   ],
   "outputs": [
    {
     "name": "stdout",
     "output_type": "stream",
     "text": [
      "{'through', 'further', 'yourself', 're', \"they've\", \"weren't\", 'because', 'own', \"we'd\", 'ma', 'd', \"i'd\", 'on', 'those', 's', 'weren', \"haven't\", \"mustn't\", 'do', \"she'd\", 'than', \"that'll\", 'be', 'o', 'y', 'what', 'these', 'ours', 'was', 'her', \"i'm\", 'themselves', 'they', 'here', \"mightn't\", 'should', 'during', 'will', 'haven', 'wouldn', \"you're\", 't', 'that', 'with', \"shan't\", 'my', 'a', \"he's\", \"it'd\", 'is', 'at', 'does', 'if', 've', \"don't\", 'again', 'by', \"should've\", 'have', 'whom', 'before', 'such', 'doing', \"wouldn't\", 'each', 'couldn', 'this', 'when', 'i', \"couldn't\", 'shouldn', 'while', 'against', 'other', 'ourselves', 'has', 'any', 'can', \"you'd\", 'its', \"needn't\", 'off', 'not', \"she's\", 'just', 'm', 'as', 'from', 'out', \"hadn't\", 'in', 'so', \"they'd\", \"you'll\", 'won', 'shan', 'theirs', 'needn', 'all', 'him', 'under', \"shouldn't\", 'where', 'yourselves', 'very', \"it'll\", 'after', 'some', 'the', 'wasn', \"we're\", 'having', 'into', 'for', 'am', 'did', 'below', 'don', 'he', 'up', \"he'd\", 'isn', 'she', 'no', \"they're\", \"didn't\", 'or', 'over', 'your', \"isn't\", \"you've\", 'of', 'them', 'herself', 'you', 'been', 'once', \"wasn't\", 'too', 'above', \"it's\", 'aren', \"we've\", 'nor', 'down', \"hasn't\", \"i've\", \"won't\", 'are', \"aren't\", 'hadn', 'we', 'll', 'until', 'but', \"doesn't\", 'which', \"i'll\", \"he'll\", 'to', 'hers', 'itself', 'how', 'between', 'myself', 'who', 'and', 'their', 'why', 'didn', \"we'll\", 'yours', 'ain', \"she'll\", 'doesn', 'it', 'me', \"they'll\", 'there', 'then', 'mustn', 'being', 'hasn', 'his', 'same', 'mightn', 'about', 'now', 'were', 'most', 'our', 'an', 'both', 'few', 'himself', 'only', 'more', 'had'}\n"
     ]
    }
   ],
   "execution_count": 16
  },
  {
   "cell_type": "code",
   "metadata": {
    "id": "Lj-GVT_NRhr_",
    "outputId": "47e6ce07-2963-4b45-e354-8c38eb8584e3",
    "ExecuteTime": {
     "end_time": "2025-10-17T17:57:53.602923Z",
     "start_time": "2025-10-17T17:57:53.599277Z"
    }
   },
   "source": [
    "filtered_sent=[]\n",
    "for w in t_word:\n",
    "    if w not in stop_words:\n",
    "        filtered_sent.append(w)\n",
    "        #print(\"Tokenized Sentence:\",tokenized_text)\n",
    "print(\"Filterd Sentence:\",filtered_sent)"
   ],
   "outputs": [
    {
     "name": "stdout",
     "output_type": "stream",
     "text": [
      "Filterd Sentence: ['In', 'connection', 'transaction', 'outstanding', 'shares', 'preferred', 'stock', 'October', '13', '2010', 'converted', 'shares', 'common', 'stock', 'outstanding', 'options', 'warrants', 'exercised', 'exchanged', 'restricted', 'unrestricted', 'shares', 'common', 'stock', 'exchanged', 'unrestricted', 'shares', 'cash']\n"
     ]
    }
   ],
   "execution_count": 17
  },
  {
   "cell_type": "code",
   "metadata": {
    "id": "I_ydDB8GRhsA",
    "outputId": "8c91f21c-8d15-4d2d-94bb-e1c57c6d66a3",
    "ExecuteTime": {
     "end_time": "2025-10-17T17:57:56.648509Z",
     "start_time": "2025-10-17T17:57:56.634199Z"
    }
   },
   "source": [
    "import nltk\n",
    "nltk.download('wordnet')"
   ],
   "outputs": [
    {
     "name": "stderr",
     "output_type": "stream",
     "text": [
      "[nltk_data] Error loading wordnet: <urlopen error [Errno 8] nodename\n",
      "[nltk_data]     nor servname provided, or not known>\n"
     ]
    },
    {
     "data": {
      "text/plain": [
       "False"
      ]
     },
     "execution_count": 18,
     "metadata": {},
     "output_type": "execute_result"
    }
   ],
   "execution_count": 18
  },
  {
   "cell_type": "code",
   "metadata": {
    "id": "ggoAGANbRhsA",
    "outputId": "5127299c-3184-4549-acfb-29c9330879a1",
    "ExecuteTime": {
     "end_time": "2025-10-17T17:58:08.099961Z",
     "start_time": "2025-10-17T17:58:05.615234Z"
    }
   },
   "source": [
    "from nltk.stem.wordnet import WordNetLemmatizer\n",
    "lem = WordNetLemmatizer()\n",
    "\n",
    "from nltk.stem.porter import PorterStemmer\n",
    "stem = PorterStemmer()\n",
    "\n",
    "word = \"flying\"\n",
    "print(\"Lemmatized Word:\",lem.lemmatize(word,\"v\"))\n",
    "print(\"Stemmed Word:\",stem.stem(word))"
   ],
   "outputs": [
    {
     "name": "stdout",
     "output_type": "stream",
     "text": [
      "Lemmatized Word: fly\n",
      "Stemmed Word: fli\n"
     ]
    }
   ],
   "execution_count": 19
  },
  {
   "cell_type": "markdown",
   "metadata": {
    "id": "SW0Segu-RhsA"
   },
   "source": [
    "### POS-TAG NOUN, PRONOUN, ADJECTIVE, VERB, ADVERBS,"
   ]
  },
  {
   "metadata": {},
   "cell_type": "markdown",
   "source": [
    "*** This list means NLTK has parsed each word and assigned it a syntactic label (POS tag). ***\n",
    "For example:\n",
    "\n",
    "NN / NNS → noun (singular / plural)\n",
    "\n",
    "JJ → adjective\n",
    "\n",
    "VBD / VBN → verb (past tense / past participle)\n",
    "\n",
    "IN → preposition\n",
    "\n",
    "DT → determiner (“the,” “this,” “all”)\n",
    "\n",
    "CC → coordinating conjunction (“and,” “or”)\n",
    "\n",
    "PRP$ → possessive pronoun (“our,” “his”)\n",
    "\n",
    "This is the standard Penn Treebank POS tagset, which NLTK uses by default."
   ]
  },
  {
   "cell_type": "code",
   "metadata": {
    "id": "rG4k6OCbRhsB",
    "outputId": "43499fe4-3cac-45ce-8bd4-21e2fb5f7ec9",
    "ExecuteTime": {
     "end_time": "2025-10-17T18:00:58.704170Z",
     "start_time": "2025-10-17T18:00:58.590434Z"
    }
   },
   "source": [
    "# POS Tagging\n",
    "nltk.pos_tag(t_word)"
   ],
   "outputs": [
    {
     "data": {
      "text/plain": [
       "[('In', 'IN'),\n",
       " ('connection', 'NN'),\n",
       " ('with', 'IN'),\n",
       " ('this', 'DT'),\n",
       " ('transaction', 'NN'),\n",
       " ('all', 'DT'),\n",
       " ('of', 'IN'),\n",
       " ('our', 'PRP$'),\n",
       " ('outstanding', 'JJ'),\n",
       " ('shares', 'NNS'),\n",
       " ('of', 'IN'),\n",
       " ('preferred', 'JJ'),\n",
       " ('stock', 'NN'),\n",
       " ('on', 'IN'),\n",
       " ('October', 'NNP'),\n",
       " ('13', 'CD'),\n",
       " ('2010', 'CD'),\n",
       " ('were', 'VBD'),\n",
       " ('converted', 'VBN'),\n",
       " ('into', 'IN'),\n",
       " ('shares', 'NNS'),\n",
       " ('of', 'IN'),\n",
       " ('our', 'PRP$'),\n",
       " ('common', 'JJ'),\n",
       " ('stock', 'NN'),\n",
       " ('and', 'CC'),\n",
       " ('all', 'DT'),\n",
       " ('of', 'IN'),\n",
       " ('our', 'PRP$'),\n",
       " ('then', 'RB'),\n",
       " ('outstanding', 'JJ'),\n",
       " ('options', 'NNS'),\n",
       " ('and', 'CC'),\n",
       " ('warrants', 'NNS'),\n",
       " ('were', 'VBD'),\n",
       " ('exercised', 'VBN'),\n",
       " ('or', 'CC'),\n",
       " ('exchanged', 'VBN'),\n",
       " ('for', 'IN'),\n",
       " ('restricted', 'VBN'),\n",
       " ('or', 'CC'),\n",
       " ('unrestricted', 'JJ'),\n",
       " ('shares', 'NNS'),\n",
       " ('of', 'IN'),\n",
       " ('our', 'PRP$'),\n",
       " ('common', 'JJ'),\n",
       " ('stock', 'NN'),\n",
       " ('or', 'CC'),\n",
       " ('were', 'VBD'),\n",
       " ('exchanged', 'VBN'),\n",
       " ('for', 'IN'),\n",
       " ('unrestricted', 'JJ'),\n",
       " ('shares', 'NNS'),\n",
       " ('and', 'CC'),\n",
       " ('cash', 'NN')]"
      ]
     },
     "execution_count": 20,
     "metadata": {},
     "output_type": "execute_result"
    }
   ],
   "execution_count": 20
  },
  {
   "cell_type": "markdown",
   "metadata": {
    "id": "4h-pakpbRhsC"
   },
   "source": [
    "### BAG of Words"
   ]
  },
  {
   "metadata": {
    "ExecuteTime": {
     "end_time": "2025-10-17T18:01:41.441819Z",
     "start_time": "2025-10-17T18:01:41.438822Z"
    }
   },
   "cell_type": "code",
   "source": [
    "import warnings\n",
    "warnings.filterwarnings(\"ignore\", message=\"The parameter 'token_pattern' will not be used since 'tokenizer' is not None\")\n"
   ],
   "outputs": [],
   "execution_count": 21
  },
  {
   "cell_type": "code",
   "metadata": {
    "id": "OjFoscBBRhsC",
    "ExecuteTime": {
     "end_time": "2025-10-17T18:14:15.322316Z",
     "start_time": "2025-10-17T18:14:15.293040Z"
    }
   },
   "source": [
    "from sklearn.feature_extraction.text import CountVectorizer\n",
    "from nltk.tokenize import RegexpTokenizer\n",
    "#tokenizer to remove unwanted elements from out data like symbols and numbers\n",
    "token = RegexpTokenizer(r'[a-zA-Z0-9]+')\n",
    "cv = CountVectorizer(lowercase=True,\n",
    "                     stop_words='english',\n",
    "                     ngram_range = (1,1),\n",
    "                     tokenizer = token.tokenize)\n",
    "text_counts= cv.fit_transform(X)"
   ],
   "outputs": [],
   "execution_count": 25
  },
  {
   "cell_type": "code",
   "metadata": {
    "id": "SpKwzskTRhsC",
    "ExecuteTime": {
     "end_time": "2025-10-17T18:14:17.731422Z",
     "start_time": "2025-10-17T18:14:17.726057Z"
    }
   },
   "source": [
    "from sklearn.model_selection import train_test_split\n",
    "X_train, X_test, y_train, y_test = train_test_split(\n",
    "   text_counts, y, test_size=0.3, random_state=1)"
   ],
   "outputs": [],
   "execution_count": 26
  },
  {
   "cell_type": "code",
   "metadata": {
    "id": "q7btJCngRhsC",
    "outputId": "36cd499b-51c3-4479-fdad-544fc35b6020",
    "ExecuteTime": {
     "end_time": "2025-10-17T18:14:19.921921Z",
     "start_time": "2025-10-17T18:14:19.906291Z"
    }
   },
   "source": [
    "\n",
    "from sklearn.naive_bayes import MultinomialNB\n",
    "\n",
    "from sklearn import metrics\n",
    "\n",
    "clf = MultinomialNB().fit(X_train, y_train)\n",
    "predicted= clf.predict(X_test)\n",
    "print(\"Naive Bayes:\",metrics.accuracy_score(y_test, predicted))\n"
   ],
   "outputs": [
    {
     "name": "stdout",
     "output_type": "stream",
     "text": [
      "Naive Bayes: 0.8033333333333333\n"
     ]
    }
   ],
   "execution_count": 27
  },
  {
   "metadata": {
    "ExecuteTime": {
     "end_time": "2025-10-17T18:14:27.425396Z",
     "start_time": "2025-10-17T18:14:27.410045Z"
    }
   },
   "cell_type": "code",
   "source": [
    "from sklearn import metrics\n",
    "# Print accuracy\n",
    "print(\"Naive Bayes Accuracy:\", metrics.accuracy_score(y_test, predicted))\n",
    "\n",
    "# Print detailed classification report\n",
    "print(\"\\nClassification Report:\\n\")\n",
    "print(metrics.classification_report(y_test, predicted))"
   ],
   "outputs": [
    {
     "name": "stdout",
     "output_type": "stream",
     "text": [
      "Naive Bayes Accuracy: 0.8033333333333333\n",
      "\n",
      "Classification Report:\n",
      "\n",
      "              precision    recall  f1-score   support\n",
      "\n",
      "           0       0.44      0.45      0.45        53\n",
      "           1       0.88      0.88      0.88       247\n",
      "\n",
      "    accuracy                           0.80       300\n",
      "   macro avg       0.66      0.67      0.66       300\n",
      "weighted avg       0.80      0.80      0.80       300\n",
      "\n"
     ]
    }
   ],
   "execution_count": 28
  },
  {
   "metadata": {
    "ExecuteTime": {
     "end_time": "2025-10-17T18:15:20.498443Z",
     "start_time": "2025-10-17T18:15:20.337621Z"
    }
   },
   "cell_type": "code",
   "source": [
    "import matplotlib.pyplot as plt\n",
    "from sklearn.metrics import ConfusionMatrixDisplay\n",
    "\n",
    "ConfusionMatrixDisplay.from_estimator(clf, X_test, y_test)\n",
    "plt.show()"
   ],
   "outputs": [
    {
     "data": {
      "text/plain": [
       "<Figure size 640x480 with 2 Axes>"
      ],
      "image/png": "[encoded data removed]"
     },
     "metadata": {},
     "output_type": "display_data",
     "jetTransient": {
      "display_id": null
     }
    }
   ],
   "execution_count": 29
  },
  {
   "cell_type": "markdown",
   "metadata": {
    "id": "m4BDZeSRRhsD"
   },
   "source": [
    "#### TF-IDF"
   ]
  },
  {
   "cell_type": "code",
   "metadata": {
    "id": "i3zaRf_0RhsD",
    "ExecuteTime": {
     "end_time": "2025-10-17T18:15:34.608397Z",
     "start_time": "2025-10-17T18:15:34.569495Z"
    }
   },
   "source": [
    "from sklearn.feature_extraction.text import TfidfVectorizer\n",
    "tf=TfidfVectorizer()\n",
    "text_tf= tf.fit_transform(X)"
   ],
   "outputs": [],
   "execution_count": 30
  },
  {
   "cell_type": "code",
   "metadata": {
    "id": "HFZYiG-6RhsD",
    "outputId": "dc6ea514-16c0-47ed-b294-a23a8fd3d1a6",
    "ExecuteTime": {
     "end_time": "2025-10-17T18:15:36.376651Z",
     "start_time": "2025-10-17T18:15:36.371752Z"
    }
   },
   "source": [
    "text_tf"
   ],
   "outputs": [
    {
     "data": {
      "text/plain": [
       "<Compressed Sparse Row sparse matrix of dtype 'float64'\n",
       "\twith 21959 stored elements and shape (1000, 4209)>"
      ]
     },
     "execution_count": 31,
     "metadata": {},
     "output_type": "execute_result"
    }
   ],
   "execution_count": 31
  },
  {
   "cell_type": "code",
   "metadata": {
    "id": "b2ELKEuSRhsD",
    "ExecuteTime": {
     "end_time": "2025-10-17T18:15:37.608693Z",
     "start_time": "2025-10-17T18:15:37.603599Z"
    }
   },
   "source": [
    "from sklearn.model_selection import train_test_split\n",
    "X_train, X_test, y_train, y_test = train_test_split(\n",
    "   text_tf,y, test_size=0.3, random_state=1)"
   ],
   "outputs": [],
   "execution_count": 32
  },
  {
   "cell_type": "code",
   "metadata": {
    "id": "8Myd_S4PRhsE",
    "outputId": "002bf322-8926-4018-dc80-bbf0db28b483",
    "ExecuteTime": {
     "end_time": "2025-10-17T18:15:40.822925Z",
     "start_time": "2025-10-17T18:15:40.813025Z"
    }
   },
   "source": [
    "from sklearn.naive_bayes import MultinomialNB\n",
    "\n",
    "from sklearn import metrics\n",
    "\n",
    "clf = MultinomialNB().fit(X_train, y_train)\n",
    "predicted= clf.predict(X_test)\n",
    "print(\"Naive Bayes Doğruluk:\",metrics.accuracy_score(y_test, predicted))\n"
   ],
   "outputs": [
    {
     "name": "stdout",
     "output_type": "stream",
     "text": [
      "Naive Bayes Doğruluk: 0.8233333333333334\n"
     ]
    }
   ],
   "execution_count": 33
  },
  {
   "cell_type": "code",
   "metadata": {
    "id": "xUnjTSWARhsF",
    "ExecuteTime": {
     "end_time": "2025-10-17T18:15:45.218763Z",
     "start_time": "2025-10-17T18:15:45.203817Z"
    }
   },
   "source": [
    "print(\"Naive Bayes Accuracy:\", metrics.accuracy_score(y_test, predicted))\n",
    "\n",
    "# Print detailed classification report\n",
    "print(\"\\nClassification Report:\\n\")\n",
    "print(metrics.classification_report(y_test, predicted, zero_division=0))"
   ],
   "outputs": [
    {
     "name": "stdout",
     "output_type": "stream",
     "text": [
      "Naive Bayes Accuracy: 0.8233333333333334\n",
      "\n",
      "Classification Report:\n",
      "\n",
      "              precision    recall  f1-score   support\n",
      "\n",
      "           0       0.00      0.00      0.00        53\n",
      "           1       0.82      1.00      0.90       247\n",
      "\n",
      "    accuracy                           0.82       300\n",
      "   macro avg       0.41      0.50      0.45       300\n",
      "weighted avg       0.68      0.82      0.74       300\n",
      "\n"
     ]
    }
   ],
   "execution_count": 34
  },
  {
   "metadata": {},
   "cell_type": "code",
   "source": [
    "import numpy as np\n",
    "unique, counts = np.unique(y_train, return_counts=True)\n",
    "print(dict(zip(unique, counts)))"
   ],
   "outputs": [],
   "execution_count": null
  },
  {
   "metadata": {},
   "cell_type": "markdown",
   "source": [
    "## Lets fix the imbalanced data with RandomOverSampler\n",
    "#!pip install imbalanced-learn\n",
    "The RandomOverSampler (or \"random sampler\") is a simple but effective technique to fix class imbalance in machine learning datasets — that is, when one class has far fewer samples than others.\n",
    "\n",
    "Before resampling:\n",
    " Class | Count |\n",
    "|--------|--------|\n",
    "| 0 | 50 |\n",
    "| 1 | 250 |\n",
    "\n",
    "After applying RandomOverSampler:\n",
    "\n",
    "| Class | Count |\n",
    "|--------|--------|\n",
    "| 0 | 250 |\n",
    "| 1 | 250 |"
   ]
  },
  {
   "metadata": {
    "ExecuteTime": {
     "end_time": "2025-10-17T18:18:35.911701Z",
     "start_time": "2025-10-17T18:18:35.904443Z"
    }
   },
   "cell_type": "code",
   "source": [
    "from imblearn.over_sampling import RandomOverSampler\n",
    "ros = RandomOverSampler(random_state=42)\n",
    "X_train_bal, y_train_bal = ros.fit_resample(X_train, y_train)"
   ],
   "outputs": [],
   "execution_count": 37
  },
  {
   "metadata": {
    "ExecuteTime": {
     "end_time": "2025-10-17T18:18:36.970166Z",
     "start_time": "2025-10-17T18:18:36.965744Z"
    }
   },
   "cell_type": "code",
   "source": [
    "import numpy as np\n",
    "unique, counts = np.unique(y_train_bal, return_counts=True)\n",
    "print(dict(zip(unique, counts)))"
   ],
   "outputs": [
    {
     "name": "stdout",
     "output_type": "stream",
     "text": [
      "{'0': np.int64(599), '1': np.int64(599)}\n"
     ]
    }
   ],
   "execution_count": 38
  },
  {
   "metadata": {
    "ExecuteTime": {
     "end_time": "2025-10-17T18:18:39.833835Z",
     "start_time": "2025-10-17T18:18:39.812829Z"
    }
   },
   "cell_type": "code",
   "source": [
    "from sklearn.naive_bayes import MultinomialNB\n",
    "clf = MultinomialNB().fit(X_train_bal, y_train_bal)\n",
    "pred = clf.predict(X_test)\n",
    "\n",
    "from sklearn import metrics\n",
    "print(\"Accuracy:\", metrics.accuracy_score(y_test, pred))\n",
    "print(metrics.classification_report(y_test, pred, zero_division=0))"
   ],
   "outputs": [
    {
     "name": "stdout",
     "output_type": "stream",
     "text": [
      "Accuracy: 0.7433333333333333\n",
      "              precision    recall  f1-score   support\n",
      "\n",
      "           0       0.35      0.55      0.43        53\n",
      "           1       0.89      0.79      0.83       247\n",
      "\n",
      "    accuracy                           0.74       300\n",
      "   macro avg       0.62      0.67      0.63       300\n",
      "weighted avg       0.80      0.74      0.76       300\n",
      "\n"
     ]
    }
   ],
   "execution_count": 39
  }
 ],
 "metadata": {
  "kernelspec": {
   "display_name": "Python 3",
   "language": "python",
   "name": "python3"
  },
  "language_info": {
   "codemirror_mode": {
    "name": "ipython",
    "version": 3
   },
   "file_extension": ".py",
   "mimetype": "text/x-python",
   "name": "python",
   "nbconvert_exporter": "python",
   "pygments_lexer": "ipython3",
   "version": "3.7.4"
  },
  "colab": {
   "provenance": []
  }
 },
 "nbformat": 4,
 "nbformat_minor": 0
}
