{
 "cells": [
  {
   "cell_type": "code",
   "metadata": {
    "id": "-VGm_BqVRhr1",
    "ExecuteTime": {
     "end_time": "2025-10-17T11:32:52.422085Z",
     "start_time": "2025-10-17T11:32:52.418960Z"
    }
   },
   "source": [
    "import nltk\n",
    "from nltk import sent_tokenize, word_tokenize, pos_tag\n",
    "import pandas\n",
    "from nltk.tokenize import sent_tokenize\n",
    "from nltk.tokenize import RegexpTokenizer\n"
   ],
   "outputs": [],
   "execution_count": 29
  },
  {
   "metadata": {
    "ExecuteTime": {
     "end_time": "2025-10-17T11:32:52.464730Z",
     "start_time": "2025-10-17T11:32:52.446231Z"
    }
   },
   "cell_type": "code",
   "source": [
    "nltk.download('punkt')  # if you tokenize words\n",
    "# Try the new name first (NLTK ≥ 3.9):\n",
    "nltk.download('averaged_perceptron_tagger_eng')\n",
    "# If that doesn't exist (older NLTK), use:\n",
    "nltk.download('averaged_perceptron_tagger')"
   ],
   "outputs": [
    {
     "name": "stderr",
     "output_type": "stream",
     "text": [
      "[nltk_data] Downloading package punkt to\n",
      "[nltk_data]     /Users/bilgesipal/nltk_data...\n",
      "[nltk_data]   Package punkt is already up-to-date!\n",
      "[nltk_data] Downloading package averaged_perceptron_tagger_eng to\n",
      "[nltk_data]     /Users/bilgesipal/nltk_data...\n",
      "[nltk_data]   Package averaged_perceptron_tagger_eng is already up-to-\n",
      "[nltk_data]       date!\n",
      "[nltk_data] Downloading package averaged_perceptron_tagger to\n",
      "[nltk_data]     /Users/bilgesipal/nltk_data...\n",
      "[nltk_data]   Package averaged_perceptron_tagger is already up-to-\n",
      "[nltk_data]       date!\n"
     ]
    },
    {
     "data": {
      "text/plain": [
       "True"
      ]
     },
     "execution_count": 30,
     "metadata": {},
     "output_type": "execute_result"
    }
   ],
   "execution_count": 30
  },
  {
   "cell_type": "code",
   "metadata": {
    "id": "-m3Lwi3-Rhr3",
    "ExecuteTime": {
     "end_time": "2025-10-17T11:32:52.500387Z",
     "start_time": "2025-10-17T11:32:52.480289Z"
    }
   },
   "source": [
    "# Load Dataset\n",
    "df = pandas.read_csv('theil_econlp-18_data.csv',delimiter='?')\n",
    "print(df)"
   ],
   "outputs": [
    {
     "name": "stdout",
     "output_type": "stream",
     "text": [
      "                                             Document   Label;\n",
      "0    For example\\, we may record as regulatory asse...      c;\n",
      "1    In connection with this transaction\\, all of o...      c;\n",
      "2    The warrants were valued using the Black-Schol...      c;\n",
      "3    In July of 2006\\, we entered into an operating...      c;\n",
      "4    Certain regulatory assets do not result from c...      c;\n",
      "..                                                 ...     ...\n",
      "995  The 2000 volumes reflect the impact of additio...      c;\n",
      "996  The exercise price per share for each such opt...      c;\n",
      "997  As of June 30\\, 2006\\, the outstanding mortgag...      c;\n",
      "998  The General Partner and the Commodity Broker p...      c;\n",
      "999  Clients pay for inclusion of their interviews ...      c;\n",
      "\n",
      "[1000 rows x 2 columns]\n"
     ]
    }
   ],
   "execution_count": 31
  },
  {
   "cell_type": "code",
   "metadata": {
    "id": "Ql8HsOHWRhr4",
    "outputId": "cad08a0a-59a4-4c55-f858-851a35cdff2e",
    "ExecuteTime": {
     "end_time": "2025-10-17T11:32:52.521132Z",
     "start_time": "2025-10-17T11:32:52.508916Z"
    }
   },
   "source": [
    "df.head()"
   ],
   "outputs": [
    {
     "data": {
      "text/plain": [
       "                                           Document   Label;\n",
       "0  For example\\, we may record as regulatory asse...      c;\n",
       "1  In connection with this transaction\\, all of o...      c;\n",
       "2  The warrants were valued using the Black-Schol...      c;\n",
       "3  In July of 2006\\, we entered into an operating...      c;\n",
       "4  Certain regulatory assets do not result from c...      c;"
      ],
      "text/html": [
       "<div>\n",
       "<style scoped>\n",
       "    .dataframe tbody tr th:only-of-type {\n",
       "        vertical-align: middle;\n",
       "    }\n",
       "\n",
       "    .dataframe tbody tr th {\n",
       "        vertical-align: top;\n",
       "    }\n",
       "\n",
       "    .dataframe thead th {\n",
       "        text-align: right;\n",
       "    }\n",
       "</style>\n",
       "<table border=\"1\" class=\"dataframe\">\n",
       "  <thead>\n",
       "    <tr style=\"text-align: right;\">\n",
       "      <th></th>\n",
       "      <th>Document</th>\n",
       "      <th>Label;</th>\n",
       "    </tr>\n",
       "  </thead>\n",
       "  <tbody>\n",
       "    <tr>\n",
       "      <th>0</th>\n",
       "      <td>For example\\, we may record as regulatory asse...</td>\n",
       "      <td>c;</td>\n",
       "    </tr>\n",
       "    <tr>\n",
       "      <th>1</th>\n",
       "      <td>In connection with this transaction\\, all of o...</td>\n",
       "      <td>c;</td>\n",
       "    </tr>\n",
       "    <tr>\n",
       "      <th>2</th>\n",
       "      <td>The warrants were valued using the Black-Schol...</td>\n",
       "      <td>c;</td>\n",
       "    </tr>\n",
       "    <tr>\n",
       "      <th>3</th>\n",
       "      <td>In July of 2006\\, we entered into an operating...</td>\n",
       "      <td>c;</td>\n",
       "    </tr>\n",
       "    <tr>\n",
       "      <th>4</th>\n",
       "      <td>Certain regulatory assets do not result from c...</td>\n",
       "      <td>c;</td>\n",
       "    </tr>\n",
       "  </tbody>\n",
       "</table>\n",
       "</div>"
      ]
     },
     "execution_count": 32,
     "metadata": {},
     "output_type": "execute_result"
    }
   ],
   "execution_count": 32
  },
  {
   "cell_type": "code",
   "metadata": {
    "id": "jnOc1ZcFRhr4",
    "outputId": "36054e66-a494-4108-d8f7-96340dfae1be",
    "ExecuteTime": {
     "end_time": "2025-10-17T11:32:52.616158Z",
     "start_time": "2025-10-17T11:32:52.611316Z"
    }
   },
   "source": [
    "df.columns"
   ],
   "outputs": [
    {
     "data": {
      "text/plain": [
       "Index(['Document ', ' Label;'], dtype='object')"
      ]
     },
     "execution_count": 33,
     "metadata": {},
     "output_type": "execute_result"
    }
   ],
   "execution_count": 33
  },
  {
   "cell_type": "code",
   "metadata": {
    "id": "6Y-3BPnNRhr5",
    "ExecuteTime": {
     "end_time": "2025-10-17T11:32:52.723876Z",
     "start_time": "2025-10-17T11:32:52.719794Z"
    }
   },
   "source": [
    "X=df['Document ']\n",
    "y=df[' Label;']"
   ],
   "outputs": [],
   "execution_count": 34
  },
  {
   "cell_type": "code",
   "metadata": {
    "id": "CrC33xT_Rhr6",
    "outputId": "8fedca11-4945-4b20-ca70-d58695d211fd",
    "ExecuteTime": {
     "end_time": "2025-10-17T11:32:52.776818Z",
     "start_time": "2025-10-17T11:32:52.770302Z"
    }
   },
   "source": "X.head(5)",
   "outputs": [
    {
     "data": {
      "text/plain": [
       "0    For example\\, we may record as regulatory asse...\n",
       "1    In connection with this transaction\\, all of o...\n",
       "2    The warrants were valued using the Black-Schol...\n",
       "3    In July of 2006\\, we entered into an operating...\n",
       "4    Certain regulatory assets do not result from c...\n",
       "Name: Document , dtype: object"
      ]
     },
     "execution_count": 35,
     "metadata": {},
     "output_type": "execute_result"
    }
   ],
   "execution_count": 35
  },
  {
   "cell_type": "code",
   "metadata": {
    "id": "vregsO8_Rhr6",
    "ExecuteTime": {
     "end_time": "2025-10-17T11:32:52.927306Z",
     "start_time": "2025-10-17T11:32:52.836478Z"
    }
   },
   "source": [
    "for i in range(len(y)):\n",
    "    if y[i]=='c;':\n",
    "        y[i]='1'\n",
    "    else:\n",
    "          y[i]='0'"
   ],
   "outputs": [],
   "execution_count": 36
  },
  {
   "cell_type": "code",
   "metadata": {
    "id": "FvWJE55IRhr7",
    "outputId": "56e3e5f6-a97c-4b92-9604-14d58bf989e2",
    "ExecuteTime": {
     "end_time": "2025-10-17T11:32:52.986337Z",
     "start_time": "2025-10-17T11:32:52.977513Z"
    }
   },
   "source": "y.describe()",
   "outputs": [
    {
     "data": {
      "text/plain": [
       "count     1000\n",
       "unique       2\n",
       "top          1\n",
       "freq       846\n",
       "Name:  Label;, dtype: object"
      ]
     },
     "execution_count": 37,
     "metadata": {},
     "output_type": "execute_result"
    }
   ],
   "execution_count": 37
  },
  {
   "metadata": {
    "ExecuteTime": {
     "end_time": "2025-10-17T11:32:53.065185Z",
     "start_time": "2025-10-17T11:32:53.060244Z"
    }
   },
   "cell_type": "code",
   "source": "y.value_counts()",
   "outputs": [
    {
     "data": {
      "text/plain": [
       " Label;\n",
       "1    846\n",
       "0    154\n",
       "Name: count, dtype: int64"
      ]
     },
     "execution_count": 38,
     "metadata": {},
     "output_type": "execute_result"
    }
   ],
   "execution_count": 38
  },
  {
   "cell_type": "code",
   "metadata": {
    "id": "snFScod3Rhr7",
    "outputId": "18baecdb-4993-4db8-9132-6ff3759a0310",
    "ExecuteTime": {
     "end_time": "2025-10-17T11:32:53.263354Z",
     "start_time": "2025-10-17T11:32:53.259500Z"
    }
   },
   "source": [
    "txt=X[1]\n",
    "print(txt)"
   ],
   "outputs": [
    {
     "name": "stdout",
     "output_type": "stream",
     "text": [
      "In connection with this transaction\\, all of our outstanding shares of preferred stock on October 13\\, 2010 were converted into shares of our common stock and all of our then outstanding options and warrants were exercised or exchanged for restricted or unrestricted shares of our common stock or were exchanged for unrestricted shares and cash\n"
     ]
    }
   ],
   "execution_count": 39
  },
  {
   "cell_type": "code",
   "metadata": {
    "id": "QO15E34ORhr8",
    "outputId": "a167bb69-0212-452a-b3c0-18acc08b1c1b",
    "ExecuteTime": {
     "end_time": "2025-10-17T11:32:53.298855Z",
     "start_time": "2025-10-17T11:32:53.294907Z"
    }
   },
   "source": [
    "tokenizer = RegexpTokenizer(r'\\w+')\n",
    "t_word=tokenizer.tokenize(txt)\n",
    "t_word[:5]"
   ],
   "outputs": [
    {
     "data": {
      "text/plain": [
       "['In', 'connection', 'with', 'this', 'transaction']"
      ]
     },
     "execution_count": 40,
     "metadata": {},
     "output_type": "execute_result"
    }
   ],
   "execution_count": 40
  },
  {
   "cell_type": "code",
   "metadata": {
    "id": "UI6RPnlzRhr9",
    "outputId": "87e4330c-0427-42f4-d8ec-a47f5edc3512",
    "ExecuteTime": {
     "end_time": "2025-10-17T11:32:53.319830Z",
     "start_time": "2025-10-17T11:32:53.316424Z"
    }
   },
   "source": [
    "# from nltk.tokenize import sent_tokenize, word_tokenize\n",
    "tokenized_text=sent_tokenize(txt)\n",
    "print(tokenized_text)"
   ],
   "outputs": [
    {
     "name": "stdout",
     "output_type": "stream",
     "text": [
      "['In connection with this transaction\\\\, all of our outstanding shares of preferred stock on October 13\\\\, 2010 were converted into shares of our common stock and all of our then outstanding options and warrants were exercised or exchanged for restricted or unrestricted shares of our common stock or were exchanged for unrestricted shares and cash']\n"
     ]
    }
   ],
   "execution_count": 41
  },
  {
   "cell_type": "code",
   "metadata": {
    "id": "xX8wdBK0Rhr9",
    "outputId": "63cb1d95-ce94-4119-ea1f-0f9cd2ccb52a",
    "ExecuteTime": {
     "end_time": "2025-10-17T11:32:53.338286Z",
     "start_time": "2025-10-17T11:32:53.334508Z"
    }
   },
   "source": [
    "# compare with word_tokenize and sent_tokenize\n",
    "tokenized_word=word_tokenize(txt)\n",
    "print(tokenized_word)"
   ],
   "outputs": [
    {
     "name": "stdout",
     "output_type": "stream",
     "text": [
      "['In', 'connection', 'with', 'this', 'transaction\\\\', ',', 'all', 'of', 'our', 'outstanding', 'shares', 'of', 'preferred', 'stock', 'on', 'October', '13\\\\', ',', '2010', 'were', 'converted', 'into', 'shares', 'of', 'our', 'common', 'stock', 'and', 'all', 'of', 'our', 'then', 'outstanding', 'options', 'and', 'warrants', 'were', 'exercised', 'or', 'exchanged', 'for', 'restricted', 'or', 'unrestricted', 'shares', 'of', 'our', 'common', 'stock', 'or', 'were', 'exchanged', 'for', 'unrestricted', 'shares', 'and', 'cash']\n"
     ]
    }
   ],
   "execution_count": 42
  },
  {
   "cell_type": "code",
   "metadata": {
    "id": "g04k6OsbRhr-",
    "outputId": "0e17c7c5-9309-4881-889a-bd5162a8a885",
    "ExecuteTime": {
     "end_time": "2025-10-17T11:32:53.358385Z",
     "start_time": "2025-10-17T11:32:53.354615Z"
    }
   },
   "source": [
    "# Frequency Distribution\n",
    "from nltk.probability import FreqDist\n",
    "fdist = FreqDist(tokenized_word)\n",
    "print(fdist)"
   ],
   "outputs": [
    {
     "name": "stdout",
     "output_type": "stream",
     "text": [
      "<FreqDist with 32 samples and 57 outcomes>\n"
     ]
    }
   ],
   "execution_count": 43
  },
  {
   "cell_type": "code",
   "metadata": {
    "id": "5AyG3WqjRhr-",
    "outputId": "56386cb2-5110-47fc-881c-1d36b525a813",
    "ExecuteTime": {
     "end_time": "2025-10-17T11:32:53.380725Z",
     "start_time": "2025-10-17T11:32:53.376577Z"
    }
   },
   "source": [
    "fdist.most_common(2)"
   ],
   "outputs": [
    {
     "data": {
      "text/plain": [
       "[('of', 5), ('our', 4)]"
      ]
     },
     "execution_count": 44,
     "metadata": {},
     "output_type": "execute_result"
    }
   ],
   "execution_count": 44
  },
  {
   "cell_type": "code",
   "metadata": {
    "id": "70auWLyXRhr_",
    "outputId": "73bb0469-a0c2-487a-8376-92809efd91bb",
    "ExecuteTime": {
     "end_time": "2025-10-17T11:32:53.399717Z",
     "start_time": "2025-10-17T11:32:53.394680Z"
    }
   },
   "source": [
    "from nltk.corpus import stopwords\n",
    "stop_words=set(stopwords.words(\"english\"))\n",
    "print(stop_words)"
   ],
   "outputs": [
    {
     "name": "stdout",
     "output_type": "stream",
     "text": [
      "{'again', 'into', 'ma', \"he's\", 'off', 'can', \"wouldn't\", 'against', 'does', 'then', 'for', \"i'll\", 'was', 'doesn', 'am', 'been', \"mustn't\", 'yourself', \"she's\", 'in', 'now', 'having', 'those', 'any', 'which', 'aren', 'theirs', 'very', \"i've\", 'needn', \"aren't\", \"they've\", 'by', \"couldn't\", \"hadn't\", \"won't\", 'above', 'nor', \"you'll\", 'weren', 'mustn', 'below', 'will', 'ain', 'other', 'do', \"wasn't\", 'to', 'why', 'it', 'myself', 'few', 'll', 's', \"weren't\", 'some', 'only', 'themselves', 'where', \"that'll\", \"we'd\", 'up', 'wouldn', 'at', 'couldn', 'won', 'further', 'be', 'how', 'they', 'our', 'just', 'yours', 'who', 've', 'not', 'own', 'hadn', 'the', \"hasn't\", 'down', \"we'll\", 'have', 'no', 'with', \"i'm\", 'ours', 'more', 'after', 'you', 'about', 'this', 'an', 'wasn', \"shan't\", 'what', 'being', \"they'd\", 'shouldn', 'her', 'and', 'is', 'than', 'were', 'so', 'herself', 'me', 'that', 'between', 'your', \"shouldn't\", 'i', 'y', \"it'll\", 'yourselves', 'are', \"mightn't\", 'itself', 'through', \"we're\", 'has', 'himself', 'these', 'hasn', \"she'd\", \"you've\", 'haven', \"he'll\", 'he', 'isn', 'from', 'she', \"they're\", 'while', 'but', \"she'll\", 'such', \"you'd\", 'as', 'same', \"it'd\", 'on', 'my', \"we've\", 'when', 'hers', 'their', \"doesn't\", 'under', 'because', 'we', 'most', 'whom', 'before', 'd', 'him', 'if', 'don', 'should', 't', 'all', 'once', \"don't\", \"he'd\", 'a', 'them', 'until', 'mightn', 'ourselves', 'his', \"it's\", 'there', 'of', 'm', 'did', 'both', 'didn', 'its', 'too', 'here', \"i'd\", \"haven't\", \"isn't\", \"didn't\", 'o', \"they'll\", \"you're\", 'or', 'each', 'doing', 'shan', 'over', 're', 'had', \"needn't\", 'out', \"should've\", 'during'}\n"
     ]
    }
   ],
   "execution_count": 45
  },
  {
   "cell_type": "code",
   "metadata": {
    "id": "Lj-GVT_NRhr_",
    "outputId": "47e6ce07-2963-4b45-e354-8c38eb8584e3",
    "ExecuteTime": {
     "end_time": "2025-10-17T11:32:53.418886Z",
     "start_time": "2025-10-17T11:32:53.415271Z"
    }
   },
   "source": [
    "filtered_sent=[]\n",
    "for w in t_word:\n",
    "    if w not in stop_words:\n",
    "        filtered_sent.append(w)\n",
    "        #print(\"Tokenized Sentence:\",tokenized_text)\n",
    "print(\"Filterd Sentence:\",filtered_sent)"
   ],
   "outputs": [
    {
     "name": "stdout",
     "output_type": "stream",
     "text": [
      "Filterd Sentence: ['In', 'connection', 'transaction', 'outstanding', 'shares', 'preferred', 'stock', 'October', '13', '2010', 'converted', 'shares', 'common', 'stock', 'outstanding', 'options', 'warrants', 'exercised', 'exchanged', 'restricted', 'unrestricted', 'shares', 'common', 'stock', 'exchanged', 'unrestricted', 'shares', 'cash']\n"
     ]
    }
   ],
   "execution_count": 46
  },
  {
   "cell_type": "code",
   "metadata": {
    "id": "I_ydDB8GRhsA",
    "outputId": "8c91f21c-8d15-4d2d-94bb-e1c57c6d66a3",
    "ExecuteTime": {
     "end_time": "2025-10-17T11:32:53.438973Z",
     "start_time": "2025-10-17T11:32:53.434498Z"
    }
   },
   "source": [
    "import nltk\n",
    "nltk.download('wordnet')"
   ],
   "outputs": [
    {
     "name": "stderr",
     "output_type": "stream",
     "text": [
      "[nltk_data] Downloading package wordnet to\n",
      "[nltk_data]     /Users/bilgesipal/nltk_data...\n",
      "[nltk_data]   Package wordnet is already up-to-date!\n"
     ]
    },
    {
     "data": {
      "text/plain": [
       "True"
      ]
     },
     "execution_count": 47,
     "metadata": {},
     "output_type": "execute_result"
    }
   ],
   "execution_count": 47
  },
  {
   "cell_type": "code",
   "metadata": {
    "id": "ggoAGANbRhsA",
    "outputId": "5127299c-3184-4549-acfb-29c9330879a1",
    "ExecuteTime": {
     "end_time": "2025-10-17T11:32:53.464204Z",
     "start_time": "2025-10-17T11:32:53.458872Z"
    }
   },
   "source": [
    "from nltk.stem.wordnet import WordNetLemmatizer\n",
    "lem = WordNetLemmatizer()\n",
    "\n",
    "from nltk.stem.porter import PorterStemmer\n",
    "stem = PorterStemmer()\n",
    "\n",
    "word = \"flying\"\n",
    "print(\"Lemmatized Word:\",lem.lemmatize(word,\"v\"))\n",
    "print(\"Stemmed Word:\",stem.stem(word))"
   ],
   "outputs": [
    {
     "name": "stdout",
     "output_type": "stream",
     "text": [
      "Lemmatized Word: fly\n",
      "Stemmed Word: fli\n"
     ]
    }
   ],
   "execution_count": 48
  },
  {
   "cell_type": "markdown",
   "metadata": {
    "id": "SW0Segu-RhsA"
   },
   "source": [
    "### POS-TAG NOUN, PRONOUN, ADJECTIVE, VERB, ADVERBS,"
   ]
  },
  {
   "metadata": {},
   "cell_type": "markdown",
   "source": [
    "*** This list means NLTK has parsed each word and assigned it a syntactic label (POS tag). ***\n",
    "For example:\n",
    "\n",
    "NN / NNS → noun (singular / plural)\n",
    "\n",
    "JJ → adjective\n",
    "\n",
    "VBD / VBN → verb (past tense / past participle)\n",
    "\n",
    "IN → preposition\n",
    "\n",
    "DT → determiner (“the,” “this,” “all”)\n",
    "\n",
    "CC → coordinating conjunction (“and,” “or”)\n",
    "\n",
    "PRP$ → possessive pronoun (“our,” “his”)\n",
    "\n",
    "This is the standard Penn Treebank POS tagset, which NLTK uses by default."
   ]
  },
  {
   "cell_type": "code",
   "metadata": {
    "id": "rG4k6OCbRhsB",
    "outputId": "43499fe4-3cac-45ce-8bd4-21e2fb5f7ec9",
    "ExecuteTime": {
     "end_time": "2025-10-17T11:32:53.499607Z",
     "start_time": "2025-10-17T11:32:53.492992Z"
    }
   },
   "source": [
    "# POS Tagging\n",
    "nltk.pos_tag(t_word)"
   ],
   "outputs": [
    {
     "data": {
      "text/plain": [
       "[('In', 'IN'),\n",
       " ('connection', 'NN'),\n",
       " ('with', 'IN'),\n",
       " ('this', 'DT'),\n",
       " ('transaction', 'NN'),\n",
       " ('all', 'DT'),\n",
       " ('of', 'IN'),\n",
       " ('our', 'PRP$'),\n",
       " ('outstanding', 'JJ'),\n",
       " ('shares', 'NNS'),\n",
       " ('of', 'IN'),\n",
       " ('preferred', 'JJ'),\n",
       " ('stock', 'NN'),\n",
       " ('on', 'IN'),\n",
       " ('October', 'NNP'),\n",
       " ('13', 'CD'),\n",
       " ('2010', 'CD'),\n",
       " ('were', 'VBD'),\n",
       " ('converted', 'VBN'),\n",
       " ('into', 'IN'),\n",
       " ('shares', 'NNS'),\n",
       " ('of', 'IN'),\n",
       " ('our', 'PRP$'),\n",
       " ('common', 'JJ'),\n",
       " ('stock', 'NN'),\n",
       " ('and', 'CC'),\n",
       " ('all', 'DT'),\n",
       " ('of', 'IN'),\n",
       " ('our', 'PRP$'),\n",
       " ('then', 'RB'),\n",
       " ('outstanding', 'JJ'),\n",
       " ('options', 'NNS'),\n",
       " ('and', 'CC'),\n",
       " ('warrants', 'NNS'),\n",
       " ('were', 'VBD'),\n",
       " ('exercised', 'VBN'),\n",
       " ('or', 'CC'),\n",
       " ('exchanged', 'VBN'),\n",
       " ('for', 'IN'),\n",
       " ('restricted', 'VBN'),\n",
       " ('or', 'CC'),\n",
       " ('unrestricted', 'JJ'),\n",
       " ('shares', 'NNS'),\n",
       " ('of', 'IN'),\n",
       " ('our', 'PRP$'),\n",
       " ('common', 'JJ'),\n",
       " ('stock', 'NN'),\n",
       " ('or', 'CC'),\n",
       " ('were', 'VBD'),\n",
       " ('exchanged', 'VBN'),\n",
       " ('for', 'IN'),\n",
       " ('unrestricted', 'JJ'),\n",
       " ('shares', 'NNS'),\n",
       " ('and', 'CC'),\n",
       " ('cash', 'NN')]"
      ]
     },
     "execution_count": 49,
     "metadata": {},
     "output_type": "execute_result"
    }
   ],
   "execution_count": 49
  },
  {
   "cell_type": "markdown",
   "metadata": {
    "id": "4h-pakpbRhsC"
   },
   "source": [
    "### BAG of Words"
   ]
  },
  {
   "metadata": {
    "ExecuteTime": {
     "end_time": "2025-10-17T11:36:04.341167Z",
     "start_time": "2025-10-17T11:36:04.338170Z"
    }
   },
   "cell_type": "code",
   "source": [
    "import warnings\n",
    "warnings.filterwarnings(\"ignore\", message=\"The parameter 'token_pattern' will not be used since 'tokenizer' is not None\")\n"
   ],
   "outputs": [],
   "execution_count": 61
  },
  {
   "cell_type": "code",
   "metadata": {
    "id": "OjFoscBBRhsC",
    "ExecuteTime": {
     "end_time": "2025-10-17T11:36:05.445712Z",
     "start_time": "2025-10-17T11:36:05.412218Z"
    }
   },
   "source": [
    "from sklearn.feature_extraction.text import CountVectorizer\n",
    "from nltk.tokenize import RegexpTokenizer\n",
    "#tokenizer to remove unwanted elements from out data like symbols and numbers\n",
    "token = RegexpTokenizer(r'[a-zA-Z0-9]+')\n",
    "cv = CountVectorizer(lowercase=True,\n",
    "                     stop_words='english',\n",
    "                     ngram_range = (1,1),\n",
    "                     tokenizer = token.tokenize)\n",
    "text_counts= cv.fit_transform(X)"
   ],
   "outputs": [],
   "execution_count": 62
  },
  {
   "cell_type": "code",
   "metadata": {
    "id": "SpKwzskTRhsC",
    "ExecuteTime": {
     "end_time": "2025-10-17T11:36:08.753985Z",
     "start_time": "2025-10-17T11:36:08.748596Z"
    }
   },
   "source": [
    "from sklearn.model_selection import train_test_split\n",
    "X_train, X_test, y_train, y_test = train_test_split(\n",
    "   text_counts, y, test_size=0.3, random_state=1)"
   ],
   "outputs": [],
   "execution_count": 64
  },
  {
   "cell_type": "code",
   "metadata": {
    "id": "q7btJCngRhsC",
    "outputId": "36cd499b-51c3-4479-fdad-544fc35b6020",
    "ExecuteTime": {
     "end_time": "2025-10-17T11:36:13.256098Z",
     "start_time": "2025-10-17T11:36:13.246907Z"
    }
   },
   "source": [
    "\n",
    "from sklearn.naive_bayes import MultinomialNB\n",
    "\n",
    "from sklearn import metrics\n",
    "\n",
    "clf = MultinomialNB().fit(X_train, y_train)\n",
    "predicted= clf.predict(X_test)\n",
    "print(\"Naive Bayes:\",metrics.accuracy_score(y_test, predicted))\n"
   ],
   "outputs": [
    {
     "name": "stdout",
     "output_type": "stream",
     "text": [
      "Naive Bayes: 0.8033333333333333\n"
     ]
    }
   ],
   "execution_count": 65
  },
  {
   "metadata": {
    "ExecuteTime": {
     "end_time": "2025-10-17T11:37:12.639591Z",
     "start_time": "2025-10-17T11:37:12.621507Z"
    }
   },
   "cell_type": "code",
   "source": [
    "from sklearn import metrics\n",
    "# Print accuracy\n",
    "print(\"Naive Bayes Accuracy:\", metrics.accuracy_score(y_test, predicted))\n",
    "\n",
    "# Print detailed classification report\n",
    "print(\"\\nClassification Report:\\n\")\n",
    "print(metrics.classification_report(y_test, predicted))"
   ],
   "outputs": [
    {
     "name": "stdout",
     "output_type": "stream",
     "text": [
      "Naive Bayes Accuracy: 0.8033333333333333\n",
      "\n",
      "Classification Report:\n",
      "\n",
      "              precision    recall  f1-score   support\n",
      "\n",
      "           0       0.44      0.45      0.45        53\n",
      "           1       0.88      0.88      0.88       247\n",
      "\n",
      "    accuracy                           0.80       300\n",
      "   macro avg       0.66      0.67      0.66       300\n",
      "weighted avg       0.80      0.80      0.80       300\n",
      "\n"
     ]
    }
   ],
   "execution_count": 67
  },
  {
   "metadata": {
    "ExecuteTime": {
     "end_time": "2025-10-17T11:37:54.287797Z",
     "start_time": "2025-10-17T11:37:52.480328Z"
    }
   },
   "cell_type": "code",
   "source": [
    "import matplotlib.pyplot as plt\n",
    "from sklearn.metrics import ConfusionMatrixDisplay\n",
    "\n",
    "ConfusionMatrixDisplay.from_estimator(clf, X_test, y_test)\n",
    "plt.show()"
   ],
   "outputs": [
    {
     "data": {
      "text/plain": [
       "<Figure size 640x480 with 2 Axes>"
      ],
      "image/png": "[encoded data removed]"
     },
     "metadata": {},
     "output_type": "display_data",
     "jetTransient": {
      "display_id": null
     }
    }
   ],
   "execution_count": 68
  },
  {
   "cell_type": "markdown",
   "metadata": {
    "id": "m4BDZeSRRhsD"
   },
   "source": [
    "#### TF-IDF"
   ]
  },
  {
   "cell_type": "code",
   "metadata": {
    "id": "i3zaRf_0RhsD",
    "ExecuteTime": {
     "end_time": "2025-10-17T11:38:05.419291Z",
     "start_time": "2025-10-17T11:38:05.382563Z"
    }
   },
   "source": [
    "from sklearn.feature_extraction.text import TfidfVectorizer\n",
    "tf=TfidfVectorizer()\n",
    "text_tf= tf.fit_transform(X)"
   ],
   "outputs": [],
   "execution_count": 69
  },
  {
   "cell_type": "code",
   "metadata": {
    "id": "HFZYiG-6RhsD",
    "outputId": "dc6ea514-16c0-47ed-b294-a23a8fd3d1a6",
    "ExecuteTime": {
     "end_time": "2025-10-17T11:38:07.125305Z",
     "start_time": "2025-10-17T11:38:07.120746Z"
    }
   },
   "source": [
    "text_tf"
   ],
   "outputs": [
    {
     "data": {
      "text/plain": [
       "<Compressed Sparse Row sparse matrix of dtype 'float64'\n",
       "\twith 21959 stored elements and shape (1000, 4209)>"
      ]
     },
     "execution_count": 70,
     "metadata": {},
     "output_type": "execute_result"
    }
   ],
   "execution_count": 70
  },
  {
   "cell_type": "code",
   "metadata": {
    "id": "b2ELKEuSRhsD",
    "ExecuteTime": {
     "end_time": "2025-10-17T11:38:09.160424Z",
     "start_time": "2025-10-17T11:38:09.153089Z"
    }
   },
   "source": [
    "from sklearn.model_selection import train_test_split\n",
    "X_train, X_test, y_train, y_test = train_test_split(\n",
    "   text_tf,y, test_size=0.3, random_state=1)"
   ],
   "outputs": [],
   "execution_count": 71
  },
  {
   "cell_type": "code",
   "metadata": {
    "id": "8Myd_S4PRhsE",
    "outputId": "002bf322-8926-4018-dc80-bbf0db28b483",
    "ExecuteTime": {
     "end_time": "2025-10-17T11:38:11.341540Z",
     "start_time": "2025-10-17T11:38:11.330690Z"
    }
   },
   "source": [
    "from sklearn.naive_bayes import MultinomialNB\n",
    "\n",
    "from sklearn import metrics\n",
    "\n",
    "clf = MultinomialNB().fit(X_train, y_train)\n",
    "predicted= clf.predict(X_test)\n",
    "print(\"Naive Bayes Doğruluk:\",metrics.accuracy_score(y_test, predicted))\n"
   ],
   "outputs": [
    {
     "name": "stdout",
     "output_type": "stream",
     "text": [
      "Naive Bayes Doğruluk: 0.8233333333333334\n"
     ]
    }
   ],
   "execution_count": 72
  },
  {
   "cell_type": "code",
   "metadata": {
    "id": "xUnjTSWARhsF",
    "ExecuteTime": {
     "end_time": "2025-10-17T11:39:26.532735Z",
     "start_time": "2025-10-17T11:39:26.515433Z"
    }
   },
   "source": [
    "print(\"Naive Bayes Accuracy:\", metrics.accuracy_score(y_test, predicted))\n",
    "\n",
    "# Print detailed classification report\n",
    "print(\"\\nClassification Report:\\n\")\n",
    "print(metrics.classification_report(y_test, predicted, zero_division=0))"
   ],
   "outputs": [
    {
     "name": "stdout",
     "output_type": "stream",
     "text": [
      "Naive Bayes Accuracy: 0.8233333333333334\n",
      "\n",
      "Classification Report:\n",
      "\n",
      "              precision    recall  f1-score   support\n",
      "\n",
      "           0       0.00      0.00      0.00        53\n",
      "           1       0.82      1.00      0.90       247\n",
      "\n",
      "    accuracy                           0.82       300\n",
      "   macro avg       0.41      0.50      0.45       300\n",
      "weighted avg       0.68      0.82      0.74       300\n",
      "\n"
     ]
    }
   ],
   "execution_count": 74
  },
  {
   "metadata": {
    "ExecuteTime": {
     "end_time": "2025-10-17T11:39:38.433937Z",
     "start_time": "2025-10-17T11:39:38.429228Z"
    }
   },
   "cell_type": "code",
   "source": [
    "import numpy as np\n",
    "unique, counts = np.unique(y_train, return_counts=True)\n",
    "print(dict(zip(unique, counts)))"
   ],
   "outputs": [
    {
     "name": "stdout",
     "output_type": "stream",
     "text": [
      "{'0': np.int64(101), '1': np.int64(599)}\n"
     ]
    }
   ],
   "execution_count": 75
  },
  {
   "metadata": {},
   "cell_type": "markdown",
   "source": [
    "## Lets fix the imbalanced data with RandomOverSampler\n",
    "#!pip install imbalanced-learn\n",
    "The RandomOverSampler (or \"random sampler\") is a simple but effective technique to fix class imbalance in machine learning datasets — that is, when one class has far fewer samples than others.\n",
    "\n",
    "Before resampling:\n",
    " Class | Count |\n",
    "|--------|--------|\n",
    "| 0 | 50 |\n",
    "| 1 | 250 |\n",
    "\n",
    "After applying RandomOverSampler:\n",
    "\n",
    "| Class | Count |\n",
    "|--------|--------|\n",
    "| 0 | 250 |\n",
    "| 1 | 250 |"
   ]
  },
  {
   "metadata": {
    "ExecuteTime": {
     "end_time": "2025-10-17T11:51:09.026111Z",
     "start_time": "2025-10-17T11:51:09.018636Z"
    }
   },
   "cell_type": "code",
   "source": [
    "from imblearn.over_sampling import RandomOverSampler\n",
    "ros = RandomOverSampler(random_state=42)\n",
    "X_train_bal, y_train_bal = ros.fit_resample(X_train, y_train)"
   ],
   "outputs": [],
   "execution_count": 81
  },
  {
   "metadata": {
    "ExecuteTime": {
     "end_time": "2025-10-17T11:51:10.311610Z",
     "start_time": "2025-10-17T11:51:10.306020Z"
    }
   },
   "cell_type": "code",
   "source": [
    "unique, counts = np.unique(y_train_bal, return_counts=True)\n",
    "print(dict(zip(unique, counts)))"
   ],
   "outputs": [
    {
     "name": "stdout",
     "output_type": "stream",
     "text": [
      "{'0': np.int64(599), '1': np.int64(599)}\n"
     ]
    }
   ],
   "execution_count": 82
  },
  {
   "metadata": {
    "ExecuteTime": {
     "end_time": "2025-10-17T11:51:14.831796Z",
     "start_time": "2025-10-17T11:51:14.810401Z"
    }
   },
   "cell_type": "code",
   "source": [
    "from sklearn.naive_bayes import MultinomialNB\n",
    "clf = MultinomialNB().fit(X_train_bal, y_train_bal)\n",
    "pred = clf.predict(X_test)\n",
    "\n",
    "from sklearn import metrics\n",
    "print(\"Accuracy:\", metrics.accuracy_score(y_test, pred))\n",
    "print(metrics.classification_report(y_test, pred, zero_division=0))"
   ],
   "outputs": [
    {
     "name": "stdout",
     "output_type": "stream",
     "text": [
      "Accuracy: 0.7433333333333333\n",
      "              precision    recall  f1-score   support\n",
      "\n",
      "           0       0.35      0.55      0.43        53\n",
      "           1       0.89      0.79      0.83       247\n",
      "\n",
      "    accuracy                           0.74       300\n",
      "   macro avg       0.62      0.67      0.63       300\n",
      "weighted avg       0.80      0.74      0.76       300\n",
      "\n"
     ]
    }
   ],
   "execution_count": 83
  }
 ],
 "metadata": {
  "kernelspec": {
   "display_name": "Python 3",
   "language": "python",
   "name": "python3"
  },
  "language_info": {
   "codemirror_mode": {
    "name": "ipython",
    "version": 3
   },
   "file_extension": ".py",
   "mimetype": "text/x-python",
   "name": "python",
   "nbconvert_exporter": "python",
   "pygments_lexer": "ipython3",
   "version": "3.7.4"
  },
  "colab": {
   "provenance": []
  }
 },
 "nbformat": 4,
 "nbformat_minor": 0
}
