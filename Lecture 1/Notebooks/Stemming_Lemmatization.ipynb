{
 "cells": [
  {
   "metadata": {},
   "cell_type": "markdown",
   "source": [
    "# Stemming using NLTK\n",
    "Stemming is the process of reducing a word to its root without considering context. It often produces words that are not real dictionary words."
   ],
   "id": "a2fd96c39c41b5e0"
  },
  {
   "metadata": {
    "ExecuteTime": {
     "end_time": "2025-10-10T17:35:16.126733Z",
     "start_time": "2025-10-10T17:35:13.589883Z"
    }
   },
   "cell_type": "code",
   "source": "!pip install nltk",
   "id": "5d896a1d2b3b6de3",
   "outputs": [
    {
     "name": "stdout",
     "output_type": "stream",
     "text": [
      "Requirement already satisfied: nltk in /Users/bilgesipal/PycharmProjects/boun_MIS48D/venv/lib/python3.11/site-packages (3.9.1)\r\n",
      "Requirement already satisfied: click in /Users/bilgesipal/PycharmProjects/boun_MIS48D/venv/lib/python3.11/site-packages (from nltk) (8.1.8)\r\n",
      "Requirement already satisfied: joblib in /Users/bilgesipal/PycharmProjects/boun_MIS48D/venv/lib/python3.11/site-packages (from nltk) (1.4.2)\r\n",
      "Requirement already satisfied: regex>=2021.8.3 in /Users/bilgesipal/PycharmProjects/boun_MIS48D/venv/lib/python3.11/site-packages (from nltk) (2024.11.6)\r\n",
      "Requirement already satisfied: tqdm in /Users/bilgesipal/PycharmProjects/boun_MIS48D/venv/lib/python3.11/site-packages (from nltk) (4.67.1)\r\n",
      "\r\n",
      "\u001B[1m[\u001B[0m\u001B[34;49mnotice\u001B[0m\u001B[1;39;49m]\u001B[0m\u001B[39;49m A new release of pip is available: \u001B[0m\u001B[31;49m23.2.1\u001B[0m\u001B[39;49m -> \u001B[0m\u001B[32;49m25.2\u001B[0m\r\n",
      "\u001B[1m[\u001B[0m\u001B[34;49mnotice\u001B[0m\u001B[1;39;49m]\u001B[0m\u001B[39;49m To update, run: \u001B[0m\u001B[32;49mpip install --upgrade pip\u001B[0m\r\n"
     ]
    }
   ],
   "execution_count": 1
  },
  {
   "metadata": {
    "ExecuteTime": {
     "end_time": "2025-10-10T17:36:48.684644Z",
     "start_time": "2025-10-10T17:36:44.668396Z"
    }
   },
   "cell_type": "code",
   "source": [
    "from nltk.stem import PorterStemmer\n",
    "\n",
    "# initialize the PorterStemmer Class\n",
    "stemmer = PorterStemmer()\n",
    "\n",
    "words = [\"running\", \"studies\", \"flying\", \"better\", \"geese\", \"children\"]\n",
    "stemmed_words = [stemmer.stem(word) for word in words]\n",
    "\n",
    "#print the results\n",
    "print(stemmed_words)\n"
   ],
   "id": "f2bca46dce17a50f",
   "outputs": [
    {
     "name": "stdout",
     "output_type": "stream",
     "text": [
      "['run', 'studi', 'fli', 'better', 'gees', 'children']\n"
     ]
    }
   ],
   "execution_count": 2
  },
  {
   "metadata": {},
   "cell_type": "markdown",
   "source": [
    "# Lemmatization\n",
    "Lemmatization is the process of reducing a word to its base or dictionary form (lemma) while considering its context and meaning. Unlike stemming, lemmatization produces real words."
   ],
   "id": "cc4ab953d9bcf291"
  },
  {
   "metadata": {},
   "cell_type": "markdown",
   "source": "## Lemmatization with NLTK",
   "id": "a3da2bda86fa497c"
  },
  {
   "metadata": {
    "ExecuteTime": {
     "end_time": "2025-10-10T17:37:01.075031Z",
     "start_time": "2025-10-10T17:36:58.022148Z"
    }
   },
   "cell_type": "code",
   "source": [
    "from nltk.stem import WordNetLemmatizer\n",
    "from nltk.corpus import wordnet\n",
    "import nltk\n",
    "\n",
    "nltk.download('wordnet')  # Ensure you have WordNet data\n",
    "\n",
    "lemmatizer = WordNetLemmatizer()\n",
    "\n",
    "# Example words\n",
    "words = [\"running\", \"flies\", \"better\", \"geese\", \"mice\", \"studies\", \"children\", \"was\", \"went\"]\n",
    "\n",
    "# Lemmatizing words\n",
    "lemmatized_words = [lemmatizer.lemmatize(word, wordnet.VERB) for word in words]\n",
    "\n",
    "print(lemmatized_words)\n"
   ],
   "id": "ef98289b30c4680e",
   "outputs": [
    {
     "name": "stderr",
     "output_type": "stream",
     "text": [
      "[nltk_data] Downloading package wordnet to\n",
      "[nltk_data]     /Users/bilgesipal/nltk_data...\n",
      "[nltk_data]   Package wordnet is already up-to-date!\n"
     ]
    },
    {
     "name": "stdout",
     "output_type": "stream",
     "text": [
      "['run', 'fly', 'better', 'geese', 'mice', 'study', 'children', 'be', 'go']\n"
     ]
    }
   ],
   "execution_count": 3
  },
  {
   "metadata": {},
   "cell_type": "markdown",
   "source": "## Lemmatization with Spacy",
   "id": "61c19db542a51480"
  },
  {
   "metadata": {},
   "cell_type": "code",
   "source": "!pip install spacy",
   "id": "5cc68f4793e08b73",
   "outputs": [],
   "execution_count": null
  },
  {
   "metadata": {
    "ExecuteTime": {
     "end_time": "2025-10-10T17:40:55.904536Z",
     "start_time": "2025-10-10T17:40:54.190200Z"
    }
   },
   "cell_type": "code",
   "source": [
    "import spacy\n",
    "#spacy.cli.download(\"en_core_web_sm\")"
   ],
   "id": "15da9a71ba55eb2",
   "outputs": [],
   "execution_count": 5
  },
  {
   "metadata": {
    "ExecuteTime": {
     "end_time": "2025-10-10T17:41:00.649212Z",
     "start_time": "2025-10-10T17:40:57.846759Z"
    }
   },
   "cell_type": "code",
   "source": [
    "#Smaller Model\n",
    "nlp_sm = spacy.load(\"en_core_web_sm\")\n",
    "# Large Model\n",
    "nlp_lg = spacy.load(\"en_core_web_lg\")\n",
    "\n",
    "text = \"The children were running faster than the mice, but the geese had already flown.\"\n",
    "\n",
    "doc_sm = nlp_sm(text)\n",
    "doc_lg = nlp_lg(text)\n",
    "\n",
    "# Lemmatized words\n",
    "lemmatized_text_sm = \" \".join([token.lemma_ for token in doc_sm])\n",
    "lemmatized_text_lg = \" \".join([token.lemma_ for token in doc_lg])\n",
    "\n",
    "print('Result of the small model:', lemmatized_text_sm)\n",
    "\n",
    "print('Result of the large model:', lemmatized_text_lg)"
   ],
   "id": "e3ed6954fb076a37",
   "outputs": [
    {
     "name": "stdout",
     "output_type": "stream",
     "text": [
      "Result of the small model: the child be run fast than the mouse , but the geese have already fly .\n",
      "Result of the large model: the child be run fast than the mouse , but the goose have already fly .\n"
     ]
    }
   ],
   "execution_count": 6
  }
 ],
 "metadata": {
  "kernelspec": {
   "display_name": "Python 3",
   "language": "python",
   "name": "python3"
  },
  "language_info": {
   "codemirror_mode": {
    "name": "ipython",
    "version": 2
   },
   "file_extension": ".py",
   "mimetype": "text/x-python",
   "name": "python",
   "nbconvert_exporter": "python",
   "pygments_lexer": "ipython2",
   "version": "2.7.6"
  }
 },
 "nbformat": 4,
 "nbformat_minor": 5
}
