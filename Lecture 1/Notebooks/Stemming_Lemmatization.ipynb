{
 "cells": [
  {
   "metadata": {},
   "cell_type": "markdown",
   "source": [
    "# Stemming using NLTK\n",
    "Stemming is the process of reducing a word to its root without considering context. It often produces words that are not real dictionary words."
   ],
   "id": "a2fd96c39c41b5e0"
  },
  {
   "metadata": {
    "ExecuteTime": {
     "end_time": "2025-02-13T18:40:16.712560Z",
     "start_time": "2025-02-13T18:40:10.493763Z"
    }
   },
   "cell_type": "code",
   "source": "!pip install nltk",
   "id": "5d896a1d2b3b6de3",
   "outputs": [
    {
     "name": "stdout",
     "output_type": "stream",
     "text": [
      "Collecting nltk\r\n",
      "  Obtaining dependency information for nltk from https://files.pythonhosted.org/packages/4d/66/7d9e26593edda06e8cb531874633f7c2372279c3b0f46235539fe546df8b/nltk-3.9.1-py3-none-any.whl.metadata\r\n",
      "  Downloading nltk-3.9.1-py3-none-any.whl.metadata (2.9 kB)\r\n",
      "Collecting click (from nltk)\r\n",
      "  Obtaining dependency information for click from https://files.pythonhosted.org/packages/7e/d4/7ebdbd03970677812aac39c869717059dbb71a4cfc033ca6e5221787892c/click-8.1.8-py3-none-any.whl.metadata\r\n",
      "  Downloading click-8.1.8-py3-none-any.whl.metadata (2.3 kB)\r\n",
      "Collecting joblib (from nltk)\r\n",
      "  Obtaining dependency information for joblib from https://files.pythonhosted.org/packages/91/29/df4b9b42f2be0b623cbd5e2140cafcaa2bef0759a00b7b70104dcfe2fb51/joblib-1.4.2-py3-none-any.whl.metadata\r\n",
      "  Downloading joblib-1.4.2-py3-none-any.whl.metadata (5.4 kB)\r\n",
      "Collecting regex>=2021.8.3 (from nltk)\r\n",
      "  Obtaining dependency information for regex>=2021.8.3 from https://files.pythonhosted.org/packages/34/4c/8f8e631fcdc2ff978609eaeef1d6994bf2f028b59d9ac67640ed051f1218/regex-2024.11.6-cp311-cp311-macosx_10_9_x86_64.whl.metadata\r\n",
      "  Downloading regex-2024.11.6-cp311-cp311-macosx_10_9_x86_64.whl.metadata (40 kB)\r\n",
      "\u001B[2K     \u001B[90m━━━━━━━━━━━━━━━━━━━━━━━━━━━━━━━━━━━━━━━\u001B[0m \u001B[32m40.5/40.5 kB\u001B[0m \u001B[31m717.5 kB/s\u001B[0m eta \u001B[36m0:00:00\u001B[0m \u001B[36m0:00:01\u001B[0m\r\n",
      "\u001B[?25hCollecting tqdm (from nltk)\r\n",
      "  Obtaining dependency information for tqdm from https://files.pythonhosted.org/packages/d0/30/dc54f88dd4a2b5dc8a0279bdd7270e735851848b762aeb1c1184ed1f6b14/tqdm-4.67.1-py3-none-any.whl.metadata\r\n",
      "  Downloading tqdm-4.67.1-py3-none-any.whl.metadata (57 kB)\r\n",
      "\u001B[2K     \u001B[90m━━━━━━━━━━━━━━━━━━━━━━━━━━━━━━━━━━━━━━━━\u001B[0m \u001B[32m57.7/57.7 kB\u001B[0m \u001B[31m1.2 MB/s\u001B[0m eta \u001B[36m0:00:00\u001B[0ma \u001B[36m0:00:01\u001B[0m\r\n",
      "\u001B[?25hUsing cached nltk-3.9.1-py3-none-any.whl (1.5 MB)\r\n",
      "Downloading regex-2024.11.6-cp311-cp311-macosx_10_9_x86_64.whl (287 kB)\r\n",
      "\u001B[2K   \u001B[90m━━━━━━━━━━━━━━━━━━━━━━━━━━━━━━━━━━━━━━━━\u001B[0m \u001B[32m287.7/287.7 kB\u001B[0m \u001B[31m2.6 MB/s\u001B[0m eta \u001B[36m0:00:00\u001B[0m00:01\u001B[0m0:01\u001B[0m\r\n",
      "\u001B[?25hUsing cached click-8.1.8-py3-none-any.whl (98 kB)\r\n",
      "Using cached joblib-1.4.2-py3-none-any.whl (301 kB)\r\n",
      "Using cached tqdm-4.67.1-py3-none-any.whl (78 kB)\r\n",
      "Installing collected packages: tqdm, regex, joblib, click, nltk\r\n",
      "Successfully installed click-8.1.8 joblib-1.4.2 nltk-3.9.1 regex-2024.11.6 tqdm-4.67.1\r\n",
      "\r\n",
      "\u001B[1m[\u001B[0m\u001B[34;49mnotice\u001B[0m\u001B[1;39;49m]\u001B[0m\u001B[39;49m A new release of pip is available: \u001B[0m\u001B[31;49m23.2.1\u001B[0m\u001B[39;49m -> \u001B[0m\u001B[32;49m25.0.1\u001B[0m\r\n",
      "\u001B[1m[\u001B[0m\u001B[34;49mnotice\u001B[0m\u001B[1;39;49m]\u001B[0m\u001B[39;49m To update, run: \u001B[0m\u001B[32;49mpip install --upgrade pip\u001B[0m\r\n"
     ]
    }
   ],
   "execution_count": 2
  },
  {
   "metadata": {
    "ExecuteTime": {
     "end_time": "2025-02-13T18:40:36.376856Z",
     "start_time": "2025-02-13T18:40:35.617614Z"
    }
   },
   "cell_type": "code",
   "source": [
    "from nltk.stem import PorterStemmer\n",
    "\n",
    "# initialize the PorterStemmer Class\n",
    "stemmer = PorterStemmer()\n",
    "\n",
    "words = [\"running\", \"studies\", \"flying\", \"better\", \"geese\", \"children\"]\n",
    "stemmed_words = [stemmer.stem(word) for word in words]\n",
    "\n",
    "#print the results\n",
    "print(stemmed_words)\n"
   ],
   "id": "f2bca46dce17a50f",
   "outputs": [
    {
     "name": "stdout",
     "output_type": "stream",
     "text": [
      "['run', 'studi', 'fli', 'better', 'gees', 'children']\n"
     ]
    }
   ],
   "execution_count": 3
  },
  {
   "metadata": {},
   "cell_type": "markdown",
   "source": [
    "# Lemmatization\n",
    "Lemmatization is the process of reducing a word to its base or dictionary form (lemma) while considering its context and meaning. Unlike stemming, lemmatization produces real words."
   ],
   "id": "cc4ab953d9bcf291"
  },
  {
   "metadata": {},
   "cell_type": "markdown",
   "source": "## Lemmatization with NLTK",
   "id": "a3da2bda86fa497c"
  },
  {
   "metadata": {
    "ExecuteTime": {
     "end_time": "2025-02-13T18:48:23.588548Z",
     "start_time": "2025-02-13T18:48:15.904558Z"
    }
   },
   "cell_type": "code",
   "source": [
    "from nltk.stem import WordNetLemmatizer\n",
    "from nltk.corpus import wordnet\n",
    "import nltk\n",
    "\n",
    "nltk.download('wordnet')  # Ensure you have WordNet data\n",
    "\n",
    "lemmatizer = WordNetLemmatizer()\n",
    "\n",
    "# Example words\n",
    "words = [\"running\", \"flies\", \"better\", \"geese\", \"mice\", \"studies\", \"children\", \"was\", \"went\"]\n",
    "\n",
    "# Lemmatizing words\n",
    "lemmatized_words = [lemmatizer.lemmatize(word, wordnet.VERB) for word in words]\n",
    "\n",
    "print(lemmatized_words)\n"
   ],
   "id": "ef98289b30c4680e",
   "outputs": [
    {
     "name": "stderr",
     "output_type": "stream",
     "text": [
      "[nltk_data] Downloading package wordnet to\n",
      "[nltk_data]     /Users/bilgesipal/nltk_data...\n"
     ]
    },
    {
     "name": "stdout",
     "output_type": "stream",
     "text": [
      "['run', 'fly', 'better', 'geese', 'mice', 'study', 'children', 'be', 'go']\n"
     ]
    }
   ],
   "execution_count": 4
  },
  {
   "metadata": {},
   "cell_type": "markdown",
   "source": "## Lemmatization with Spacy",
   "id": "61c19db542a51480"
  },
  {
   "metadata": {
    "ExecuteTime": {
     "end_time": "2025-02-13T19:02:24.690888Z",
     "start_time": "2025-02-13T19:02:21.373703Z"
    }
   },
   "cell_type": "code",
   "source": "!pip install spacy",
   "id": "5cc68f4793e08b73",
   "outputs": [
    {
     "name": "stdout",
     "output_type": "stream",
     "text": [
      "Requirement already satisfied: spacy in /Users/bilgesipal/PycharmProjects/boun_MIS48D/venv/lib/python3.11/site-packages (3.8.4)\r\n",
      "Requirement already satisfied: spacy-legacy<3.1.0,>=3.0.11 in /Users/bilgesipal/PycharmProjects/boun_MIS48D/venv/lib/python3.11/site-packages (from spacy) (3.0.12)\r\n",
      "Requirement already satisfied: spacy-loggers<2.0.0,>=1.0.0 in /Users/bilgesipal/PycharmProjects/boun_MIS48D/venv/lib/python3.11/site-packages (from spacy) (1.0.5)\r\n",
      "Requirement already satisfied: murmurhash<1.1.0,>=0.28.0 in /Users/bilgesipal/PycharmProjects/boun_MIS48D/venv/lib/python3.11/site-packages (from spacy) (1.0.12)\r\n",
      "Requirement already satisfied: cymem<2.1.0,>=2.0.2 in /Users/bilgesipal/PycharmProjects/boun_MIS48D/venv/lib/python3.11/site-packages (from spacy) (2.0.11)\r\n",
      "Requirement already satisfied: preshed<3.1.0,>=3.0.2 in /Users/bilgesipal/PycharmProjects/boun_MIS48D/venv/lib/python3.11/site-packages (from spacy) (3.0.9)\r\n",
      "Requirement already satisfied: thinc<8.4.0,>=8.3.4 in /Users/bilgesipal/PycharmProjects/boun_MIS48D/venv/lib/python3.11/site-packages (from spacy) (8.3.4)\r\n",
      "Requirement already satisfied: wasabi<1.2.0,>=0.9.1 in /Users/bilgesipal/PycharmProjects/boun_MIS48D/venv/lib/python3.11/site-packages (from spacy) (1.1.3)\r\n",
      "Requirement already satisfied: srsly<3.0.0,>=2.4.3 in /Users/bilgesipal/PycharmProjects/boun_MIS48D/venv/lib/python3.11/site-packages (from spacy) (2.5.1)\r\n",
      "Requirement already satisfied: catalogue<2.1.0,>=2.0.6 in /Users/bilgesipal/PycharmProjects/boun_MIS48D/venv/lib/python3.11/site-packages (from spacy) (2.0.10)\r\n",
      "Requirement already satisfied: weasel<0.5.0,>=0.1.0 in /Users/bilgesipal/PycharmProjects/boun_MIS48D/venv/lib/python3.11/site-packages (from spacy) (0.4.1)\r\n",
      "Requirement already satisfied: typer<1.0.0,>=0.3.0 in /Users/bilgesipal/PycharmProjects/boun_MIS48D/venv/lib/python3.11/site-packages (from spacy) (0.15.1)\r\n",
      "Requirement already satisfied: tqdm<5.0.0,>=4.38.0 in /Users/bilgesipal/PycharmProjects/boun_MIS48D/venv/lib/python3.11/site-packages (from spacy) (4.67.1)\r\n",
      "Requirement already satisfied: numpy>=1.19.0 in /Users/bilgesipal/PycharmProjects/boun_MIS48D/venv/lib/python3.11/site-packages (from spacy) (2.2.3)\r\n",
      "Requirement already satisfied: requests<3.0.0,>=2.13.0 in /Users/bilgesipal/PycharmProjects/boun_MIS48D/venv/lib/python3.11/site-packages (from spacy) (2.32.3)\r\n",
      "Requirement already satisfied: pydantic!=1.8,!=1.8.1,<3.0.0,>=1.7.4 in /Users/bilgesipal/PycharmProjects/boun_MIS48D/venv/lib/python3.11/site-packages (from spacy) (2.10.6)\r\n",
      "Requirement already satisfied: jinja2 in /Users/bilgesipal/PycharmProjects/boun_MIS48D/venv/lib/python3.11/site-packages (from spacy) (3.1.5)\r\n",
      "Requirement already satisfied: setuptools in /Users/bilgesipal/PycharmProjects/boun_MIS48D/venv/lib/python3.11/site-packages (from spacy) (68.2.0)\r\n",
      "Requirement already satisfied: packaging>=20.0 in /Users/bilgesipal/PycharmProjects/boun_MIS48D/venv/lib/python3.11/site-packages (from spacy) (24.2)\r\n",
      "Requirement already satisfied: langcodes<4.0.0,>=3.2.0 in /Users/bilgesipal/PycharmProjects/boun_MIS48D/venv/lib/python3.11/site-packages (from spacy) (3.5.0)\r\n",
      "Requirement already satisfied: language-data>=1.2 in /Users/bilgesipal/PycharmProjects/boun_MIS48D/venv/lib/python3.11/site-packages (from langcodes<4.0.0,>=3.2.0->spacy) (1.3.0)\r\n",
      "Requirement already satisfied: annotated-types>=0.6.0 in /Users/bilgesipal/PycharmProjects/boun_MIS48D/venv/lib/python3.11/site-packages (from pydantic!=1.8,!=1.8.1,<3.0.0,>=1.7.4->spacy) (0.7.0)\r\n",
      "Requirement already satisfied: pydantic-core==2.27.2 in /Users/bilgesipal/PycharmProjects/boun_MIS48D/venv/lib/python3.11/site-packages (from pydantic!=1.8,!=1.8.1,<3.0.0,>=1.7.4->spacy) (2.27.2)\r\n",
      "Requirement already satisfied: typing-extensions>=4.12.2 in /Users/bilgesipal/PycharmProjects/boun_MIS48D/venv/lib/python3.11/site-packages (from pydantic!=1.8,!=1.8.1,<3.0.0,>=1.7.4->spacy) (4.12.2)\r\n",
      "Requirement already satisfied: charset-normalizer<4,>=2 in /Users/bilgesipal/PycharmProjects/boun_MIS48D/venv/lib/python3.11/site-packages (from requests<3.0.0,>=2.13.0->spacy) (3.4.1)\r\n",
      "Requirement already satisfied: idna<4,>=2.5 in /Users/bilgesipal/PycharmProjects/boun_MIS48D/venv/lib/python3.11/site-packages (from requests<3.0.0,>=2.13.0->spacy) (3.10)\r\n",
      "Requirement already satisfied: urllib3<3,>=1.21.1 in /Users/bilgesipal/PycharmProjects/boun_MIS48D/venv/lib/python3.11/site-packages (from requests<3.0.0,>=2.13.0->spacy) (2.3.0)\r\n",
      "Requirement already satisfied: certifi>=2017.4.17 in /Users/bilgesipal/PycharmProjects/boun_MIS48D/venv/lib/python3.11/site-packages (from requests<3.0.0,>=2.13.0->spacy) (2025.1.31)\r\n",
      "Requirement already satisfied: blis<1.3.0,>=1.2.0 in /Users/bilgesipal/PycharmProjects/boun_MIS48D/venv/lib/python3.11/site-packages (from thinc<8.4.0,>=8.3.4->spacy) (1.2.0)\r\n",
      "Requirement already satisfied: confection<1.0.0,>=0.0.1 in /Users/bilgesipal/PycharmProjects/boun_MIS48D/venv/lib/python3.11/site-packages (from thinc<8.4.0,>=8.3.4->spacy) (0.1.5)\r\n",
      "Requirement already satisfied: click>=8.0.0 in /Users/bilgesipal/PycharmProjects/boun_MIS48D/venv/lib/python3.11/site-packages (from typer<1.0.0,>=0.3.0->spacy) (8.1.8)\r\n",
      "Requirement already satisfied: shellingham>=1.3.0 in /Users/bilgesipal/PycharmProjects/boun_MIS48D/venv/lib/python3.11/site-packages (from typer<1.0.0,>=0.3.0->spacy) (1.5.4)\r\n",
      "Requirement already satisfied: rich>=10.11.0 in /Users/bilgesipal/PycharmProjects/boun_MIS48D/venv/lib/python3.11/site-packages (from typer<1.0.0,>=0.3.0->spacy) (13.9.4)\r\n",
      "Requirement already satisfied: cloudpathlib<1.0.0,>=0.7.0 in /Users/bilgesipal/PycharmProjects/boun_MIS48D/venv/lib/python3.11/site-packages (from weasel<0.5.0,>=0.1.0->spacy) (0.20.0)\r\n",
      "Requirement already satisfied: smart-open<8.0.0,>=5.2.1 in /Users/bilgesipal/PycharmProjects/boun_MIS48D/venv/lib/python3.11/site-packages (from weasel<0.5.0,>=0.1.0->spacy) (7.1.0)\r\n",
      "Requirement already satisfied: MarkupSafe>=2.0 in /Users/bilgesipal/PycharmProjects/boun_MIS48D/venv/lib/python3.11/site-packages (from jinja2->spacy) (3.0.2)\r\n",
      "Requirement already satisfied: marisa-trie>=1.1.0 in /Users/bilgesipal/PycharmProjects/boun_MIS48D/venv/lib/python3.11/site-packages (from language-data>=1.2->langcodes<4.0.0,>=3.2.0->spacy) (1.2.1)\r\n",
      "Requirement already satisfied: markdown-it-py>=2.2.0 in /Users/bilgesipal/PycharmProjects/boun_MIS48D/venv/lib/python3.11/site-packages (from rich>=10.11.0->typer<1.0.0,>=0.3.0->spacy) (3.0.0)\r\n",
      "Requirement already satisfied: pygments<3.0.0,>=2.13.0 in /Users/bilgesipal/PycharmProjects/boun_MIS48D/venv/lib/python3.11/site-packages (from rich>=10.11.0->typer<1.0.0,>=0.3.0->spacy) (2.19.1)\r\n",
      "Requirement already satisfied: wrapt in /Users/bilgesipal/PycharmProjects/boun_MIS48D/venv/lib/python3.11/site-packages (from smart-open<8.0.0,>=5.2.1->weasel<0.5.0,>=0.1.0->spacy) (1.17.2)\r\n",
      "Requirement already satisfied: mdurl~=0.1 in /Users/bilgesipal/PycharmProjects/boun_MIS48D/venv/lib/python3.11/site-packages (from markdown-it-py>=2.2.0->rich>=10.11.0->typer<1.0.0,>=0.3.0->spacy) (0.1.2)\r\n",
      "\r\n",
      "\u001B[1m[\u001B[0m\u001B[34;49mnotice\u001B[0m\u001B[1;39;49m]\u001B[0m\u001B[39;49m A new release of pip is available: \u001B[0m\u001B[31;49m23.2.1\u001B[0m\u001B[39;49m -> \u001B[0m\u001B[32;49m25.0.1\u001B[0m\r\n",
      "\u001B[1m[\u001B[0m\u001B[34;49mnotice\u001B[0m\u001B[1;39;49m]\u001B[0m\u001B[39;49m To update, run: \u001B[0m\u001B[32;49mpip install --upgrade pip\u001B[0m\r\n"
     ]
    }
   ],
   "execution_count": 13
  },
  {
   "metadata": {
    "ExecuteTime": {
     "end_time": "2025-02-13T19:09:44.870657Z",
     "start_time": "2025-02-13T19:09:44.867007Z"
    }
   },
   "cell_type": "code",
   "source": [
    "import spacy\n",
    "#spacy.cli.download(\"en_core_web_sm\")"
   ],
   "id": "15da9a71ba55eb2",
   "outputs": [],
   "execution_count": 21
  },
  {
   "metadata": {
    "ExecuteTime": {
     "end_time": "2025-02-13T19:09:09.784709Z",
     "start_time": "2025-02-13T19:09:05.792848Z"
    }
   },
   "cell_type": "code",
   "source": [
    "#Smaller Model\n",
    "nlp_sm = spacy.load(\"en_core_web_sm\")\n",
    "# Large Model\n",
    "nlp_lg = spacy.load(\"en_core_web_lg\")\n",
    "\n",
    "text = \"The children were running faster than the mice, but the geese had already flown.\"\n",
    "\n",
    "doc_sm = nlp_sm(text)\n",
    "doc_lg = nlp_lg(text)\n",
    "\n",
    "# Lemmatized words\n",
    "lemmatized_text_sm = \" \".join([token.lemma_ for token in doc_sm])\n",
    "lemmatized_text_lg = \" \".join([token.lemma_ for token in doc_lg])\n",
    "\n",
    "print('Result of the small model:', lemmatized_text_sm)\n",
    "\n",
    "print('Result of the large model:', lemmatized_text_lg)"
   ],
   "id": "e3ed6954fb076a37",
   "outputs": [
    {
     "name": "stdout",
     "output_type": "stream",
     "text": [
      "Result of the small model: the child be run fast than the mouse , but the geese have already fly .\n",
      "Result of the large model: the child be run fast than the mouse , but the goose have already fly .\n"
     ]
    }
   ],
   "execution_count": 19
  }
 ],
 "metadata": {
  "kernelspec": {
   "display_name": "Python 3",
   "language": "python",
   "name": "python3"
  },
  "language_info": {
   "codemirror_mode": {
    "name": "ipython",
    "version": 2
   },
   "file_extension": ".py",
   "mimetype": "text/x-python",
   "name": "python",
   "nbconvert_exporter": "python",
   "pygments_lexer": "ipython2",
   "version": "2.7.6"
  }
 },
 "nbformat": 4,
 "nbformat_minor": 5
}
