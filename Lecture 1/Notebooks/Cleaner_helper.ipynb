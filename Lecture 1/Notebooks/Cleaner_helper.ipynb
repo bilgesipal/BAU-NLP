{
 "cells": [
  {
   "metadata": {},
   "cell_type": "markdown",
   "source": "# Regular Expressions",
   "id": "3e4aebd9c2af3126"
  },
  {
   "metadata": {
    "ExecuteTime": {
     "end_time": "2025-02-13T18:31:21.121274Z",
     "start_time": "2025-02-13T18:31:21.117439Z"
    }
   },
   "cell_type": "code",
   "source": "import re",
   "id": "40bd700b05d195c4",
   "outputs": [],
   "execution_count": 315
  },
  {
   "metadata": {},
   "cell_type": "markdown",
   "source": "## Find the email adresses in the given text list.",
   "id": "302105d853860d87"
  },
  {
   "metadata": {
    "ExecuteTime": {
     "end_time": "2025-02-13T18:31:22.074040Z",
     "start_time": "2025-02-13T18:31:22.070770Z"
    }
   },
   "cell_type": "code",
   "source": [
    "text = ['hello',\n",
    "        'arthur.clark@bogazici.edu.tr',\n",
    "        'hg.wells@yahoo.com',\n",
    "         'isaas_asimov@yahoo.com',\n",
    "         'frank-herbert@yahoo.com',\n",
    "       'aclrk@aol.net',\n",
    "        'this45']"
   ],
   "id": "25bb78cdd46ef1e7",
   "outputs": [],
   "execution_count": 316
  },
  {
   "metadata": {},
   "cell_type": "markdown",
   "source": "[a-zA-Z0-9_.+-]+ → Matches the local part of the email (before @), allowing letters, digits, dots, underscores, plus, and hyphens.",
   "id": "3ee023a1f2aec3b9"
  },
  {
   "cell_type": "code",
   "id": "1ebb27f24a40161f",
   "metadata": {
    "ExecuteTime": {
     "end_time": "2025-02-13T18:31:24.490623Z",
     "start_time": "2025-02-13T18:31:24.487389Z"
    }
   },
   "source": "re_pattern = \"[a-zA-Z0-9]+@[a-zA-Z]+\\.(com|net)\"",
   "outputs": [],
   "execution_count": 317
  },
  {
   "cell_type": "code",
   "id": "5e6312c17d5d09f6",
   "metadata": {
    "ExecuteTime": {
     "end_time": "2025-02-13T18:31:25.349948Z",
     "start_time": "2025-02-13T18:31:25.345739Z"
    }
   },
   "source": [
    "for i in range(len(text)):\n",
    "    if(re.search(re_pattern, text[i])):\n",
    "        print(text[i])"
   ],
   "outputs": [
    {
     "name": "stdout",
     "output_type": "stream",
     "text": [
      "hg.wells@yahoo.com\n",
      "isaas_asimov@yahoo.com\n",
      "frank-herbert@yahoo.com\n",
      "aclrk@aol.net\n"
     ]
    }
   ],
   "execution_count": 318
  },
  {
   "metadata": {},
   "cell_type": "markdown",
   "source": [
    "*    \\ \\.  Escapes the dot to match the literal . in domain names.\n",
    "* [a-zA-Z0-9-.]+  Matches the top-level domain (e.g., .com, .edu.tr, etc.)."
   ],
   "id": "ae657c6f11f4f02f"
  },
  {
   "cell_type": "code",
   "id": "f37abde0b7fd29a4",
   "metadata": {
    "ExecuteTime": {
     "end_time": "2025-02-13T18:31:28.623095Z",
     "start_time": "2025-02-13T18:31:28.619886Z"
    }
   },
   "source": "re_pattern2 = \"[a-zA-Z0-9]+@[a-zA-Z]+\\.[a-zA-Z0-9]\"",
   "outputs": [],
   "execution_count": 319
  },
  {
   "cell_type": "code",
   "id": "9457cb268e08ae29",
   "metadata": {
    "ExecuteTime": {
     "end_time": "2025-02-13T18:31:29.608755Z",
     "start_time": "2025-02-13T18:31:29.605145Z"
    }
   },
   "source": [
    "for i in range(len(text)):\n",
    "    if(re.search(re_pattern2, text[i])):\n",
    "        print(text[i])"
   ],
   "outputs": [
    {
     "name": "stdout",
     "output_type": "stream",
     "text": [
      "arthur.clark@bogazici.edu.tr\n",
      "hg.wells@yahoo.com\n",
      "isaas_asimov@yahoo.com\n",
      "frank-herbert@yahoo.com\n",
      "aclrk@aol.net\n"
     ]
    }
   ],
   "execution_count": 320
  },
  {
   "metadata": {},
   "cell_type": "markdown",
   "source": "## Merge the given seperated digits",
   "id": "20312d443d27bda2"
  },
  {
   "metadata": {
    "ExecuteTime": {
     "end_time": "2025-02-13T17:20:11.970245Z",
     "start_time": "2025-02-13T17:20:11.966556Z"
    }
   },
   "cell_type": "code",
   "source": "number_lists =['123-456-789',  '345-567-980']",
   "id": "d9ce5dfd837a27f2",
   "outputs": [],
   "execution_count": 129
  },
  {
   "metadata": {
    "ExecuteTime": {
     "end_time": "2025-02-13T17:20:44.107686Z",
     "start_time": "2025-02-13T17:20:44.104110Z"
    }
   },
   "cell_type": "code",
   "source": [
    "for number in number_lists:\n",
    "    merged = re.sub(r'-', '', number)\n",
    "    print(merged)"
   ],
   "id": "fa8bc580241aba34",
   "outputs": [
    {
     "name": "stdout",
     "output_type": "stream",
     "text": [
      "123456789\n",
      "345567980\n"
     ]
    }
   ],
   "execution_count": 131
  },
  {
   "metadata": {},
   "cell_type": "markdown",
   "source": "## Some Useful Patterns\n",
   "id": "e0017c99b64e665b"
  },
  {
   "metadata": {
    "ExecuteTime": {
     "end_time": "2025-02-13T17:46:42.096754Z",
     "start_time": "2025-02-13T17:46:42.093243Z"
    }
   },
   "cell_type": "code",
   "source": [
    "word_list = ['Siyah',\n",
    "             'Sagma',\n",
    "             'Sofa',\n",
    "             'Ses',\n",
    "             'Bed',\n",
    "             'Santa Claus']"
   ],
   "id": "52d7c76d47d97959",
   "outputs": [],
   "execution_count": 219
  },
  {
   "metadata": {
    "ExecuteTime": {
     "end_time": "2025-02-13T17:48:09.696716Z",
     "start_time": "2025-02-13T17:48:09.693285Z"
    }
   },
   "cell_type": "code",
   "source": "pattern = '^S.+a$' # dollar and caret show the position a is the lowercase character",
   "id": "22351e038b86818a",
   "outputs": [],
   "execution_count": 222
  },
  {
   "metadata": {},
   "cell_type": "markdown",
   "source": [
    "\n",
    "* ^ → Matches the start of the string.\n",
    "* S → Matches the uppercase letter 'S' at the beginning.\n",
    "* .+ → Matches one or more of any character (except newlines).\n",
    "* a → Matches the lowercase letter 'a'.\n",
    "* $ → Matches the end of the string."
   ],
   "id": "3e7384c1429b8743"
  },
  {
   "metadata": {
    "ExecuteTime": {
     "end_time": "2025-02-13T17:48:11.272529Z",
     "start_time": "2025-02-13T17:48:11.269159Z"
    }
   },
   "cell_type": "code",
   "source": [
    "for word in word_list:\n",
    "    if(re.search(pattern, word)):\n",
    "        print(word)"
   ],
   "id": "12a8b5d9dcd3d1b1",
   "outputs": [
    {
     "name": "stdout",
     "output_type": "stream",
     "text": [
      "Sagma\n",
      "Sofa\n"
     ]
    }
   ],
   "execution_count": 223
  },
  {
   "metadata": {
    "ExecuteTime": {
     "end_time": "2025-02-13T17:52:19.438506Z",
     "start_time": "2025-02-13T17:52:19.426047Z"
    }
   },
   "cell_type": "code",
   "source": "pattern2 = '\\w' #mathches every word",
   "id": "2325c672e3a3cef3",
   "outputs": [],
   "execution_count": 226
  },
  {
   "metadata": {
    "ExecuteTime": {
     "end_time": "2025-02-13T17:57:36.743595Z",
     "start_time": "2025-02-13T17:57:36.739895Z"
    }
   },
   "cell_type": "code",
   "source": [
    "for word in word_list:\n",
    "    if(re.search(pattern2, word)):\n",
    "        print(word)"
   ],
   "id": "178aea04d52d9a8",
   "outputs": [
    {
     "name": "stdout",
     "output_type": "stream",
     "text": [
      "Siyah\n",
      "Sagma\n",
      "Sofa\n",
      "Ses\n",
      "Bed\n",
      "Santa Claus\n"
     ]
    }
   ],
   "execution_count": 228
  },
  {
   "metadata": {
    "ExecuteTime": {
     "end_time": "2025-02-13T18:14:16.248456Z",
     "start_time": "2025-02-13T18:14:16.245459Z"
    }
   },
   "cell_type": "code",
   "source": [
    "name_list =['Isac Asimov',\n",
    "            'Arthur C. Clark',\n",
    "            'Frank Herbert',\n",
    "            'm!sha',\n",
    "            'Zendeya']"
   ],
   "id": "43ac36d352d0d89b",
   "outputs": [],
   "execution_count": 293
  },
  {
   "metadata": {
    "ExecuteTime": {
     "end_time": "2025-02-13T18:14:17.264535Z",
     "start_time": "2025-02-13T18:14:17.261322Z"
    }
   },
   "cell_type": "code",
   "source": "name_pattern = '(\\w+)\\s+(\\w+.)\\s+(\\w+)'",
   "id": "71ecf3f978989ed0",
   "outputs": [],
   "execution_count": 294
  },
  {
   "metadata": {
    "ExecuteTime": {
     "end_time": "2025-02-13T18:21:15.994724Z",
     "start_time": "2025-02-13T18:21:15.990374Z"
    }
   },
   "cell_type": "code",
   "source": [
    "for name in name_list:\n",
    "    match = re.search(name_pattern, name)\n",
    "    if match:\n",
    "      print('MAtch Object:', match)\n",
    "      print('Full Neme:', match.group())\n",
    "      print('First Name:', match.group(1))\n"
   ],
   "id": "e63e22dc56882552",
   "outputs": [
    {
     "name": "stdout",
     "output_type": "stream",
     "text": [
      "MAtch Object: <re.Match object; span=(0, 15), match='Arthur C. Clark'>\n",
      "Full Neme: Arthur C. Clark\n",
      "First Name: Arthur\n"
     ]
    }
   ],
   "execution_count": 311
  },
  {
   "metadata": {
    "ExecuteTime": {
     "end_time": "2025-02-13T18:16:52.951080Z",
     "start_time": "2025-02-13T18:16:52.948174Z"
    }
   },
   "cell_type": "code",
   "source": "name_pattern2 = '^(\\w+)(?:\\s+([A-Z]\\.)?)?\\s+(\\w+)$'",
   "id": "ac953f94aeb8045d",
   "outputs": [],
   "execution_count": 304
  },
  {
   "metadata": {
    "ExecuteTime": {
     "end_time": "2025-02-13T18:16:53.935382Z",
     "start_time": "2025-02-13T18:16:53.931796Z"
    }
   },
   "cell_type": "code",
   "source": [
    "for name in name_list:\n",
    "    match = re.search(name_pattern2, name)\n",
    "    if match:\n",
    "      print(match)"
   ],
   "id": "203c53d92e7b7f1d",
   "outputs": [
    {
     "name": "stdout",
     "output_type": "stream",
     "text": [
      "<re.Match object; span=(0, 11), match='Isac Asimov'>\n",
      "<re.Match object; span=(0, 15), match='Arthur C. Clark'>\n",
      "<re.Match object; span=(0, 13), match='Frank Herbert'>\n"
     ]
    }
   ],
   "execution_count": 305
  },
  {
   "metadata": {},
   "cell_type": "markdown",
   "source": "# String Manipulations",
   "id": "422b11ac4663c821"
  },
  {
   "metadata": {
    "ExecuteTime": {
     "end_time": "2025-02-13T18:20:12.312950Z",
     "start_time": "2025-02-13T18:20:12.301201Z"
    }
   },
   "cell_type": "code",
   "source": [
    "name_list = ['Isac Asimov', 'Arthur C. Clark', 'Frank Herbert']\n",
    "\n",
    "parsed_names = []\n",
    "\n",
    "for name in name_list:\n",
    "    parts = name.split()\n",
    "    first_name = parts[0]\n",
    "    last_name = parts[-1]\n",
    "    middle_initial = parts[1] if len(parts) == 3 else None\n",
    "\n",
    "    parsed_names.append((first_name, middle_initial, last_name))\n",
    "\n",
    "# Print results\n",
    "for first, middle, last in parsed_names:\n",
    "    print(f\"First Name: {first}, Middle Initial: {middle if middle else 'None'}, Last Name: {last}\")\n"
   ],
   "id": "c9f7db551b239195",
   "outputs": [
    {
     "name": "stdout",
     "output_type": "stream",
     "text": [
      "First Name: Isac, Middle Initial: None, Last Name: Asimov\n",
      "First Name: Arthur, Middle Initial: C., Last Name: Clark\n",
      "First Name: Frank, Middle Initial: None, Last Name: Herbert\n"
     ]
    }
   ],
   "execution_count": 310
  },
  {
   "metadata": {},
   "cell_type": "markdown",
   "source": "# Use Pandas",
   "id": "c46f50d208cee746"
  },
  {
   "metadata": {
    "ExecuteTime": {
     "end_time": "2025-02-13T18:24:40.046091Z",
     "start_time": "2025-02-13T18:24:10.567851Z"
    }
   },
   "cell_type": "code",
   "source": "!pip install pandas",
   "id": "5d808b08af712673",
   "outputs": [
    {
     "name": "stdout",
     "output_type": "stream",
     "text": [
      "Collecting pandas\r\n",
      "  Obtaining dependency information for pandas from https://files.pythonhosted.org/packages/a8/44/d9502bf0ed197ba9bf1103c9867d5904ddcaf869e52329787fc54ed70cc8/pandas-2.2.3-cp311-cp311-macosx_10_9_x86_64.whl.metadata\r\n",
      "  Downloading pandas-2.2.3-cp311-cp311-macosx_10_9_x86_64.whl.metadata (89 kB)\r\n",
      "\u001B[2K     \u001B[90m━━━━━━━━━━━━━━━━━━━━━━━━━━━━━━━━━━━━━━━━\u001B[0m \u001B[32m89.9/89.9 kB\u001B[0m \u001B[31m1.2 MB/s\u001B[0m eta \u001B[36m0:00:00\u001B[0ma \u001B[36m0:00:01\u001B[0m\r\n",
      "\u001B[?25hCollecting numpy>=1.23.2 (from pandas)\r\n",
      "  Obtaining dependency information for numpy>=1.23.2 from https://files.pythonhosted.org/packages/e2/a7/b14f0a73eb0fe77cb9bd5b44534c183b23d4229c099e339c522724b02678/numpy-2.2.3-cp311-cp311-macosx_14_0_x86_64.whl.metadata\r\n",
      "  Downloading numpy-2.2.3-cp311-cp311-macosx_14_0_x86_64.whl.metadata (62 kB)\r\n",
      "\u001B[2K     \u001B[90m━━━━━━━━━━━━━━━━━━━━━━━━━━━━━━━━━━━━━━━\u001B[0m \u001B[32m62.0/62.0 kB\u001B[0m \u001B[31m898.0 kB/s\u001B[0m eta \u001B[36m0:00:00\u001B[0m0:01\u001B[0m\r\n",
      "\u001B[?25hRequirement already satisfied: python-dateutil>=2.8.2 in /Users/bilgesipal/PycharmProjects/boun_MIS48D/venv/lib/python3.11/site-packages (from pandas) (2.9.0.post0)\r\n",
      "Collecting pytz>=2020.1 (from pandas)\r\n",
      "  Obtaining dependency information for pytz>=2020.1 from https://files.pythonhosted.org/packages/eb/38/ac33370d784287baa1c3d538978b5e2ea064d4c1b93ffbd12826c190dd10/pytz-2025.1-py2.py3-none-any.whl.metadata\r\n",
      "  Downloading pytz-2025.1-py2.py3-none-any.whl.metadata (22 kB)\r\n",
      "Collecting tzdata>=2022.7 (from pandas)\r\n",
      "  Obtaining dependency information for tzdata>=2022.7 from https://files.pythonhosted.org/packages/0f/dd/84f10e23edd882c6f968c21c2434fe67bd4a528967067515feca9e611e5e/tzdata-2025.1-py2.py3-none-any.whl.metadata\r\n",
      "  Downloading tzdata-2025.1-py2.py3-none-any.whl.metadata (1.4 kB)\r\n",
      "Requirement already satisfied: six>=1.5 in /Users/bilgesipal/PycharmProjects/boun_MIS48D/venv/lib/python3.11/site-packages (from python-dateutil>=2.8.2->pandas) (1.17.0)\r\n",
      "Downloading pandas-2.2.3-cp311-cp311-macosx_10_9_x86_64.whl (12.6 MB)\r\n",
      "\u001B[2K   \u001B[90m━━━━━━━━━━━━━━━━━━━━━━━━━━━━━━━━━━━━━━━━\u001B[0m \u001B[32m12.6/12.6 MB\u001B[0m \u001B[31m1.3 MB/s\u001B[0m eta \u001B[36m0:00:00\u001B[0m00:01\u001B[0m00:01\u001B[0m\r\n",
      "\u001B[?25hDownloading numpy-2.2.3-cp311-cp311-macosx_14_0_x86_64.whl (6.9 MB)\r\n",
      "\u001B[2K   \u001B[90m━━━━━━━━━━━━━━━━━━━━━━━━━━━━━━━━━━━━━━━━\u001B[0m \u001B[32m6.9/6.9 MB\u001B[0m \u001B[31m972.0 kB/s\u001B[0m eta \u001B[36m0:00:00\u001B[0m00:01\u001B[0m00:01\u001B[0m\r\n",
      "\u001B[?25hDownloading pytz-2025.1-py2.py3-none-any.whl (507 kB)\r\n",
      "\u001B[2K   \u001B[90m━━━━━━━━━━━━━━━━━━━━━━━━━━━━━━━━━━━━━━━━\u001B[0m \u001B[32m507.9/507.9 kB\u001B[0m \u001B[31m1.2 MB/s\u001B[0m eta \u001B[36m0:00:00\u001B[0m00:01\u001B[0m00:01\u001B[0m\r\n",
      "\u001B[?25hDownloading tzdata-2025.1-py2.py3-none-any.whl (346 kB)\r\n",
      "\u001B[2K   \u001B[90m━━━━━━━━━━━━━━━━━━━━━━━━━━━━━━━━━━━━━━━━\u001B[0m \u001B[32m346.8/346.8 kB\u001B[0m \u001B[31m1.1 MB/s\u001B[0m eta \u001B[36m0:00:00\u001B[0ma \u001B[36m0:00:01\u001B[0m\r\n",
      "\u001B[?25hInstalling collected packages: pytz, tzdata, numpy, pandas\r\n",
      "Successfully installed numpy-2.2.3 pandas-2.2.3 pytz-2025.1 tzdata-2025.1\r\n",
      "\r\n",
      "\u001B[1m[\u001B[0m\u001B[34;49mnotice\u001B[0m\u001B[1;39;49m]\u001B[0m\u001B[39;49m A new release of pip is available: \u001B[0m\u001B[31;49m23.2.1\u001B[0m\u001B[39;49m -> \u001B[0m\u001B[32;49m25.0.1\u001B[0m\r\n",
      "\u001B[1m[\u001B[0m\u001B[34;49mnotice\u001B[0m\u001B[1;39;49m]\u001B[0m\u001B[39;49m To update, run: \u001B[0m\u001B[32;49mpip install --upgrade pip\u001B[0m\r\n"
     ]
    }
   ],
   "execution_count": 312
  },
  {
   "metadata": {
    "ExecuteTime": {
     "end_time": "2025-02-13T18:27:02.052144Z",
     "start_time": "2025-02-13T18:27:02.045945Z"
    }
   },
   "cell_type": "code",
   "source": [
    "import pandas as pd\n",
    "\n",
    "# Create DataFrame with Science Fiction Writers\n",
    "writers = pd.DataFrame({'Full Name': [\n",
    "    'Isaac Asimov',\n",
    "    'Arthur C. Clarke',\n",
    "    'Frank Herbert',\n",
    "    'Philip K. Dick',\n",
    "    'Ursula K. Le Guin',\n",
    "    'H.G. Wells'\n",
    "]})\n",
    "\n",
    "# Extract first name using a lambda function\n",
    "writers['First Name'] = writers['Full Name'].apply(lambda x: x.split()[0])\n",
    "\n",
    "# Display DataFrame\n",
    "print(writers)\n",
    "\n"
   ],
   "id": "c59760b3622217c3",
   "outputs": [
    {
     "name": "stdout",
     "output_type": "stream",
     "text": [
      "           Full Name First Name\n",
      "0       Isaac Asimov      Isaac\n",
      "1   Arthur C. Clarke     Arthur\n",
      "2      Frank Herbert      Frank\n",
      "3     Philip K. Dick     Philip\n",
      "4  Ursula K. Le Guin     Ursula\n",
      "5         H.G. Wells       H.G.\n"
     ]
    }
   ],
   "execution_count": 314
  },
  {
   "metadata": {},
   "cell_type": "markdown",
   "source": "",
   "id": "8e15d4742b6d0274"
  },
  {
   "metadata": {},
   "cell_type": "code",
   "outputs": [],
   "execution_count": null,
   "source": "",
   "id": "fd8d6167af9b93ec"
  },
  {
   "metadata": {},
   "cell_type": "code",
   "outputs": [],
   "execution_count": null,
   "source": "",
   "id": "b9d43f90ea1b85bc"
  },
  {
   "metadata": {},
   "cell_type": "code",
   "outputs": [],
   "execution_count": null,
   "source": "",
   "id": "b8a6806838b333e7"
  },
  {
   "metadata": {},
   "cell_type": "code",
   "outputs": [],
   "execution_count": null,
   "source": "",
   "id": "9db967024e092d41"
  }
 ],
 "metadata": {
  "kernelspec": {
   "display_name": "Python 3 (ipykernel)",
   "language": "python",
   "name": "python3"
  },
  "language_info": {
   "codemirror_mode": {
    "name": "ipython",
    "version": 3
   },
   "file_extension": ".py",
   "mimetype": "text/x-python",
   "name": "python",
   "nbconvert_exporter": "python",
   "pygments_lexer": "ipython3",
   "version": "3.11.3"
  }
 },
 "nbformat": 4,
 "nbformat_minor": 5
}
