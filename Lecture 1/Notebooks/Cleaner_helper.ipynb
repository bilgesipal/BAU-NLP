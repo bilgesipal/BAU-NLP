{
 "cells": [
  {
   "metadata": {},
   "cell_type": "markdown",
   "source": "# Regular Expressions",
   "id": "3e4aebd9c2af3126"
  },
  {
   "metadata": {
    "ExecuteTime": {
     "end_time": "2025-10-10T12:02:19.692039Z",
     "start_time": "2025-10-10T12:02:19.688383Z"
    }
   },
   "cell_type": "code",
   "source": "import re",
   "id": "40bd700b05d195c4",
   "outputs": [],
   "execution_count": 2
  },
  {
   "metadata": {},
   "cell_type": "markdown",
   "source": "## Find the email adresses in the given text list.",
   "id": "302105d853860d87"
  },
  {
   "metadata": {
    "ExecuteTime": {
     "end_time": "2025-10-10T12:02:10.361409Z",
     "start_time": "2025-10-10T12:02:10.352715Z"
    }
   },
   "cell_type": "code",
   "source": [
    "text = ['hello',\n",
    "        'arthur.clark@bogazici.edu.tr',\n",
    "        'hg.wells@yahoo.com',\n",
    "         'isaas_asimov@yahoo.com',\n",
    "         'frank-herbert@yahoo.com',\n",
    "       'aclrk@aol.net',\n",
    "        'this45']"
   ],
   "id": "25bb78cdd46ef1e7",
   "outputs": [],
   "execution_count": 1
  },
  {
   "metadata": {},
   "cell_type": "markdown",
   "source": "[a-zA-Z0-9_.+-]+ → Matches the local part of the email (before @), allowing letters, digits, dots, underscores, plus, and hyphens.",
   "id": "3ee023a1f2aec3b9"
  },
  {
   "cell_type": "code",
   "id": "1ebb27f24a40161f",
   "metadata": {
    "ExecuteTime": {
     "end_time": "2025-10-10T12:02:22.576103Z",
     "start_time": "2025-10-10T12:02:22.573083Z"
    }
   },
   "source": "re_pattern = \"[a-zA-Z0-9]+@[a-zA-Z]+\\.(com|net)\"",
   "outputs": [],
   "execution_count": 3
  },
  {
   "cell_type": "code",
   "id": "5e6312c17d5d09f6",
   "metadata": {
    "ExecuteTime": {
     "end_time": "2025-10-10T12:02:26.413994Z",
     "start_time": "2025-10-10T12:02:26.410493Z"
    }
   },
   "source": [
    "for i in range(len(text)):\n",
    "    if(re.search(re_pattern, text[i])):\n",
    "        print(text[i])"
   ],
   "outputs": [
    {
     "name": "stdout",
     "output_type": "stream",
     "text": [
      "hg.wells@yahoo.com\n",
      "isaas_asimov@yahoo.com\n",
      "frank-herbert@yahoo.com\n",
      "aclrk@aol.net\n"
     ]
    }
   ],
   "execution_count": 4
  },
  {
   "metadata": {},
   "cell_type": "markdown",
   "source": [
    "*    \\ \\.  Escapes the dot to match the literal . in domain names.\n",
    "* [a-zA-Z0-9-.]+  Matches the top-level domain (e.g., .com, .edu.tr, etc.)."
   ],
   "id": "ae657c6f11f4f02f"
  },
  {
   "cell_type": "code",
   "id": "f37abde0b7fd29a4",
   "metadata": {
    "ExecuteTime": {
     "end_time": "2025-10-10T12:03:31.161346Z",
     "start_time": "2025-10-10T12:03:31.157804Z"
    }
   },
   "source": "re_pattern2 = \"[a-zA-Z0-9]+@[a-zA-Z]+\\.[a-zA-Z0-9]\"",
   "outputs": [],
   "execution_count": 5
  },
  {
   "cell_type": "code",
   "id": "9457cb268e08ae29",
   "metadata": {
    "ExecuteTime": {
     "end_time": "2025-10-10T12:03:32.964427Z",
     "start_time": "2025-10-10T12:03:32.960778Z"
    }
   },
   "source": [
    "for i in range(len(text)):\n",
    "    if(re.search(re_pattern2, text[i])):\n",
    "        print(text[i])"
   ],
   "outputs": [
    {
     "name": "stdout",
     "output_type": "stream",
     "text": [
      "arthur.clark@bogazici.edu.tr\n",
      "hg.wells@yahoo.com\n",
      "isaas_asimov@yahoo.com\n",
      "frank-herbert@yahoo.com\n",
      "aclrk@aol.net\n"
     ]
    }
   ],
   "execution_count": 6
  },
  {
   "metadata": {},
   "cell_type": "markdown",
   "source": "## Merge the given seperated digits",
   "id": "20312d443d27bda2"
  },
  {
   "metadata": {
    "ExecuteTime": {
     "end_time": "2025-10-10T12:04:10.529642Z",
     "start_time": "2025-10-10T12:04:10.525976Z"
    }
   },
   "cell_type": "code",
   "source": "number_lists =['123-456-789',  '345-567-980']",
   "id": "d9ce5dfd837a27f2",
   "outputs": [],
   "execution_count": 7
  },
  {
   "metadata": {
    "ExecuteTime": {
     "end_time": "2025-10-10T12:04:13.658942Z",
     "start_time": "2025-10-10T12:04:13.655660Z"
    }
   },
   "cell_type": "code",
   "source": [
    "for number in number_lists:\n",
    "    merged = re.sub(r'-', '', number)\n",
    "    print(merged)"
   ],
   "id": "fa8bc580241aba34",
   "outputs": [
    {
     "name": "stdout",
     "output_type": "stream",
     "text": [
      "123456789\n",
      "345567980\n"
     ]
    }
   ],
   "execution_count": 8
  },
  {
   "metadata": {},
   "cell_type": "markdown",
   "source": "## Some Useful Patterns\n",
   "id": "e0017c99b64e665b"
  },
  {
   "metadata": {
    "ExecuteTime": {
     "end_time": "2025-10-10T12:06:13.555912Z",
     "start_time": "2025-10-10T12:06:13.552772Z"
    }
   },
   "cell_type": "code",
   "source": [
    "word_list = ['Siyah',\n",
    "             'Sagma',\n",
    "             'Sofa',\n",
    "             'Ses',\n",
    "             'Bed',\n",
    "             'Santa Claus']"
   ],
   "id": "52d7c76d47d97959",
   "outputs": [],
   "execution_count": 10
  },
  {
   "metadata": {
    "ExecuteTime": {
     "end_time": "2025-10-10T12:06:14.945889Z",
     "start_time": "2025-10-10T12:06:14.942772Z"
    }
   },
   "cell_type": "code",
   "source": "pattern = '^S.+a$' # dollar and caret show the position a is the lowercase character",
   "id": "22351e038b86818a",
   "outputs": [],
   "execution_count": 11
  },
  {
   "metadata": {},
   "cell_type": "markdown",
   "source": [
    "\n",
    "* ^ → Matches the start of the string.\n",
    "* S → Matches the uppercase letter 'S' at the beginning.\n",
    "* .+ → Matches one or more of any character (except newlines).\n",
    "* a → Matches the lowercase letter 'a'.\n",
    "* $ → Matches the end of the string."
   ],
   "id": "3e7384c1429b8743"
  },
  {
   "metadata": {
    "ExecuteTime": {
     "end_time": "2025-10-10T12:06:16.379158Z",
     "start_time": "2025-10-10T12:06:16.375823Z"
    }
   },
   "cell_type": "code",
   "source": [
    "for word in word_list:\n",
    "    if(re.search(pattern, word)):\n",
    "        print(word)"
   ],
   "id": "12a8b5d9dcd3d1b1",
   "outputs": [
    {
     "name": "stdout",
     "output_type": "stream",
     "text": [
      "Sagma\n",
      "Sofa\n"
     ]
    }
   ],
   "execution_count": 12
  },
  {
   "metadata": {
    "ExecuteTime": {
     "end_time": "2025-02-14T10:56:16.201345Z",
     "start_time": "2025-02-14T10:56:16.197943Z"
    }
   },
   "cell_type": "code",
   "source": "pattern2 = '\\w' #mathches every word",
   "id": "2325c672e3a3cef3",
   "outputs": [],
   "execution_count": 12
  },
  {
   "metadata": {
    "ExecuteTime": {
     "end_time": "2025-02-14T10:56:16.456467Z",
     "start_time": "2025-02-14T10:56:16.452375Z"
    }
   },
   "cell_type": "code",
   "source": [
    "for word in word_list:\n",
    "    if(re.search(pattern2, word)):\n",
    "        print(word)"
   ],
   "id": "178aea04d52d9a8",
   "outputs": [
    {
     "name": "stdout",
     "output_type": "stream",
     "text": [
      "Siyah\n",
      "Sagma\n",
      "Sofa\n",
      "Ses\n",
      "Bed\n",
      "Santa Claus\n"
     ]
    }
   ],
   "execution_count": 13
  },
  {
   "metadata": {
    "ExecuteTime": {
     "end_time": "2025-02-14T10:56:16.720029Z",
     "start_time": "2025-02-14T10:56:16.716291Z"
    }
   },
   "cell_type": "code",
   "source": [
    "name_list =['Isac Asimov',\n",
    "            'Arthur C. Clark',\n",
    "            'Frank Herbert',\n",
    "            'm!sha',\n",
    "            'Zendeya']"
   ],
   "id": "43ac36d352d0d89b",
   "outputs": [],
   "execution_count": 14
  },
  {
   "metadata": {
    "ExecuteTime": {
     "end_time": "2025-02-14T10:56:16.965409Z",
     "start_time": "2025-02-14T10:56:16.962226Z"
    }
   },
   "cell_type": "code",
   "source": "name_pattern = '(\\w+)\\s+(\\w+.)\\s+(\\w+)'",
   "id": "71ecf3f978989ed0",
   "outputs": [],
   "execution_count": 15
  },
  {
   "metadata": {
    "ExecuteTime": {
     "end_time": "2025-02-14T10:56:17.292013Z",
     "start_time": "2025-02-14T10:56:17.287636Z"
    }
   },
   "cell_type": "code",
   "source": [
    "for name in name_list:\n",
    "    match = re.search(name_pattern, name)\n",
    "    if match:\n",
    "      print('MAtch Object:', match)\n",
    "      print('Full Neme:', match.group())\n",
    "      print('First Name:', match.group(1))\n"
   ],
   "id": "e63e22dc56882552",
   "outputs": [
    {
     "name": "stdout",
     "output_type": "stream",
     "text": [
      "MAtch Object: <re.Match object; span=(0, 15), match='Arthur C. Clark'>\n",
      "Full Neme: Arthur C. Clark\n",
      "First Name: Arthur\n"
     ]
    }
   ],
   "execution_count": 16
  },
  {
   "metadata": {
    "ExecuteTime": {
     "end_time": "2025-02-14T10:56:17.628332Z",
     "start_time": "2025-02-14T10:56:17.624080Z"
    }
   },
   "cell_type": "code",
   "source": "name_pattern2 = '^(\\w+)(?:\\s+([A-Z]\\.)?)?\\s+(\\w+)$'",
   "id": "ac953f94aeb8045d",
   "outputs": [],
   "execution_count": 17
  },
  {
   "metadata": {
    "ExecuteTime": {
     "end_time": "2025-02-14T10:56:17.881382Z",
     "start_time": "2025-02-14T10:56:17.876468Z"
    }
   },
   "cell_type": "code",
   "source": [
    "for name in name_list:\n",
    "    match = re.search(name_pattern2, name)\n",
    "    if match:\n",
    "      print(match)"
   ],
   "id": "203c53d92e7b7f1d",
   "outputs": [
    {
     "name": "stdout",
     "output_type": "stream",
     "text": [
      "<re.Match object; span=(0, 11), match='Isac Asimov'>\n",
      "<re.Match object; span=(0, 15), match='Arthur C. Clark'>\n",
      "<re.Match object; span=(0, 13), match='Frank Herbert'>\n"
     ]
    }
   ],
   "execution_count": 18
  },
  {
   "metadata": {},
   "cell_type": "markdown",
   "source": "# String Manipulations",
   "id": "422b11ac4663c821"
  },
  {
   "metadata": {
    "ExecuteTime": {
     "end_time": "2025-02-14T10:56:18.370323Z",
     "start_time": "2025-02-14T10:56:18.364390Z"
    }
   },
   "cell_type": "code",
   "source": [
    "name_list = ['Isac Asimov', 'Arthur C. Clark', 'Frank Herbert']\n",
    "\n",
    "parsed_names = []\n",
    "\n",
    "for name in name_list:\n",
    "    parts = name.split()\n",
    "    first_name = parts[0]\n",
    "    last_name = parts[-1]\n",
    "    middle_initial = parts[1] if len(parts) == 3 else None\n",
    "\n",
    "    parsed_names.append((first_name, middle_initial, last_name))\n",
    "\n",
    "# Print results\n",
    "for first, middle, last in parsed_names:\n",
    "    print(f\"First Name: {first}, Middle Initial: {middle if middle else 'None'}, Last Name: {last}\")\n"
   ],
   "id": "c9f7db551b239195",
   "outputs": [
    {
     "name": "stdout",
     "output_type": "stream",
     "text": [
      "First Name: Isac, Middle Initial: None, Last Name: Asimov\n",
      "First Name: Arthur, Middle Initial: C., Last Name: Clark\n",
      "First Name: Frank, Middle Initial: None, Last Name: Herbert\n"
     ]
    }
   ],
   "execution_count": 19
  },
  {
   "metadata": {},
   "cell_type": "markdown",
   "source": "# Use Pandas",
   "id": "c46f50d208cee746"
  },
  {
   "metadata": {
    "ExecuteTime": {
     "end_time": "2025-02-14T10:56:22.641649Z",
     "start_time": "2025-02-14T10:56:19.137500Z"
    }
   },
   "cell_type": "code",
   "source": "!pip install pandas",
   "id": "5d808b08af712673",
   "outputs": [
    {
     "name": "stdout",
     "output_type": "stream",
     "text": [
      "Requirement already satisfied: pandas in /Users/bilgesipal/PycharmProjects/boun_MIS48D/venv/lib/python3.11/site-packages (2.2.3)\r\n",
      "Requirement already satisfied: numpy>=1.23.2 in /Users/bilgesipal/PycharmProjects/boun_MIS48D/venv/lib/python3.11/site-packages (from pandas) (2.2.3)\r\n",
      "Requirement already satisfied: python-dateutil>=2.8.2 in /Users/bilgesipal/PycharmProjects/boun_MIS48D/venv/lib/python3.11/site-packages (from pandas) (2.9.0.post0)\r\n",
      "Requirement already satisfied: pytz>=2020.1 in /Users/bilgesipal/PycharmProjects/boun_MIS48D/venv/lib/python3.11/site-packages (from pandas) (2025.1)\r\n",
      "Requirement already satisfied: tzdata>=2022.7 in /Users/bilgesipal/PycharmProjects/boun_MIS48D/venv/lib/python3.11/site-packages (from pandas) (2025.1)\r\n",
      "Requirement already satisfied: six>=1.5 in /Users/bilgesipal/PycharmProjects/boun_MIS48D/venv/lib/python3.11/site-packages (from python-dateutil>=2.8.2->pandas) (1.17.0)\r\n",
      "\r\n",
      "\u001B[1m[\u001B[0m\u001B[34;49mnotice\u001B[0m\u001B[1;39;49m]\u001B[0m\u001B[39;49m A new release of pip is available: \u001B[0m\u001B[31;49m23.2.1\u001B[0m\u001B[39;49m -> \u001B[0m\u001B[32;49m25.0.1\u001B[0m\r\n",
      "\u001B[1m[\u001B[0m\u001B[34;49mnotice\u001B[0m\u001B[1;39;49m]\u001B[0m\u001B[39;49m To update, run: \u001B[0m\u001B[32;49mpip install --upgrade pip\u001B[0m\r\n"
     ]
    }
   ],
   "execution_count": 20
  },
  {
   "metadata": {
    "ExecuteTime": {
     "end_time": "2025-02-14T10:56:23.381368Z",
     "start_time": "2025-02-14T10:56:22.648402Z"
    }
   },
   "cell_type": "code",
   "source": [
    "import pandas as pd\n",
    "\n",
    "# Create DataFrame with Science Fiction Writers\n",
    "writers = pd.DataFrame({'Full Name': [\n",
    "    'Isaac Asimov',\n",
    "    'Arthur C. Clarke',\n",
    "    'Frank Herbert',\n",
    "    'Philip K. Dick',\n",
    "    'Ursula K. Le Guin',\n",
    "    'H.G. Wells'\n",
    "]})\n",
    "\n",
    "# Extract first name using a lambda function\n",
    "writers['First Name'] = writers['Full Name'].apply(lambda x: x.split()[0])\n",
    "\n",
    "# Display DataFrame\n",
    "print(writers)\n",
    "\n"
   ],
   "id": "c59760b3622217c3",
   "outputs": [
    {
     "name": "stdout",
     "output_type": "stream",
     "text": [
      "           Full Name First Name\n",
      "0       Isaac Asimov      Isaac\n",
      "1   Arthur C. Clarke     Arthur\n",
      "2      Frank Herbert      Frank\n",
      "3     Philip K. Dick     Philip\n",
      "4  Ursula K. Le Guin     Ursula\n",
      "5         H.G. Wells       H.G.\n"
     ]
    }
   ],
   "execution_count": 21
  },
  {
   "metadata": {},
   "cell_type": "markdown",
   "source": "",
   "id": "8e15d4742b6d0274"
  },
  {
   "metadata": {},
   "cell_type": "code",
   "source": "",
   "id": "fd8d6167af9b93ec",
   "outputs": [],
   "execution_count": null
  },
  {
   "metadata": {},
   "cell_type": "code",
   "source": "",
   "id": "b9d43f90ea1b85bc",
   "outputs": [],
   "execution_count": null
  },
  {
   "metadata": {},
   "cell_type": "code",
   "source": "",
   "id": "b8a6806838b333e7",
   "outputs": [],
   "execution_count": null
  },
  {
   "metadata": {},
   "cell_type": "code",
   "source": "",
   "id": "9db967024e092d41",
   "outputs": [],
   "execution_count": null
  }
 ],
 "metadata": {
  "kernelspec": {
   "display_name": "Python 3 (ipykernel)",
   "language": "python",
   "name": "python3"
  },
  "language_info": {
   "codemirror_mode": {
    "name": "ipython",
    "version": 3
   },
   "file_extension": ".py",
   "mimetype": "text/x-python",
   "name": "python",
   "nbconvert_exporter": "python",
   "pygments_lexer": "ipython3",
   "version": "3.11.3"
  }
 },
 "nbformat": 4,
 "nbformat_minor": 5
}
