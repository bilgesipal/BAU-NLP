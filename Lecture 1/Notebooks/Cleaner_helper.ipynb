{
 "cells": [
  {
   "metadata": {},
   "cell_type": "markdown",
   "source": "# Regular Expressions",
   "id": "3e4aebd9c2af3126"
  },
  {
   "metadata": {},
   "cell_type": "code",
   "source": "import re",
   "id": "40bd700b05d195c4",
   "outputs": [],
   "execution_count": null
  },
  {
   "metadata": {},
   "cell_type": "markdown",
   "source": "## Find the email adresses in the given text list.",
   "id": "302105d853860d87"
  },
  {
   "metadata": {},
   "cell_type": "code",
   "source": [
    "text = ['hello',\n",
    "        'arthur.clark@bogazici.edu.tr',\n",
    "        'hg.wells@yahoo.com',\n",
    "         'isaas_asimov@yahoo.com',\n",
    "         'frank-herbert@yahoo.com',\n",
    "       'aclrk@aol.net',\n",
    "        'this45']"
   ],
   "id": "25bb78cdd46ef1e7",
   "outputs": [],
   "execution_count": null
  },
  {
   "metadata": {},
   "cell_type": "markdown",
   "source": "[a-zA-Z0-9_.+-]+ → Matches the local part of the email (before @), allowing letters, digits, dots, underscores, plus, and hyphens.",
   "id": "3ee023a1f2aec3b9"
  },
  {
   "cell_type": "code",
   "id": "1ebb27f24a40161f",
   "metadata": {},
   "source": "re_pattern = \"[a-zA-Z0-9]+@[a-zA-Z]+\\.(com|net)\"",
   "outputs": [],
   "execution_count": null
  },
  {
   "cell_type": "code",
   "id": "5e6312c17d5d09f6",
   "metadata": {},
   "source": [
    "for i in range(len(text)):\n",
    "    if(re.search(re_pattern, text[i])):\n",
    "        print(text[i])"
   ],
   "outputs": [],
   "execution_count": null
  },
  {
   "metadata": {},
   "cell_type": "markdown",
   "source": [
    "*    \\ \\.  Escapes the dot to match the literal . in domain names.\n",
    "* [a-zA-Z0-9-.]+  Matches the top-level domain (e.g., .com, .edu.tr, etc.)."
   ],
   "id": "ae657c6f11f4f02f"
  },
  {
   "cell_type": "code",
   "id": "f37abde0b7fd29a4",
   "metadata": {},
   "source": "re_pattern2 = \"[a-zA-Z0-9]+@[a-zA-Z]+\\.[a-zA-Z0-9]\"",
   "outputs": [],
   "execution_count": null
  },
  {
   "cell_type": "code",
   "id": "9457cb268e08ae29",
   "metadata": {},
   "source": [
    "for i in range(len(text)):\n",
    "    if(re.search(re_pattern2, text[i])):\n",
    "        print(text[i])"
   ],
   "outputs": [],
   "execution_count": null
  },
  {
   "metadata": {},
   "cell_type": "markdown",
   "source": "## Merge the given seperated digits",
   "id": "20312d443d27bda2"
  },
  {
   "metadata": {},
   "cell_type": "code",
   "source": "number_lists =['123-456-789',  '345-567-980']",
   "id": "d9ce5dfd837a27f2",
   "outputs": [],
   "execution_count": null
  },
  {
   "metadata": {},
   "cell_type": "code",
   "source": [
    "for number in number_lists:\n",
    "    merged = re.sub(r'-', '', number)\n",
    "    print(merged)"
   ],
   "id": "fa8bc580241aba34",
   "outputs": [],
   "execution_count": null
  },
  {
   "metadata": {},
   "cell_type": "markdown",
   "source": "## Some Useful Patterns\n",
   "id": "e0017c99b64e665b"
  },
  {
   "metadata": {},
   "cell_type": "code",
   "source": [
    "word_list = ['Siyah',\n",
    "             'Sagma',\n",
    "             'Sofa',\n",
    "             'Ses',\n",
    "             'Bed',\n",
    "             'Santa Claus']"
   ],
   "id": "52d7c76d47d97959",
   "outputs": [],
   "execution_count": null
  },
  {
   "metadata": {},
   "cell_type": "code",
   "source": "pattern = '^S.+a$' # dollar and caret show the position a is the lowercase character",
   "id": "22351e038b86818a",
   "outputs": [],
   "execution_count": null
  },
  {
   "metadata": {},
   "cell_type": "markdown",
   "source": [
    "\n",
    "* ^ → Matches the start of the string.\n",
    "* S → Matches the uppercase letter 'S' at the beginning.\n",
    "* .+ → Matches one or more of any character (except newlines).\n",
    "* a → Matches the lowercase letter 'a'.\n",
    "* $ → Matches the end of the string."
   ],
   "id": "3e7384c1429b8743"
  },
  {
   "metadata": {},
   "cell_type": "code",
   "source": [
    "for word in word_list:\n",
    "    if(re.search(pattern, word)):\n",
    "        print(word)"
   ],
   "id": "12a8b5d9dcd3d1b1",
   "outputs": [],
   "execution_count": null
  },
  {
   "metadata": {},
   "cell_type": "code",
   "source": "pattern2 = '\\w' #mathches every word",
   "id": "2325c672e3a3cef3",
   "outputs": [],
   "execution_count": null
  },
  {
   "metadata": {},
   "cell_type": "code",
   "source": [
    "for word in word_list:\n",
    "    if(re.search(pattern2, word)):\n",
    "        print(word)"
   ],
   "id": "178aea04d52d9a8",
   "outputs": [],
   "execution_count": null
  },
  {
   "metadata": {},
   "cell_type": "code",
   "source": [
    "name_list =['Isac Asimov',\n",
    "            'Arthur C. Clark',\n",
    "            'Frank Herbert',\n",
    "            'm!sha',\n",
    "            'Zendeya']"
   ],
   "id": "43ac36d352d0d89b",
   "outputs": [],
   "execution_count": null
  },
  {
   "metadata": {},
   "cell_type": "code",
   "source": "name_pattern = '(\\w+)\\s+(\\w+.)\\s+(\\w+)'",
   "id": "71ecf3f978989ed0",
   "outputs": [],
   "execution_count": null
  },
  {
   "metadata": {},
   "cell_type": "code",
   "source": [
    "for name in name_list:\n",
    "    match = re.search(name_pattern, name)\n",
    "    if match:\n",
    "      print('MAtch Object:', match)\n",
    "      print('Full Neme:', match.group())\n",
    "      print('First Name:', match.group(1))\n"
   ],
   "id": "e63e22dc56882552",
   "outputs": [],
   "execution_count": null
  },
  {
   "metadata": {},
   "cell_type": "code",
   "source": "name_pattern2 = '^(\\w+)(?:\\s+([A-Z]\\.)?)?\\s+(\\w+)$'",
   "id": "ac953f94aeb8045d",
   "outputs": [],
   "execution_count": null
  },
  {
   "metadata": {},
   "cell_type": "code",
   "source": [
    "for name in name_list:\n",
    "    match = re.search(name_pattern2, name)\n",
    "    if match:\n",
    "      print(match)"
   ],
   "id": "203c53d92e7b7f1d",
   "outputs": [],
   "execution_count": null
  },
  {
   "metadata": {},
   "cell_type": "markdown",
   "source": "# String Manipulations",
   "id": "422b11ac4663c821"
  },
  {
   "metadata": {},
   "cell_type": "code",
   "source": [
    "name_list = ['Isac Asimov', 'Arthur C. Clark', 'Frank Herbert']\n",
    "\n",
    "parsed_names = []\n",
    "\n",
    "for name in name_list:\n",
    "    parts = name.split()\n",
    "    first_name = parts[0]\n",
    "    last_name = parts[-1]\n",
    "    middle_initial = parts[1] if len(parts) == 3 else None\n",
    "\n",
    "    parsed_names.append((first_name, middle_initial, last_name))\n",
    "\n",
    "# Print results\n",
    "for first, middle, last in parsed_names:\n",
    "    print(f\"First Name: {first}, Middle Initial: {middle if middle else 'None'}, Last Name: {last}\")\n"
   ],
   "id": "c9f7db551b239195",
   "outputs": [],
   "execution_count": null
  },
  {
   "metadata": {},
   "cell_type": "markdown",
   "source": "# Use Pandas",
   "id": "c46f50d208cee746"
  },
  {
   "metadata": {},
   "cell_type": "code",
   "source": "!pip install pandas",
   "id": "5d808b08af712673",
   "outputs": [],
   "execution_count": null
  },
  {
   "metadata": {},
   "cell_type": "code",
   "source": [
    "import pandas as pd\n",
    "\n",
    "# Create DataFrame with Science Fiction Writers\n",
    "writers = pd.DataFrame({'Full Name': [\n",
    "    'Isaac Asimov',\n",
    "    'Arthur C. Clarke',\n",
    "    'Frank Herbert',\n",
    "    'Philip K. Dick',\n",
    "    'Ursula K. Le Guin',\n",
    "    'H.G. Wells'\n",
    "]})\n",
    "\n",
    "# Extract first name using a lambda function\n",
    "writers['First Name'] = writers['Full Name'].apply(lambda x: x.split()[0])\n",
    "\n",
    "# Display DataFrame\n",
    "print(writers)\n",
    "\n"
   ],
   "id": "c59760b3622217c3",
   "outputs": [],
   "execution_count": null
  },
  {
   "metadata": {},
   "cell_type": "markdown",
   "source": "",
   "id": "8e15d4742b6d0274"
  },
  {
   "metadata": {},
   "cell_type": "code",
   "source": "",
   "id": "fd8d6167af9b93ec",
   "outputs": [],
   "execution_count": null
  },
  {
   "metadata": {},
   "cell_type": "code",
   "source": "",
   "id": "b9d43f90ea1b85bc",
   "outputs": [],
   "execution_count": null
  },
  {
   "metadata": {},
   "cell_type": "code",
   "source": "",
   "id": "b8a6806838b333e7",
   "outputs": [],
   "execution_count": null
  },
  {
   "metadata": {},
   "cell_type": "code",
   "source": "",
   "id": "9db967024e092d41",
   "outputs": [],
   "execution_count": null
  }
 ],
 "metadata": {
  "kernelspec": {
   "display_name": "Python 3 (ipykernel)",
   "language": "python",
   "name": "python3"
  },
  "language_info": {
   "codemirror_mode": {
    "name": "ipython",
    "version": 3
   },
   "file_extension": ".py",
   "mimetype": "text/x-python",
   "name": "python",
   "nbconvert_exporter": "python",
   "pygments_lexer": "ipython3",
   "version": "3.11.3"
  }
 },
 "nbformat": 4,
 "nbformat_minor": 5
}
